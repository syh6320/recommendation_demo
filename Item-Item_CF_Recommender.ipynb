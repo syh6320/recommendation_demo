{
 "cells": [
  {
   "cell_type": "markdown",
   "metadata": {},
   "source": [
    "# Item - Item Collaborative Filter Recommender"
   ]
  },
  {
   "cell_type": "code",
   "execution_count": 1,
   "metadata": {
    "collapsed": true
   },
   "outputs": [],
   "source": [
    "import numpy as np\n",
    "import pandas as pd\n",
    "from scipy import sparse\n",
    "from sklearn.metrics.pairwise import cosine_similarity\n",
    "from time import time"
   ]
  },
  {
   "cell_type": "markdown",
   "metadata": {},
   "source": [
    "## Load data to pandas"
   ]
  },
  {
   "cell_type": "code",
   "execution_count": 2,
   "metadata": {
    "collapsed": true
   },
   "outputs": [],
   "source": [
    "df_ratings_contents = pd.read_table(\"data/u.data\",\n",
    "                                    names=[\"user\", \"movie\", \"rating\", \"timestamp\"])"
   ]
  },
  {
   "cell_type": "code",
   "execution_count": 3,
   "metadata": {
    "collapsed": false
   },
   "outputs": [
    {
     "data": {
      "text/html": [
       "<div>\n",
       "<style>\n",
       "    .dataframe thead tr:only-child th {\n",
       "        text-align: right;\n",
       "    }\n",
       "\n",
       "    .dataframe thead th {\n",
       "        text-align: left;\n",
       "    }\n",
       "\n",
       "    .dataframe tbody tr th {\n",
       "        vertical-align: top;\n",
       "    }\n",
       "</style>\n",
       "<table border=\"1\" class=\"dataframe\">\n",
       "  <thead>\n",
       "    <tr style=\"text-align: right;\">\n",
       "      <th></th>\n",
       "      <th>user</th>\n",
       "      <th>movie</th>\n",
       "      <th>rating</th>\n",
       "      <th>timestamp</th>\n",
       "    </tr>\n",
       "  </thead>\n",
       "  <tbody>\n",
       "    <tr>\n",
       "      <th>0</th>\n",
       "      <td>196</td>\n",
       "      <td>242</td>\n",
       "      <td>3</td>\n",
       "      <td>881250949</td>\n",
       "    </tr>\n",
       "    <tr>\n",
       "      <th>1</th>\n",
       "      <td>186</td>\n",
       "      <td>302</td>\n",
       "      <td>3</td>\n",
       "      <td>891717742</td>\n",
       "    </tr>\n",
       "    <tr>\n",
       "      <th>2</th>\n",
       "      <td>22</td>\n",
       "      <td>377</td>\n",
       "      <td>1</td>\n",
       "      <td>878887116</td>\n",
       "    </tr>\n",
       "    <tr>\n",
       "      <th>3</th>\n",
       "      <td>244</td>\n",
       "      <td>51</td>\n",
       "      <td>2</td>\n",
       "      <td>880606923</td>\n",
       "    </tr>\n",
       "    <tr>\n",
       "      <th>4</th>\n",
       "      <td>166</td>\n",
       "      <td>346</td>\n",
       "      <td>1</td>\n",
       "      <td>886397596</td>\n",
       "    </tr>\n",
       "  </tbody>\n",
       "</table>\n",
       "</div>"
      ],
      "text/plain": [
       "   user  movie  rating  timestamp\n",
       "0   196    242       3  881250949\n",
       "1   186    302       3  891717742\n",
       "2    22    377       1  878887116\n",
       "3   244     51       2  880606923\n",
       "4   166    346       1  886397596"
      ]
     },
     "execution_count": 3,
     "metadata": {},
     "output_type": "execute_result"
    }
   ],
   "source": [
    "df_ratings_contents.head()"
   ]
  },
  {
   "cell_type": "code",
   "execution_count": 4,
   "metadata": {
    "collapsed": false
   },
   "outputs": [
    {
     "name": "stdout",
     "output_type": "stream",
     "text": [
      "<class 'pandas.core.frame.DataFrame'>\n",
      "RangeIndex: 100000 entries, 0 to 99999\n",
      "Data columns (total 4 columns):\n",
      "user         100000 non-null int64\n",
      "movie        100000 non-null int64\n",
      "rating       100000 non-null int64\n",
      "timestamp    100000 non-null int64\n",
      "dtypes: int64(4)\n",
      "memory usage: 3.1 MB\n"
     ]
    }
   ],
   "source": [
    "df_ratings_contents.info()"
   ]
  },
  {
   "cell_type": "code",
   "execution_count": 5,
   "metadata": {
    "collapsed": false
   },
   "outputs": [
    {
     "data": {
      "text/html": [
       "<div>\n",
       "<style>\n",
       "    .dataframe thead tr:only-child th {\n",
       "        text-align: right;\n",
       "    }\n",
       "\n",
       "    .dataframe thead th {\n",
       "        text-align: left;\n",
       "    }\n",
       "\n",
       "    .dataframe tbody tr th {\n",
       "        vertical-align: top;\n",
       "    }\n",
       "</style>\n",
       "<table border=\"1\" class=\"dataframe\">\n",
       "  <thead>\n",
       "    <tr style=\"text-align: right;\">\n",
       "      <th></th>\n",
       "      <th>user</th>\n",
       "      <th>movie</th>\n",
       "      <th>rating</th>\n",
       "      <th>timestamp</th>\n",
       "    </tr>\n",
       "  </thead>\n",
       "  <tbody>\n",
       "    <tr>\n",
       "      <th>count</th>\n",
       "      <td>100000.00000</td>\n",
       "      <td>100000.000000</td>\n",
       "      <td>100000.000000</td>\n",
       "      <td>1.000000e+05</td>\n",
       "    </tr>\n",
       "    <tr>\n",
       "      <th>mean</th>\n",
       "      <td>462.48475</td>\n",
       "      <td>425.530130</td>\n",
       "      <td>3.529860</td>\n",
       "      <td>8.835289e+08</td>\n",
       "    </tr>\n",
       "    <tr>\n",
       "      <th>std</th>\n",
       "      <td>266.61442</td>\n",
       "      <td>330.798356</td>\n",
       "      <td>1.125674</td>\n",
       "      <td>5.343856e+06</td>\n",
       "    </tr>\n",
       "    <tr>\n",
       "      <th>min</th>\n",
       "      <td>1.00000</td>\n",
       "      <td>1.000000</td>\n",
       "      <td>1.000000</td>\n",
       "      <td>8.747247e+08</td>\n",
       "    </tr>\n",
       "    <tr>\n",
       "      <th>25%</th>\n",
       "      <td>254.00000</td>\n",
       "      <td>175.000000</td>\n",
       "      <td>3.000000</td>\n",
       "      <td>8.794487e+08</td>\n",
       "    </tr>\n",
       "    <tr>\n",
       "      <th>50%</th>\n",
       "      <td>447.00000</td>\n",
       "      <td>322.000000</td>\n",
       "      <td>4.000000</td>\n",
       "      <td>8.828269e+08</td>\n",
       "    </tr>\n",
       "    <tr>\n",
       "      <th>75%</th>\n",
       "      <td>682.00000</td>\n",
       "      <td>631.000000</td>\n",
       "      <td>4.000000</td>\n",
       "      <td>8.882600e+08</td>\n",
       "    </tr>\n",
       "    <tr>\n",
       "      <th>max</th>\n",
       "      <td>943.00000</td>\n",
       "      <td>1682.000000</td>\n",
       "      <td>5.000000</td>\n",
       "      <td>8.932866e+08</td>\n",
       "    </tr>\n",
       "  </tbody>\n",
       "</table>\n",
       "</div>"
      ],
      "text/plain": [
       "               user          movie         rating     timestamp\n",
       "count  100000.00000  100000.000000  100000.000000  1.000000e+05\n",
       "mean      462.48475     425.530130       3.529860  8.835289e+08\n",
       "std       266.61442     330.798356       1.125674  5.343856e+06\n",
       "min         1.00000       1.000000       1.000000  8.747247e+08\n",
       "25%       254.00000     175.000000       3.000000  8.794487e+08\n",
       "50%       447.00000     322.000000       4.000000  8.828269e+08\n",
       "75%       682.00000     631.000000       4.000000  8.882600e+08\n",
       "max       943.00000    1682.000000       5.000000  8.932866e+08"
      ]
     },
     "execution_count": 5,
     "metadata": {},
     "output_type": "execute_result"
    }
   ],
   "source": [
    "df_ratings_contents.describe()"
   ]
  },
  {
   "cell_type": "markdown",
   "metadata": {},
   "source": [
    "## Convert rating records to user-movie utility matrix"
   ]
  },
  {
   "cell_type": "markdown",
   "metadata": {},
   "source": [
    "### Option #1, use pandas.pivot_table"
   ]
  },
  {
   "cell_type": "code",
   "execution_count": 6,
   "metadata": {
    "collapsed": true
   },
   "outputs": [],
   "source": [
    "df_utility = pd.pivot_table(data=df_ratings_contents, \n",
    "                            values='rating', \n",
    "                            index='user', \n",
    "                            columns='movie', \n",
    "                            fill_value=0)"
   ]
  },
  {
   "cell_type": "code",
   "execution_count": 7,
   "metadata": {
    "collapsed": false
   },
   "outputs": [
    {
     "data": {
      "text/html": [
       "<div>\n",
       "<style>\n",
       "    .dataframe thead tr:only-child th {\n",
       "        text-align: right;\n",
       "    }\n",
       "\n",
       "    .dataframe thead th {\n",
       "        text-align: left;\n",
       "    }\n",
       "\n",
       "    .dataframe tbody tr th {\n",
       "        vertical-align: top;\n",
       "    }\n",
       "</style>\n",
       "<table border=\"1\" class=\"dataframe\">\n",
       "  <thead>\n",
       "    <tr style=\"text-align: right;\">\n",
       "      <th>movie</th>\n",
       "      <th>1</th>\n",
       "      <th>2</th>\n",
       "      <th>3</th>\n",
       "      <th>4</th>\n",
       "      <th>5</th>\n",
       "      <th>6</th>\n",
       "      <th>7</th>\n",
       "      <th>8</th>\n",
       "      <th>9</th>\n",
       "      <th>10</th>\n",
       "      <th>...</th>\n",
       "      <th>1673</th>\n",
       "      <th>1674</th>\n",
       "      <th>1675</th>\n",
       "      <th>1676</th>\n",
       "      <th>1677</th>\n",
       "      <th>1678</th>\n",
       "      <th>1679</th>\n",
       "      <th>1680</th>\n",
       "      <th>1681</th>\n",
       "      <th>1682</th>\n",
       "    </tr>\n",
       "    <tr>\n",
       "      <th>user</th>\n",
       "      <th></th>\n",
       "      <th></th>\n",
       "      <th></th>\n",
       "      <th></th>\n",
       "      <th></th>\n",
       "      <th></th>\n",
       "      <th></th>\n",
       "      <th></th>\n",
       "      <th></th>\n",
       "      <th></th>\n",
       "      <th></th>\n",
       "      <th></th>\n",
       "      <th></th>\n",
       "      <th></th>\n",
       "      <th></th>\n",
       "      <th></th>\n",
       "      <th></th>\n",
       "      <th></th>\n",
       "      <th></th>\n",
       "      <th></th>\n",
       "      <th></th>\n",
       "    </tr>\n",
       "  </thead>\n",
       "  <tbody>\n",
       "    <tr>\n",
       "      <th>1</th>\n",
       "      <td>5</td>\n",
       "      <td>3</td>\n",
       "      <td>4</td>\n",
       "      <td>3</td>\n",
       "      <td>3</td>\n",
       "      <td>5</td>\n",
       "      <td>4</td>\n",
       "      <td>1</td>\n",
       "      <td>5</td>\n",
       "      <td>3</td>\n",
       "      <td>...</td>\n",
       "      <td>0</td>\n",
       "      <td>0</td>\n",
       "      <td>0</td>\n",
       "      <td>0</td>\n",
       "      <td>0</td>\n",
       "      <td>0</td>\n",
       "      <td>0</td>\n",
       "      <td>0</td>\n",
       "      <td>0</td>\n",
       "      <td>0</td>\n",
       "    </tr>\n",
       "    <tr>\n",
       "      <th>2</th>\n",
       "      <td>4</td>\n",
       "      <td>0</td>\n",
       "      <td>0</td>\n",
       "      <td>0</td>\n",
       "      <td>0</td>\n",
       "      <td>0</td>\n",
       "      <td>0</td>\n",
       "      <td>0</td>\n",
       "      <td>0</td>\n",
       "      <td>2</td>\n",
       "      <td>...</td>\n",
       "      <td>0</td>\n",
       "      <td>0</td>\n",
       "      <td>0</td>\n",
       "      <td>0</td>\n",
       "      <td>0</td>\n",
       "      <td>0</td>\n",
       "      <td>0</td>\n",
       "      <td>0</td>\n",
       "      <td>0</td>\n",
       "      <td>0</td>\n",
       "    </tr>\n",
       "    <tr>\n",
       "      <th>3</th>\n",
       "      <td>0</td>\n",
       "      <td>0</td>\n",
       "      <td>0</td>\n",
       "      <td>0</td>\n",
       "      <td>0</td>\n",
       "      <td>0</td>\n",
       "      <td>0</td>\n",
       "      <td>0</td>\n",
       "      <td>0</td>\n",
       "      <td>0</td>\n",
       "      <td>...</td>\n",
       "      <td>0</td>\n",
       "      <td>0</td>\n",
       "      <td>0</td>\n",
       "      <td>0</td>\n",
       "      <td>0</td>\n",
       "      <td>0</td>\n",
       "      <td>0</td>\n",
       "      <td>0</td>\n",
       "      <td>0</td>\n",
       "      <td>0</td>\n",
       "    </tr>\n",
       "    <tr>\n",
       "      <th>4</th>\n",
       "      <td>0</td>\n",
       "      <td>0</td>\n",
       "      <td>0</td>\n",
       "      <td>0</td>\n",
       "      <td>0</td>\n",
       "      <td>0</td>\n",
       "      <td>0</td>\n",
       "      <td>0</td>\n",
       "      <td>0</td>\n",
       "      <td>0</td>\n",
       "      <td>...</td>\n",
       "      <td>0</td>\n",
       "      <td>0</td>\n",
       "      <td>0</td>\n",
       "      <td>0</td>\n",
       "      <td>0</td>\n",
       "      <td>0</td>\n",
       "      <td>0</td>\n",
       "      <td>0</td>\n",
       "      <td>0</td>\n",
       "      <td>0</td>\n",
       "    </tr>\n",
       "    <tr>\n",
       "      <th>5</th>\n",
       "      <td>4</td>\n",
       "      <td>3</td>\n",
       "      <td>0</td>\n",
       "      <td>0</td>\n",
       "      <td>0</td>\n",
       "      <td>0</td>\n",
       "      <td>0</td>\n",
       "      <td>0</td>\n",
       "      <td>0</td>\n",
       "      <td>0</td>\n",
       "      <td>...</td>\n",
       "      <td>0</td>\n",
       "      <td>0</td>\n",
       "      <td>0</td>\n",
       "      <td>0</td>\n",
       "      <td>0</td>\n",
       "      <td>0</td>\n",
       "      <td>0</td>\n",
       "      <td>0</td>\n",
       "      <td>0</td>\n",
       "      <td>0</td>\n",
       "    </tr>\n",
       "  </tbody>\n",
       "</table>\n",
       "<p>5 rows × 1682 columns</p>\n",
       "</div>"
      ],
      "text/plain": [
       "movie  1     2     3     4     5     6     7     8     9     10    ...   1673  \\\n",
       "user                                                               ...          \n",
       "1         5     3     4     3     3     5     4     1     5     3  ...      0   \n",
       "2         4     0     0     0     0     0     0     0     0     2  ...      0   \n",
       "3         0     0     0     0     0     0     0     0     0     0  ...      0   \n",
       "4         0     0     0     0     0     0     0     0     0     0  ...      0   \n",
       "5         4     3     0     0     0     0     0     0     0     0  ...      0   \n",
       "\n",
       "movie  1674  1675  1676  1677  1678  1679  1680  1681  1682  \n",
       "user                                                         \n",
       "1         0     0     0     0     0     0     0     0     0  \n",
       "2         0     0     0     0     0     0     0     0     0  \n",
       "3         0     0     0     0     0     0     0     0     0  \n",
       "4         0     0     0     0     0     0     0     0     0  \n",
       "5         0     0     0     0     0     0     0     0     0  \n",
       "\n",
       "[5 rows x 1682 columns]"
      ]
     },
     "execution_count": 7,
     "metadata": {},
     "output_type": "execute_result"
    }
   ],
   "source": [
    "df_utility.head()"
   ]
  },
  {
   "cell_type": "code",
   "execution_count": 8,
   "metadata": {
    "collapsed": false
   },
   "outputs": [
    {
     "name": "stdout",
     "output_type": "stream",
     "text": [
      "<class 'pandas.core.frame.DataFrame'>\n",
      "Int64Index: 943 entries, 1 to 943\n",
      "Columns: 1682 entries, 1 to 1682\n",
      "dtypes: int64(1682)\n",
      "memory usage: 12.1 MB\n"
     ]
    }
   ],
   "source": [
    "df_utility.info()"
   ]
  },
  {
   "cell_type": "markdown",
   "metadata": {},
   "source": [
    "### Option #2, convert to sparse matrix using scipy.sparse.lil_matrix"
   ]
  },
  {
   "cell_type": "code",
   "execution_count": 9,
   "metadata": {
    "collapsed": false
   },
   "outputs": [
    {
     "data": {
      "text/plain": [
       "<943x1682 sparse matrix of type '<type 'numpy.float64'>'\n",
       "\twith 0 stored elements in LInked List format>"
      ]
     },
     "execution_count": 9,
     "metadata": {},
     "output_type": "execute_result"
    }
   ],
   "source": [
    "highest_user_id = df_ratings_contents.user.max()\n",
    "highest_movie_id = df_ratings_contents.movie.max()\n",
    "\n",
    "# make a row-based linked list with size # of users by # of movies\n",
    "ratings_mat = sparse.lil_matrix((highest_user_id, highest_movie_id))\n",
    "ratings_mat"
   ]
  },
  {
   "cell_type": "code",
   "execution_count": 10,
   "metadata": {
    "collapsed": false
   },
   "outputs": [],
   "source": [
    "for _, row in df_ratings_contents.iterrows():\n",
    "    # subtract 1 from id's due to match 0 indexing\n",
    "    ratings_mat[row.user-1, row.movie-1] = row.rating"
   ]
  },
  {
   "cell_type": "code",
   "execution_count": 12,
   "metadata": {
    "collapsed": false
   },
   "outputs": [
    {
     "data": {
      "text/plain": [
       "array([[ 5.,  3.,  4., ...,  0.,  0.,  0.],\n",
       "       [ 4.,  0.,  0., ...,  0.,  0.,  0.],\n",
       "       [ 0.,  0.,  0., ...,  0.,  0.,  0.],\n",
       "       ..., \n",
       "       [ 5.,  0.,  0., ...,  0.,  0.,  0.],\n",
       "       [ 0.,  0.,  0., ...,  0.,  0.,  0.],\n",
       "       [ 0.,  5.,  0., ...,  0.,  0.,  0.]])"
      ]
     },
     "execution_count": 12,
     "metadata": {},
     "output_type": "execute_result"
    }
   ],
   "source": [
    "ratings_mat.toarray()"
   ]
  },
  {
   "cell_type": "markdown",
   "metadata": {},
   "source": [
    "### Let's carry on with option #2"
   ]
  },
  {
   "cell_type": "code",
   "execution_count": 13,
   "metadata": {
    "collapsed": true
   },
   "outputs": [],
   "source": [
    "utility_mat = ratings_mat.toarray()"
   ]
  },
  {
   "cell_type": "markdown",
   "metadata": {},
   "source": [
    "### Calculate item-item similarity matrix"
   ]
  },
  {
   "cell_type": "code",
   "execution_count": 14,
   "metadata": {
    "collapsed": true
   },
   "outputs": [],
   "source": [
    "# Item-Item Similarity Matrix\n",
    "item_sim_mat = cosine_similarity(utility_mat.T)"
   ]
  },
  {
   "cell_type": "code",
   "execution_count": 15,
   "metadata": {
    "collapsed": false
   },
   "outputs": [
    {
     "name": "stdout",
     "output_type": "stream",
     "text": [
      "[[ 1.          0.40238218  0.33024479 ...,  0.          0.04718307\n",
      "   0.04718307]\n",
      " [ 0.40238218  1.          0.27306918 ...,  0.          0.07829936\n",
      "   0.07829936]\n",
      " [ 0.33024479  0.27306918  1.         ...,  0.          0.          0.09687505]\n",
      " ..., \n",
      " [ 0.          0.          0.         ...,  1.          0.          0.        ]\n",
      " [ 0.04718307  0.07829936  0.         ...,  0.          1.          0.        ]\n",
      " [ 0.04718307  0.07829936  0.09687505 ...,  0.          0.          1.        ]]\n"
     ]
    }
   ],
   "source": [
    "print item_sim_mat"
   ]
  },
  {
   "cell_type": "markdown",
   "metadata": {},
   "source": [
    "### Calculate neighborhood"
   ]
  },
  {
   "cell_type": "code",
   "execution_count": 16,
   "metadata": {
    "collapsed": true
   },
   "outputs": [],
   "source": [
    "least_to_most_sim_indexes = np.argsort(item_sim_mat)"
   ]
  },
  {
   "cell_type": "code",
   "execution_count": 17,
   "metadata": {
    "collapsed": false
   },
   "outputs": [
    {
     "data": {
      "text/plain": [
       "array([[1556, 1579, 1616, ...,  180,   49,    0],\n",
       "       [1201, 1524, 1240, ...,  160,  232,    1],\n",
       "       [ 676, 1463, 1464, ...,  762,  409,    2],\n",
       "       ..., \n",
       "       [   0, 1125, 1124, ..., 1677, 1678, 1679],\n",
       "       [ 840, 1120, 1119, ..., 1350, 1671, 1680],\n",
       "       [ 840,  934,  933, ..., 1334,  766, 1681]], dtype=int64)"
      ]
     },
     "execution_count": 17,
     "metadata": {},
     "output_type": "execute_result"
    }
   ],
   "source": [
    "least_to_most_sim_indexes"
   ]
  },
  {
   "cell_type": "code",
   "execution_count": 18,
   "metadata": {
    "collapsed": true
   },
   "outputs": [],
   "source": [
    "# Neighborhoods\n",
    "neighborhood_size = 75\n",
    "neighborhoods = least_to_most_sim_indexes[:, -neighborhood_size - 1: -1]"
   ]
  },
  {
   "cell_type": "code",
   "execution_count": 29,
   "metadata": {
    "collapsed": false
   },
   "outputs": [
    {
     "data": {
      "text/plain": [
       "array([[  98,  844,  273, ...,  120,  180,   49],\n",
       "       [ 422,  684,   63, ...,  384,  160,  232],\n",
       "       [ 551,  549,  420, ...,   41,  762,  409],\n",
       "       ..., \n",
       "       [ 300,  351,  288, ..., 1394, 1677, 1678],\n",
       "       [ 189,  326,  385, ..., 1621, 1350, 1671],\n",
       "       [1078,  947,  205, ..., 1596, 1334,  766]], dtype=int64)"
      ]
     },
     "execution_count": 29,
     "metadata": {},
     "output_type": "execute_result"
    }
   ],
   "source": [
    "neighborhoods"
   ]
  },
  {
   "cell_type": "code",
   "execution_count": 19,
   "metadata": {
    "collapsed": false
   },
   "outputs": [
    {
     "data": {
      "text/plain": [
       "(1682L, 75L)"
      ]
     },
     "execution_count": 19,
     "metadata": {},
     "output_type": "execute_result"
    }
   ],
   "source": [
    "neighborhoods.shape"
   ]
  },
  {
   "cell_type": "markdown",
   "metadata": {},
   "source": [
    "## Make rating prediction on a user"
   ]
  },
  {
   "cell_type": "code",
   "execution_count": 24,
   "metadata": {
    "collapsed": false
   },
   "outputs": [
    {
     "name": "stdout",
     "output_type": "stream",
     "text": [
      "luck user is 153\n"
     ]
    }
   ],
   "source": [
    "# Let's pick a lucky user\n",
    "user_id = np.random.randint(utility_mat.shape[0])\n",
    "print \"luck user is\", user_id"
   ]
  },
  {
   "cell_type": "code",
   "execution_count": 28,
   "metadata": {
    "collapsed": false
   },
   "outputs": [
    {
     "data": {
      "text/plain": [
       "array([ 49,  60,  88, 134, 136, 142, 151, 171, 173, 174, 181, 184, 186,\n",
       "       190, 196, 199, 201, 210, 221, 237, 241, 257, 285, 287, 288, 301,\n",
       "       323, 332, 356, 413, 461, 473, 474, 478, 479, 481, 483, 487, 495,\n",
       "       514, 522, 526, 639, 640, 641, 650, 707, 805, 873, 918, 944], dtype=int64)"
      ]
     },
     "execution_count": 28,
     "metadata": {},
     "output_type": "execute_result"
    }
   ],
   "source": [
    "utility_mat[user_id].nonzero()[0]"
   ]
  },
  {
   "cell_type": "code",
   "execution_count": 31,
   "metadata": {
    "collapsed": false
   },
   "outputs": [
    {
     "name": "stderr",
     "output_type": "stream",
     "text": [
      "G:\\Anaconda2\\lib\\site-packages\\ipykernel\\__main__.py:16: RuntimeWarning: invalid value encountered in divide\n"
     ]
    },
    {
     "name": "stdout",
     "output_type": "stream",
     "text": [
      "[ 3.74496834  4.26032068  4.01913047 ...,  2.45492161  0.          4.3186894 ]\n"
     ]
    }
   ],
   "source": [
    "n_users = utility_mat.shape[0]\n",
    "n_items = utility_mat.shape[1]\n",
    "\n",
    "\n",
    "items_rated_by_this_user = utility_mat[user_id].nonzero()[0]\n",
    "# Just initializing so we have somewhere to put rating preds\n",
    "out = np.zeros(n_items)\n",
    "for item_to_rate in xrange(n_items):\n",
    "    \n",
    "    # find intersection between user-rated items and neighbors of items\n",
    "    relevant_items = np.intersect1d(neighborhoods[item_to_rate],\n",
    "                                    items_rated_by_this_user,\n",
    "                                    assume_unique=True)  # assume_unique speeds up intersection op\n",
    "    \n",
    "    # prediction on items based on item-item similairty\n",
    "    out[item_to_rate] = ratings_mat[user_id, relevant_items] * \\\n",
    "        item_sim_mat[item_to_rate, relevant_items] / \\\n",
    "        item_sim_mat[item_to_rate, relevant_items].sum()\n",
    "\n",
    "\n",
    "pred_ratings = np.nan_to_num(out)\n",
    "print pred_ratings\n",
    "# print(\"Execution time: %f seconds\" % (time()-start_time))"
   ]
  },
  {
   "cell_type": "code",
   "execution_count": 32,
   "metadata": {
    "collapsed": false,
    "scrolled": true
   },
   "outputs": [
    {
     "name": "stderr",
     "output_type": "stream",
     "text": [
      "G:\\Anaconda2\\lib\\site-packages\\ipykernel\\__main__.py:7: RuntimeWarning: invalid value encountered in divide\n"
     ]
    },
    {
     "name": "stdout",
     "output_type": "stream",
     "text": [
      "         365033 function calls in 0.642 seconds\n",
      "\n",
      "   Ordered by: standard name\n",
      "\n",
      "   ncalls  tottime  percall  cumtime  percall filename:lineno(function)\n",
      "        1    0.053    0.053    0.642    0.642 <ipython-input-32-de597e0db943>:2(pred)\n",
      "        1    0.000    0.000    0.642    0.642 <string>:1(<module>)\n",
      "     1682    0.001    0.000    0.013    0.000 _methods.py:31(_sum)\n",
      "     3364    0.003    0.000    0.003    0.000 _util.py:128(_prune_array)\n",
      "     1682    0.012    0.000    0.027    0.000 arraysetops.py:297(intersect1d)\n",
      "    13456    0.003    0.000    0.003    0.000 base.py:100(get_shape)\n",
      "    10092    0.004    0.000    0.007    0.000 base.py:1111(isspmatrix)\n",
      "     6728    0.004    0.000    0.008    0.000 base.py:193(nnz)\n",
      "     1682    0.006    0.000    0.254    0.000 base.py:342(__mul__)\n",
      "     1682    0.006    0.000    0.247    0.000 base.py:421(_mul_vector)\n",
      "     3364    0.003    0.000    0.003    0.000 base.py:70(__init__)\n",
      "     1682    0.004    0.000    0.005    0.000 base.py:77(set_shape)\n",
      "        1    0.000    0.000    0.000    0.000 common.py:75(wake)\n",
      "     6728    0.005    0.000    0.005    0.000 compressed.py:100(getnnz)\n",
      "     1682    0.011    0.000    0.024    0.000 compressed.py:1065(prune)\n",
      "     1682    0.018    0.000    0.068    0.000 compressed.py:128(check_format)\n",
      "     1682    0.014    0.000    0.118    0.000 compressed.py:25(__init__)\n",
      "     1682    0.008    0.000    0.020    0.000 compressed.py:489(_mul_vector)\n",
      "     5046    0.001    0.000    0.001    0.000 csr.py:231(_swap)\n",
      "     1682    0.002    0.000    0.003    0.000 data.py:22(__init__)\n",
      "     1682    0.001    0.000    0.001    0.000 data.py:25(_get_dtype)\n",
      "     1682    0.003    0.000    0.014    0.000 fromnumeric.py:2053(cumsum)\n",
      "     3364    0.010    0.000    0.017    0.000 fromnumeric.py:2584(ndim)\n",
      "     1682    0.002    0.000    0.011    0.000 fromnumeric.py:55(_wrapfunc)\n",
      "     3364    0.002    0.000    0.003    0.000 function_base.py:213(iterable)\n",
      "        1    0.000    0.000    0.000    0.000 getlimits.py:376(__new__)\n",
      "     5046    0.020    0.000    0.020    0.000 getlimits.py:507(__init__)\n",
      "     5046    0.003    0.000    0.003    0.000 getlimits.py:532(max)\n",
      "        1    0.000    0.000    0.000    0.000 ioloop.py:928(add_callback)\n",
      "        1    0.000    0.000    0.000    0.000 iostream.py:227(_is_master_process)\n",
      "        1    0.000    0.000    0.000    0.000 iostream.py:240(_schedule_flush)\n",
      "        1    0.000    0.000    0.000    0.000 iostream.py:308(write)\n",
      "     1682    0.004    0.000    0.004    0.000 lil.py:130(set_shape)\n",
      "     1682    0.021    0.000    0.293    0.000 lil.py:240(__getitem__)\n",
      "     1682    0.039    0.000    0.221    0.000 lil.py:463(tocsr)\n",
      "     1682    0.006    0.000    0.011    0.000 lil.py:486(_prepare_index_for_memoryview)\n",
      "     1682    0.013    0.000    0.067    0.000 lil.py:84(__init__)\n",
      "        1    0.000    0.000    0.000    0.000 linecache.py:13(getline)\n",
      "        1    0.000    0.000    0.000    0.000 linecache.py:33(getlines)\n",
      "     8410    0.008    0.000    0.011    0.000 numeric.py:2135(isscalar)\n",
      "    20184    0.012    0.000    0.036    0.000 numeric.py:463(asarray)\n",
      "     3364    0.003    0.000    0.007    0.000 numeric.py:534(asanyarray)\n",
      "     3364    0.007    0.000    0.019    0.000 shape_base.py:11(atleast_1d)\n",
      "     5046    0.022    0.000    0.052    0.000 sputils.py:119(get_index_dtype)\n",
      "     8410    0.006    0.000    0.019    0.000 sputils.py:183(isscalarlike)\n",
      "     6728    0.007    0.000    0.021    0.000 sputils.py:188(isintlike)\n",
      "     3364    0.010    0.000    0.036    0.000 sputils.py:200(isshape)\n",
      "     3364    0.001    0.000    0.002    0.000 sputils.py:227(isdense)\n",
      "     1682    0.012    0.000    0.027    0.000 sputils.py:265(_unpack_index)\n",
      "     1682    0.004    0.000    0.004    0.000 sputils.py:293(_check_ellipsis)\n",
      "     3364    0.013    0.000    0.019    0.000 sputils.py:331(_check_boolean)\n",
      "     1682    0.012    0.000    0.111    0.000 sputils.py:351(_index_to_arrays)\n",
      "     1682    0.001    0.000    0.002    0.000 sputils.py:54(upcast_char)\n",
      "     1682    0.002    0.000    0.006    0.000 sputils.py:91(to_native)\n",
      "     1682    0.002    0.000    0.002    0.000 sputils.py:95(getdtype)\n",
      "        1    0.000    0.000    0.000    0.000 stack_context.py:253(wrap)\n",
      "     3364    0.032    0.000    0.041    0.000 stride_tricks.py:115(_broadcast_to)\n",
      "     6728    0.002    0.000    0.002    0.000 stride_tricks.py:120(<genexpr>)\n",
      "     1682    0.007    0.000    0.008    0.000 stride_tricks.py:176(_broadcast_shape)\n",
      "     1682    0.013    0.000    0.065    0.000 stride_tricks.py:195(broadcast_arrays)\n",
      "     3364    0.002    0.000    0.002    0.000 stride_tricks.py:25(_maybe_view_as_subclass)\n",
      "     3364    0.002    0.000    0.002    0.000 stride_tricks.py:251(<genexpr>)\n",
      "        1    0.000    0.000    0.000    0.000 type_check.py:327(_getmaxmin)\n",
      "        1    0.000    0.000    0.000    0.000 type_check.py:332(nan_to_num)\n",
      "        1    0.000    0.000    0.000    0.000 ufunclike.py:144(isneginf)\n",
      "        2    0.000    0.000    0.000    0.000 ufunclike.py:20(func)\n",
      "        1    0.000    0.000    0.000    0.000 ufunclike.py:84(isposinf)\n",
      "        1    0.000    0.000    0.000    0.000 utf_8.py:15(decode)\n",
      "        1    0.000    0.000    0.000    0.000 warnings.py:25(_show_warning)\n",
      "        1    0.000    0.000    0.000    0.000 warnings.py:40(formatwarning)\n",
      "        1    0.000    0.000    0.000    0.000 {_codecs.utf_8_decode}\n",
      "     1682    0.001    0.000    0.002    0.000 {all}\n",
      "     3364    0.002    0.000    0.004    0.000 {any}\n",
      "     3364    0.002    0.000    0.002    0.000 {getattr}\n",
      "        1    0.000    0.000    0.000    0.000 {hasattr}\n",
      "    53826    0.014    0.000    0.014    0.000 {isinstance}\n",
      "        2    0.000    0.000    0.000    0.000 {issubclass}\n",
      "     3364    0.001    0.000    0.001    0.000 {iter}\n",
      "    28595    0.003    0.000    0.003    0.000 {len}\n",
      "     3364    0.002    0.000    0.002    0.000 {max}\n",
      "     3365    0.001    0.000    0.001    0.000 {method 'append' of 'list' objects}\n",
      "     1682    0.005    0.000    0.005    0.000 {method 'astype' of 'numpy.ndarray' objects}\n",
      "     1682    0.009    0.000    0.009    0.000 {method 'cumsum' of 'numpy.ndarray' objects}\n",
      "        1    0.000    0.000    0.000    0.000 {method 'decode' of 'str' objects}\n",
      "        1    0.000    0.000    0.000    0.000 {method 'disable' of '_lsprof.Profiler' objects}\n",
      "     3364    0.001    0.000    0.001    0.000 {method 'extend' of 'list' objects}\n",
      "     1683    0.001    0.000    0.001    0.000 {method 'get' of 'dict' objects}\n",
      "     1682    0.001    0.000    0.001    0.000 {method 'newbyteorder' of 'numpy.dtype' objects}\n",
      "     1682    0.000    0.000    0.000    0.000 {method 'pop' of 'dict' objects}\n",
      "     1682    0.012    0.000    0.012    0.000 {method 'reduce' of 'numpy.ufunc' objects}\n",
      "     1682    0.004    0.000    0.004    0.000 {method 'reshape' of 'numpy.ndarray' objects}\n",
      "        1    0.000    0.000    0.000    0.000 {method 'send' of '_socket.socket' objects}\n",
      "     1682    0.008    0.000    0.008    0.000 {method 'sort' of 'numpy.ndarray' objects}\n",
      "     1682    0.002    0.000    0.015    0.000 {method 'sum' of 'numpy.ndarray' objects}\n",
      "        1    0.000    0.000    0.000    0.000 {method 'write' of '_io.StringIO' objects}\n",
      "        1    0.000    0.000    0.000    0.000 {nt.getpid}\n",
      "    37005    0.035    0.000    0.035    0.000 {numpy.core.multiarray.array}\n",
      "     3364    0.012    0.000    0.012    0.000 {numpy.core.multiarray.concatenate}\n",
      "        3    0.000    0.000    0.000    0.000 {numpy.core.multiarray.copyto}\n",
      "     3364    0.010    0.000    0.010    0.000 {numpy.core.multiarray.empty}\n",
      "     1682    0.004    0.000    0.004    0.000 {numpy.core.multiarray.zeros}\n",
      "     3364    0.002    0.000    0.002    0.000 {range}\n",
      "     1682    0.040    0.000    0.040    0.000 {scipy.sparse._csparsetools.lil_fancy_get}\n",
      "     1682    0.005    0.000    0.005    0.000 {scipy.sparse._sparsetools.csr_matvec}\n",
      "     1682    0.001    0.000    0.001    0.000 {sum}\n",
      "        1    0.000    0.000    0.000    0.000 {thread.get_ident}\n",
      "\n",
      "\n"
     ]
    }
   ],
   "source": [
    "import cProfile\n",
    "def pred(n_items):\n",
    "    for item_to_rate in xrange(n_items):\n",
    "        relevanat_items = np.intersect1d(neighborhoods[item_to_rate],\n",
    "                                        items_rated_by_this_user,\n",
    "                                        assume_unique = True)\n",
    "        out[item_to_rate] = ratings_mat[user_id, relevant_items] * \\\n",
    "                            item_sim_mat[item_to_rate,relevant_items] / \\\n",
    "                            item_sim_mat[item_to_rate,relevant_items].sum()\n",
    "    return np.nan_to_num(out)\n",
    "cProfile.run('pred(n_items)')"
   ]
  },
  {
   "cell_type": "code",
   "execution_count": 33,
   "metadata": {
    "collapsed": false
   },
   "outputs": [
    {
     "data": {
      "text/plain": [
       "(1682L,)"
      ]
     },
     "execution_count": 33,
     "metadata": {},
     "output_type": "execute_result"
    }
   ],
   "source": [
    "pred_ratings.shape"
   ]
  },
  {
   "cell_type": "markdown",
   "metadata": {},
   "source": [
    "## Get final recommendations for a user"
   ]
  },
  {
   "cell_type": "code",
   "execution_count": 34,
   "metadata": {
    "collapsed": false
   },
   "outputs": [
    {
     "data": {
      "text/plain": [
       "[378, 1305, 1306, 946, 1030, 443, 1265, 439, 634, 562]"
      ]
     },
     "execution_count": 34,
     "metadata": {},
     "output_type": "execute_result"
    }
   ],
   "source": [
    "# Recommend n movies\n",
    "n = 10\n",
    "\n",
    "# Get item indexes sorted by predicted rating\n",
    "item_index_sorted_by_pred_rating = list(np.argsort(pred_ratings))\n",
    "\n",
    "# Find items that have been rated by user\n",
    "items_rated_by_this_user = ratings_mat[user_id].nonzero()[1]\n",
    "\n",
    "# We want to exclude the items that have been rated by user\n",
    "unrated_items_by_pred_rating = [item for item in item_index_sorted_by_pred_rating\n",
    "                                if item not in items_rated_by_this_user]\n",
    "\n",
    "unrated_items_by_pred_rating[-n:]\n"
   ]
  },
  {
   "cell_type": "code",
   "execution_count": null,
   "metadata": {
    "collapsed": true
   },
   "outputs": [],
   "source": []
  }
 ],
 "metadata": {
  "anaconda-cloud": {},
  "kernelspec": {
   "display_name": "Python 2",
   "language": "python",
   "name": "python2"
  },
  "language_info": {
   "codemirror_mode": {
    "name": "ipython",
    "version": 2
   },
   "file_extension": ".py",
   "mimetype": "text/x-python",
   "name": "python",
   "nbconvert_exporter": "python",
   "pygments_lexer": "ipython2",
   "version": "2.7.13"
  }
 },
 "nbformat": 4,
 "nbformat_minor": 1
}
