{
 "cells": [
  {
   "cell_type": "code",
   "execution_count": 1,
   "metadata": {
    "collapsed": true
   },
   "outputs": [],
   "source": [
    "import numpy as np\n",
    "import pandas as pd\n",
    "from scipy import sparse\n",
    "from sklearn.metrics.pairwise import cosine_similarity\n",
    "# import cProfile"
   ]
  },
  {
   "cell_type": "code",
   "execution_count": 2,
   "metadata": {
    "collapsed": true
   },
   "outputs": [],
   "source": [
    "# get original data\n",
    "# transpose it to a sparse matrix where column is movie, row is user and cell is rating\n",
    "def get_data(file,col_names):\n",
    "    ratings_contents = pd.read_table(file, names = col_names)\n",
    "    \n",
    "    num_users = ratings_contents.user.max()\n",
    "    num_movies = ratings_contents.movie.max()\n",
    "    \n",
    "    ratings_as_mat = sparse.lil_matrix((num_users, num_movies))\n",
    "    \n",
    "    for _, row in ratings_contents.iterrows():\n",
    "        ratings_as_mat[row.user - 1, row.movie - 1] = row.rating\n",
    "        \n",
    "    return ratings_contents, ratings_as_mat"
   ]
  },
  {
   "cell_type": "code",
   "execution_count": 3,
   "metadata": {
    "collapsed": true
   },
   "outputs": [],
   "source": [
    "# define how many neighborhoods we need for calculating similarity\n",
    "num_nei = 75"
   ]
  },
  {
   "cell_type": "code",
   "execution_count": 4,
   "metadata": {
    "collapsed": true
   },
   "outputs": [],
   "source": [
    "# calculate similarity matrix\n",
    "# and neighborhoods' index\n",
    "def get_sim_nei(rating_matrix, num_nei):\n",
    "    \n",
    "    sim_matrix = cosine_similarity(rating_matrix.T)\n",
    "    nei_index = sim_matrix.argsort()[:,-num_nei:]\n",
    "    \n",
    "    return sim_matrix, nei_index"
   ]
  },
  {
   "cell_type": "code",
   "execution_count": 26,
   "metadata": {
    "collapsed": true
   },
   "outputs": [],
   "source": [
    "# predict for one user\n",
    "def pred(user_id,ratings_matrix, sim_matrix, nei_index):\n",
    "    '''\n",
    "    Input: user_id \n",
    "           ratings_matrix: users by items\n",
    "           sim_matrix: item by item\n",
    "           nei_index: item by neighborhoods\n",
    "    Output: \n",
    "           prediction: 1-D array, non-zero elements represent estimated score for item_to_rate\n",
    "    '''\n",
    "    # find index of movies that have been rated by this user, in this case index also is movie id\n",
    "    rated_item_index = ratings_matrix[user_id].nonzero()[1]\n",
    "    # initialize a prediction array\n",
    "    prediction = np.zeros(ratings_matrix.shape[1])\n",
    "    # make prediction on movies\n",
    "    for item_to_rate in range(ratings_matrix.shape[1]):\n",
    "        # only predect items not rated by this user yet\n",
    "        if item_to_rate not in rated_item_index:\n",
    "            # find index of intersetion between rated movie by this user and this item's neighborhoods\n",
    "            relevant_item_index = np.intersect1d(nei_index[item_to_rate],rated_item_index, assume_unique = True)\n",
    "            # make predictions on this item for this user\n",
    "            prediction[item_to_rate] = (ratings_matrix[user_id,relevant_item_index] * \\\n",
    "                                        sim_matrix[item_to_rate,relevant_item_index]) / \\\n",
    "                                        sim_matrix[item_to_rate,relevant_item_index].sum()\n",
    "    return prediction"
   ]
  },
  {
   "cell_type": "code",
   "execution_count": 29,
   "metadata": {
    "collapsed": true
   },
   "outputs": [],
   "source": [
    "def pred_all_user(ratings_matrix, sim_matrix, nei_index):\n",
    "    return [pred(user_id, ratings_matrix, sim_matrix, nei_index) for user_id in range(ratings_matrix.shape[0])]"
   ]
  },
  {
   "cell_type": "code",
   "execution_count": 33,
   "metadata": {
    "collapsed": true
   },
   "outputs": [],
   "source": [
    "def top_n_recommendations(prediction, top_n, ratings_contents):\n",
    "    top_index = np.argsort(prediction)[::-1][:top_n + 1]\n",
    "    return ratings_contents.ix[top_index,\"movie\"].values"
   ]
  },
  {
   "cell_type": "code",
   "execution_count": 6,
   "metadata": {
    "collapsed": false
   },
   "outputs": [],
   "source": [
    "file = 'data/u.data'\n",
    "col_names = [\"user\", \"movie\", \"rating\", \"timestamp\"]\n",
    "ratings_contents, ratings_as_mat = get_data(file, col_names)"
   ]
  },
  {
   "cell_type": "code",
   "execution_count": 7,
   "metadata": {
    "collapsed": false
   },
   "outputs": [],
   "source": [
    "sim_matrix, nei_index = get_sim_nei(ratings_as_mat, num_nei)"
   ]
  },
  {
   "cell_type": "code",
   "execution_count": 11,
   "metadata": {
    "collapsed": false
   },
   "outputs": [
    {
     "name": "stdout",
     "output_type": "stream",
     "text": [
      "539\n"
     ]
    }
   ],
   "source": [
    "user_id = np.random.randint(low = 0, high = ratings_as_mat.shape[0])\n",
    "print(user_id)"
   ]
  },
  {
   "cell_type": "code",
   "execution_count": 27,
   "metadata": {
    "collapsed": false
   },
   "outputs": [
    {
     "name": "stderr",
     "output_type": "stream",
     "text": [
      "H:\\Anaconda3\\lib\\site-packages\\ipykernel\\__main__.py:22: RuntimeWarning: invalid value encountered in true_divide\n"
     ]
    },
    {
     "name": "stdout",
     "output_type": "stream",
     "text": [
      "[ 0.          4.          3.73137362 ...,  4.                 nan  4.        ]\n"
     ]
    }
   ],
   "source": [
    "prediction = pred(user_id, ratings_as_mat, sim_matrix,nei_index)\n",
    "print(prediction)"
   ]
  },
  {
   "cell_type": "code",
   "execution_count": 35,
   "metadata": {
    "collapsed": false
   },
   "outputs": [
    {
     "name": "stdout",
     "output_type": "stream",
     "text": [
      "top 10 movies' name:\n",
      "[  68  191  974  125  135   50  187  240  625  289 1245]\n"
     ]
    }
   ],
   "source": [
    "print(\"top 10 movies' name:\")\n",
    "print(top_n_recommendations(prediction, 10, ratings_contents))"
   ]
  }
 ],
 "metadata": {
  "kernelspec": {
   "display_name": "Python 2",
   "language": "python",
   "name": "python2"
  },
  "language_info": {
   "codemirror_mode": {
    "name": "ipython",
    "version": 2
   },
   "file_extension": ".py",
   "mimetype": "text/x-python",
   "name": "python",
   "nbconvert_exporter": "python",
   "pygments_lexer": "ipython2",
   "version": "2.7.13"
  }
 },
 "nbformat": 4,
 "nbformat_minor": 2
}
