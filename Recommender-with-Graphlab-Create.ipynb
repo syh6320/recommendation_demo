{
 "cells": [
  {
   "cell_type": "markdown",
   "metadata": {},
   "source": [
    "# Recommender with Graphlab Create "
   ]
  },
  {
   "cell_type": "markdown",
   "metadata": {},
   "source": [
    "## 0. Registier, install and launch\n",
    "\n",
    "* Register account with [Graphlab](https://turi.com/)\n",
    "* Follow instructions in the email you received to install Graphlab Create\n",
    "* Launch Graphlab Create"
   ]
  },
  {
   "cell_type": "code",
   "execution_count": 1,
   "metadata": {
    "collapsed": false
   },
   "outputs": [],
   "source": [
    "import numpy as np\n",
    "import graphlab;\n",
    "import pandas as pd\n",
    "import matplotlib.pyplot as plt"
   ]
  },
  {
   "cell_type": "markdown",
   "metadata": {},
   "source": [
    "## 1. Load your data in Dato's SFrame type."
   ]
  },
  {
   "cell_type": "code",
   "execution_count": 2,
   "metadata": {
    "collapsed": false
   },
   "outputs": [
    {
     "name": "stdout",
     "output_type": "stream",
     "text": [
      "This non-commercial license of GraphLab Create for academic use is assigned to yihaoson@usc.edu and will expire on June 29, 2018.\n"
     ]
    },
    {
     "name": "stderr",
     "output_type": "stream",
     "text": [
      "[INFO] graphlab.cython.cy_server: GraphLab Create v2.1 started. Logging: C:\\Users\\songy\\AppData\\Local\\Temp\\graphlab_server_1498840243.log.0\n"
     ]
    }
   ],
   "source": [
    "df = pd.read_table('data/u.data',\n",
    "                   names=[\"user\", \"movie\", \"rating\", \"timestamp\"])\n",
    "sf = graphlab.SFrame(df[['user', 'movie', 'rating']])"
   ]
  },
  {
   "cell_type": "code",
   "execution_count": 3,
   "metadata": {
    "collapsed": false
   },
   "outputs": [
    {
     "data": {
      "text/html": [
       "<div style=\"max-height:1000px;max-width:1500px;overflow:auto;\"><table frame=\"box\" rules=\"cols\">\n",
       "    <tr>\n",
       "        <th style=\"padding-left: 1em; padding-right: 1em; text-align: center\">user</th>\n",
       "        <th style=\"padding-left: 1em; padding-right: 1em; text-align: center\">movie</th>\n",
       "        <th style=\"padding-left: 1em; padding-right: 1em; text-align: center\">rating</th>\n",
       "    </tr>\n",
       "    <tr>\n",
       "        <td style=\"padding-left: 1em; padding-right: 1em; text-align: center; vertical-align: top\">196</td>\n",
       "        <td style=\"padding-left: 1em; padding-right: 1em; text-align: center; vertical-align: top\">242</td>\n",
       "        <td style=\"padding-left: 1em; padding-right: 1em; text-align: center; vertical-align: top\">3</td>\n",
       "    </tr>\n",
       "    <tr>\n",
       "        <td style=\"padding-left: 1em; padding-right: 1em; text-align: center; vertical-align: top\">186</td>\n",
       "        <td style=\"padding-left: 1em; padding-right: 1em; text-align: center; vertical-align: top\">302</td>\n",
       "        <td style=\"padding-left: 1em; padding-right: 1em; text-align: center; vertical-align: top\">3</td>\n",
       "    </tr>\n",
       "    <tr>\n",
       "        <td style=\"padding-left: 1em; padding-right: 1em; text-align: center; vertical-align: top\">22</td>\n",
       "        <td style=\"padding-left: 1em; padding-right: 1em; text-align: center; vertical-align: top\">377</td>\n",
       "        <td style=\"padding-left: 1em; padding-right: 1em; text-align: center; vertical-align: top\">1</td>\n",
       "    </tr>\n",
       "</table>\n",
       "[3 rows x 3 columns]<br/>\n",
       "</div>"
      ],
      "text/plain": [
       "Columns:\n",
       "\tuser\tint\n",
       "\tmovie\tint\n",
       "\trating\tint\n",
       "\n",
       "Rows: 3\n",
       "\n",
       "Data:\n",
       "+------+-------+--------+\n",
       "| user | movie | rating |\n",
       "+------+-------+--------+\n",
       "| 196  |  242  |   3    |\n",
       "| 186  |  302  |   3    |\n",
       "|  22  |  377  |   1    |\n",
       "+------+-------+--------+\n",
       "[3 rows x 3 columns]"
      ]
     },
     "execution_count": 3,
     "metadata": {},
     "output_type": "execute_result"
    }
   ],
   "source": [
    "sf.head(3)"
   ]
  },
  {
   "cell_type": "markdown",
   "metadata": {},
   "source": [
    "## 2.Create a matrix factorization model.\n",
    "\n"
   ]
  },
  {
   "cell_type": "code",
   "execution_count": 4,
   "metadata": {
    "collapsed": false,
    "scrolled": true
   },
   "outputs": [
    {
     "data": {
      "text/html": [
       "<pre>Recsys training: model = factorization_recommender</pre>"
      ],
      "text/plain": [
       "Recsys training: model = factorization_recommender"
      ]
     },
     "metadata": {},
     "output_type": "display_data"
    },
    {
     "data": {
      "text/html": [
       "<pre>Preparing data set.</pre>"
      ],
      "text/plain": [
       "Preparing data set."
      ]
     },
     "metadata": {},
     "output_type": "display_data"
    },
    {
     "data": {
      "text/html": [
       "<pre>    Data has 100000 observations with 943 users and 1682 items.</pre>"
      ],
      "text/plain": [
       "    Data has 100000 observations with 943 users and 1682 items."
      ]
     },
     "metadata": {},
     "output_type": "display_data"
    },
    {
     "data": {
      "text/html": [
       "<pre>    Data prepared in: 0.306403s</pre>"
      ],
      "text/plain": [
       "    Data prepared in: 0.306403s"
      ]
     },
     "metadata": {},
     "output_type": "display_data"
    },
    {
     "data": {
      "text/html": [
       "<pre>Training factorization_recommender for recommendations.</pre>"
      ],
      "text/plain": [
       "Training factorization_recommender for recommendations."
      ]
     },
     "metadata": {},
     "output_type": "display_data"
    },
    {
     "data": {
      "text/html": [
       "<pre>+------------------------------+--------------------------------------------------+----------+</pre>"
      ],
      "text/plain": [
       "+------------------------------+--------------------------------------------------+----------+"
      ]
     },
     "metadata": {},
     "output_type": "display_data"
    },
    {
     "data": {
      "text/html": [
       "<pre>| Parameter                    | Description                                      | Value    |</pre>"
      ],
      "text/plain": [
       "| Parameter                    | Description                                      | Value    |"
      ]
     },
     "metadata": {},
     "output_type": "display_data"
    },
    {
     "data": {
      "text/html": [
       "<pre>+------------------------------+--------------------------------------------------+----------+</pre>"
      ],
      "text/plain": [
       "+------------------------------+--------------------------------------------------+----------+"
      ]
     },
     "metadata": {},
     "output_type": "display_data"
    },
    {
     "data": {
      "text/html": [
       "<pre>| num_factors                  | Factor Dimension                                 | 8        |</pre>"
      ],
      "text/plain": [
       "| num_factors                  | Factor Dimension                                 | 8        |"
      ]
     },
     "metadata": {},
     "output_type": "display_data"
    },
    {
     "data": {
      "text/html": [
       "<pre>| regularization               | L2 Regularization on Factors                     | 1e-008   |</pre>"
      ],
      "text/plain": [
       "| regularization               | L2 Regularization on Factors                     | 1e-008   |"
      ]
     },
     "metadata": {},
     "output_type": "display_data"
    },
    {
     "data": {
      "text/html": [
       "<pre>| max_iterations               | Maximum Number of Iterations                     | 50       |</pre>"
      ],
      "text/plain": [
       "| max_iterations               | Maximum Number of Iterations                     | 50       |"
      ]
     },
     "metadata": {},
     "output_type": "display_data"
    },
    {
     "data": {
      "text/html": [
       "<pre>| solver                       | Solver used for training                         | als      |</pre>"
      ],
      "text/plain": [
       "| solver                       | Solver used for training                         | als      |"
      ]
     },
     "metadata": {},
     "output_type": "display_data"
    },
    {
     "data": {
      "text/html": [
       "<pre>+------------------------------+--------------------------------------------------+----------+</pre>"
      ],
      "text/plain": [
       "+------------------------------+--------------------------------------------------+----------+"
      ]
     },
     "metadata": {},
     "output_type": "display_data"
    },
    {
     "data": {
      "text/html": [
       "<pre>+---------+--------------+------------------------+</pre>"
      ],
      "text/plain": [
       "+---------+--------------+------------------------+"
      ]
     },
     "metadata": {},
     "output_type": "display_data"
    },
    {
     "data": {
      "text/html": [
       "<pre>| Iter.   | Elapsed time | RMSE                   |</pre>"
      ],
      "text/plain": [
       "| Iter.   | Elapsed time | RMSE                   |"
      ]
     },
     "metadata": {},
     "output_type": "display_data"
    },
    {
     "data": {
      "text/html": [
       "<pre>+---------+--------------+------------------------+</pre>"
      ],
      "text/plain": [
       "+---------+--------------+------------------------+"
      ]
     },
     "metadata": {},
     "output_type": "display_data"
    },
    {
     "data": {
      "text/html": [
       "<pre>| Initial | 0us          | NA                     |</pre>"
      ],
      "text/plain": [
       "| Initial | 0us          | NA                     |"
      ]
     },
     "metadata": {},
     "output_type": "display_data"
    },
    {
     "data": {
      "text/html": [
       "<pre>+---------+--------------+------------------------+</pre>"
      ],
      "text/plain": [
       "+---------+--------------+------------------------+"
      ]
     },
     "metadata": {},
     "output_type": "display_data"
    },
    {
     "data": {
      "text/html": [
       "<pre>| 0       | 86.024ms     | 0.960468               |</pre>"
      ],
      "text/plain": [
       "| 0       | 86.024ms     | 0.960468               |"
      ]
     },
     "metadata": {},
     "output_type": "display_data"
    },
    {
     "data": {
      "text/html": [
       "<pre>| 1       | 124.045ms    | 0.825005               |</pre>"
      ],
      "text/plain": [
       "| 1       | 124.045ms    | 0.825005               |"
      ]
     },
     "metadata": {},
     "output_type": "display_data"
    },
    {
     "data": {
      "text/html": [
       "<pre>| 2       | 163.072ms    | 0.787743               |</pre>"
      ],
      "text/plain": [
       "| 2       | 163.072ms    | 0.787743               |"
      ]
     },
     "metadata": {},
     "output_type": "display_data"
    },
    {
     "data": {
      "text/html": [
       "<pre>| 3       | 206.102ms    | 0.769419               |</pre>"
      ],
      "text/plain": [
       "| 3       | 206.102ms    | 0.769419               |"
      ]
     },
     "metadata": {},
     "output_type": "display_data"
    },
    {
     "data": {
      "text/html": [
       "<pre>| 4       | 238.122ms    | 0.758715               |</pre>"
      ],
      "text/plain": [
       "| 4       | 238.122ms    | 0.758715               |"
      ]
     },
     "metadata": {},
     "output_type": "display_data"
    },
    {
     "data": {
      "text/html": [
       "<pre>| 5       | 281.149ms    | 0.751882               |</pre>"
      ],
      "text/plain": [
       "| 5       | 281.149ms    | 0.751882               |"
      ]
     },
     "metadata": {},
     "output_type": "display_data"
    },
    {
     "data": {
      "text/html": [
       "<pre>| 6       | 314.172ms    | 0.747169               |</pre>"
      ],
      "text/plain": [
       "| 6       | 314.172ms    | 0.747169               |"
      ]
     },
     "metadata": {},
     "output_type": "display_data"
    },
    {
     "data": {
      "text/html": [
       "<pre>| 7       | 358.201ms    | 0.743753               |</pre>"
      ],
      "text/plain": [
       "| 7       | 358.201ms    | 0.743753               |"
      ]
     },
     "metadata": {},
     "output_type": "display_data"
    },
    {
     "data": {
      "text/html": [
       "<pre>| 8       | 391.225ms    | 0.741095               |</pre>"
      ],
      "text/plain": [
       "| 8       | 391.225ms    | 0.741095               |"
      ]
     },
     "metadata": {},
     "output_type": "display_data"
    },
    {
     "data": {
      "text/html": [
       "<pre>| 9       | 443.259ms    | 0.739035               |</pre>"
      ],
      "text/plain": [
       "| 9       | 443.259ms    | 0.739035               |"
      ]
     },
     "metadata": {},
     "output_type": "display_data"
    },
    {
     "data": {
      "text/html": [
       "<pre>| 10      | 491.294ms    | 0.737366               |</pre>"
      ],
      "text/plain": [
       "| 10      | 491.294ms    | 0.737366               |"
      ]
     },
     "metadata": {},
     "output_type": "display_data"
    },
    {
     "data": {
      "text/html": [
       "<pre>| 11      | 523.313ms    | 0.735935               |</pre>"
      ],
      "text/plain": [
       "| 11      | 523.313ms    | 0.735935               |"
      ]
     },
     "metadata": {},
     "output_type": "display_data"
    },
    {
     "data": {
      "text/html": [
       "<pre>| 12      | 570.344ms    | 0.734675               |</pre>"
      ],
      "text/plain": [
       "| 12      | 570.344ms    | 0.734675               |"
      ]
     },
     "metadata": {},
     "output_type": "display_data"
    },
    {
     "data": {
      "text/html": [
       "<pre>| 13      | 603.365ms    | 0.733684               |</pre>"
      ],
      "text/plain": [
       "| 13      | 603.365ms    | 0.733684               |"
      ]
     },
     "metadata": {},
     "output_type": "display_data"
    },
    {
     "data": {
      "text/html": [
       "<pre>| 14      | 643.392ms    | 0.732827               |</pre>"
      ],
      "text/plain": [
       "| 14      | 643.392ms    | 0.732827               |"
      ]
     },
     "metadata": {},
     "output_type": "display_data"
    },
    {
     "data": {
      "text/html": [
       "<pre>| 15      | 690.423ms    | 0.732084               |</pre>"
      ],
      "text/plain": [
       "| 15      | 690.423ms    | 0.732084               |"
      ]
     },
     "metadata": {},
     "output_type": "display_data"
    },
    {
     "data": {
      "text/html": [
       "<pre>| 16      | 725.449ms    | 0.731392               |</pre>"
      ],
      "text/plain": [
       "| 16      | 725.449ms    | 0.731392               |"
      ]
     },
     "metadata": {},
     "output_type": "display_data"
    },
    {
     "data": {
      "text/html": [
       "<pre>| 17      | 768.475ms    | 0.730766               |</pre>"
      ],
      "text/plain": [
       "| 17      | 768.475ms    | 0.730766               |"
      ]
     },
     "metadata": {},
     "output_type": "display_data"
    },
    {
     "data": {
      "text/html": [
       "<pre>| 18      | 808.502ms    | 0.730136               |</pre>"
      ],
      "text/plain": [
       "| 18      | 808.502ms    | 0.730136               |"
      ]
     },
     "metadata": {},
     "output_type": "display_data"
    },
    {
     "data": {
      "text/html": [
       "<pre>| 19      | 841.524ms    | 0.729583               |</pre>"
      ],
      "text/plain": [
       "| 19      | 841.524ms    | 0.729583               |"
      ]
     },
     "metadata": {},
     "output_type": "display_data"
    },
    {
     "data": {
      "text/html": [
       "<pre>| 20      | 887.558ms    | 0.729088               |</pre>"
      ],
      "text/plain": [
       "| 20      | 887.558ms    | 0.729088               |"
      ]
     },
     "metadata": {},
     "output_type": "display_data"
    },
    {
     "data": {
      "text/html": [
       "<pre>| 21      | 939.59ms     | 0.728623               |</pre>"
      ],
      "text/plain": [
       "| 21      | 939.59ms     | 0.728623               |"
      ]
     },
     "metadata": {},
     "output_type": "display_data"
    },
    {
     "data": {
      "text/html": [
       "<pre>| 22      | 984.619ms    | 0.728205               |</pre>"
      ],
      "text/plain": [
       "| 22      | 984.619ms    | 0.728205               |"
      ]
     },
     "metadata": {},
     "output_type": "display_data"
    },
    {
     "data": {
      "text/html": [
       "<pre>| 23      | 1.02s        | 0.727816               |</pre>"
      ],
      "text/plain": [
       "| 23      | 1.02s        | 0.727816               |"
      ]
     },
     "metadata": {},
     "output_type": "display_data"
    },
    {
     "data": {
      "text/html": [
       "<pre>| 24      | 1.07s        | 0.727452               |</pre>"
      ],
      "text/plain": [
       "| 24      | 1.07s        | 0.727452               |"
      ]
     },
     "metadata": {},
     "output_type": "display_data"
    },
    {
     "data": {
      "text/html": [
       "<pre>| 25      | 1.12s        | 0.727111               |</pre>"
      ],
      "text/plain": [
       "| 25      | 1.12s        | 0.727111               |"
      ]
     },
     "metadata": {},
     "output_type": "display_data"
    },
    {
     "data": {
      "text/html": [
       "<pre>| 26      | 1.17s        | 0.726786               |</pre>"
      ],
      "text/plain": [
       "| 26      | 1.17s        | 0.726786               |"
      ]
     },
     "metadata": {},
     "output_type": "display_data"
    },
    {
     "data": {
      "text/html": [
       "<pre>| 27      | 1.21s        | 0.726479               |</pre>"
      ],
      "text/plain": [
       "| 27      | 1.21s        | 0.726479               |"
      ]
     },
     "metadata": {},
     "output_type": "display_data"
    },
    {
     "data": {
      "text/html": [
       "<pre>| 28      | 1.26s        | 0.726175               |</pre>"
      ],
      "text/plain": [
       "| 28      | 1.26s        | 0.726175               |"
      ]
     },
     "metadata": {},
     "output_type": "display_data"
    },
    {
     "data": {
      "text/html": [
       "<pre>| 29      | 1.31s        | 0.725883               |</pre>"
      ],
      "text/plain": [
       "| 29      | 1.31s        | 0.725883               |"
      ]
     },
     "metadata": {},
     "output_type": "display_data"
    },
    {
     "data": {
      "text/html": [
       "<pre>| 30      | 1.36s        | 0.725594               |</pre>"
      ],
      "text/plain": [
       "| 30      | 1.36s        | 0.725594               |"
      ]
     },
     "metadata": {},
     "output_type": "display_data"
    },
    {
     "data": {
      "text/html": [
       "<pre>| 31      | 1.40s        | 0.725283               |</pre>"
      ],
      "text/plain": [
       "| 31      | 1.40s        | 0.725283               |"
      ]
     },
     "metadata": {},
     "output_type": "display_data"
    },
    {
     "data": {
      "text/html": [
       "<pre>| 32      | 1.46s        | 0.725022               |</pre>"
      ],
      "text/plain": [
       "| 32      | 1.46s        | 0.725022               |"
      ]
     },
     "metadata": {},
     "output_type": "display_data"
    },
    {
     "data": {
      "text/html": [
       "<pre>| 33      | 1.50s        | 0.724789               |</pre>"
      ],
      "text/plain": [
       "| 33      | 1.50s        | 0.724789               |"
      ]
     },
     "metadata": {},
     "output_type": "display_data"
    },
    {
     "data": {
      "text/html": [
       "<pre>| 34      | 1.56s        | 0.724579               |</pre>"
      ],
      "text/plain": [
       "| 34      | 1.56s        | 0.724579               |"
      ]
     },
     "metadata": {},
     "output_type": "display_data"
    },
    {
     "data": {
      "text/html": [
       "<pre>| 35      | 1.60s        | 0.724389               |</pre>"
      ],
      "text/plain": [
       "| 35      | 1.60s        | 0.724389               |"
      ]
     },
     "metadata": {},
     "output_type": "display_data"
    },
    {
     "data": {
      "text/html": [
       "<pre>| 36      | 1.64s        | 0.724215               |</pre>"
      ],
      "text/plain": [
       "| 36      | 1.64s        | 0.724215               |"
      ]
     },
     "metadata": {},
     "output_type": "display_data"
    },
    {
     "data": {
      "text/html": [
       "<pre>| 37      | 1.69s        | 0.724055               |</pre>"
      ],
      "text/plain": [
       "| 37      | 1.69s        | 0.724055               |"
      ]
     },
     "metadata": {},
     "output_type": "display_data"
    },
    {
     "data": {
      "text/html": [
       "<pre>| 38      | 1.75s        | 0.723906               |</pre>"
      ],
      "text/plain": [
       "| 38      | 1.75s        | 0.723906               |"
      ]
     },
     "metadata": {},
     "output_type": "display_data"
    },
    {
     "data": {
      "text/html": [
       "<pre>| 39      | 1.80s        | 0.723762               |</pre>"
      ],
      "text/plain": [
       "| 39      | 1.80s        | 0.723762               |"
      ]
     },
     "metadata": {},
     "output_type": "display_data"
    },
    {
     "data": {
      "text/html": [
       "<pre>| 40      | 1.84s        | 0.723621               |</pre>"
      ],
      "text/plain": [
       "| 40      | 1.84s        | 0.723621               |"
      ]
     },
     "metadata": {},
     "output_type": "display_data"
    },
    {
     "data": {
      "text/html": [
       "<pre>| 41      | 1.88s        | 0.723489               |</pre>"
      ],
      "text/plain": [
       "| 41      | 1.88s        | 0.723489               |"
      ]
     },
     "metadata": {},
     "output_type": "display_data"
    },
    {
     "data": {
      "text/html": [
       "<pre>| 42      | 1.92s        | 0.723361               |</pre>"
      ],
      "text/plain": [
       "| 42      | 1.92s        | 0.723361               |"
      ]
     },
     "metadata": {},
     "output_type": "display_data"
    },
    {
     "data": {
      "text/html": [
       "<pre>| 43      | 2.00s        | 0.723235               |</pre>"
      ],
      "text/plain": [
       "| 43      | 2.00s        | 0.723235               |"
      ]
     },
     "metadata": {},
     "output_type": "display_data"
    },
    {
     "data": {
      "text/html": [
       "<pre>| 44      | 2.04s        | 0.723111               |</pre>"
      ],
      "text/plain": [
       "| 44      | 2.04s        | 0.723111               |"
      ]
     },
     "metadata": {},
     "output_type": "display_data"
    },
    {
     "data": {
      "text/html": [
       "<pre>| 45      | 2.09s        | 0.722988               |</pre>"
      ],
      "text/plain": [
       "| 45      | 2.09s        | 0.722988               |"
      ]
     },
     "metadata": {},
     "output_type": "display_data"
    },
    {
     "data": {
      "text/html": [
       "<pre>| 46      | 2.14s        | 0.722866               |</pre>"
      ],
      "text/plain": [
       "| 46      | 2.14s        | 0.722866               |"
      ]
     },
     "metadata": {},
     "output_type": "display_data"
    },
    {
     "data": {
      "text/html": [
       "<pre>| 47      | 2.18s        | 0.722747               |</pre>"
      ],
      "text/plain": [
       "| 47      | 2.18s        | 0.722747               |"
      ]
     },
     "metadata": {},
     "output_type": "display_data"
    },
    {
     "data": {
      "text/html": [
       "<pre>| 48      | 2.24s        | 0.72263                |</pre>"
      ],
      "text/plain": [
       "| 48      | 2.24s        | 0.72263                |"
      ]
     },
     "metadata": {},
     "output_type": "display_data"
    },
    {
     "data": {
      "text/html": [
       "<pre>| 49      | 2.29s        | 0.722516               |</pre>"
      ],
      "text/plain": [
       "| 49      | 2.29s        | 0.722516               |"
      ]
     },
     "metadata": {},
     "output_type": "display_data"
    },
    {
     "data": {
      "text/html": [
       "<pre>| FINAL   | 2.29s        | 0.722516               |</pre>"
      ],
      "text/plain": [
       "| FINAL   | 2.29s        | 0.722516               |"
      ]
     },
     "metadata": {},
     "output_type": "display_data"
    },
    {
     "data": {
      "text/html": [
       "<pre>+---------+--------------+------------------------+</pre>"
      ],
      "text/plain": [
       "+---------+--------------+------------------------+"
      ]
     },
     "metadata": {},
     "output_type": "display_data"
    },
    {
     "data": {
      "text/html": [
       "<pre>Optimization Complete: Iteration limit reached.</pre>"
      ],
      "text/plain": [
       "Optimization Complete: Iteration limit reached."
      ]
     },
     "metadata": {},
     "output_type": "display_data"
    }
   ],
   "source": [
    "rec = graphlab.recommender.factorization_recommender.create(\n",
    "            sf,\n",
    "            user_id='user',\n",
    "            item_id='movie',\n",
    "            target='rating',\n",
    "            solver='als',\n",
    "            side_data_factorization=False)"
   ]
  },
  {
   "cell_type": "markdown",
   "metadata": {},
   "source": [
    "## 3. Call the `predict` method on your input data to get the predicted rating for user 1 of movie 100."
   ]
  },
  {
   "cell_type": "code",
   "execution_count": 5,
   "metadata": {
    "collapsed": true
   },
   "outputs": [],
   "source": [
    "one_datapoint_sf = graphlab.SFrame({'user': [1], 'movie': [100]})"
   ]
  },
  {
   "cell_type": "code",
   "execution_count": 7,
   "metadata": {
    "collapsed": false
   },
   "outputs": [
    {
     "data": {
      "text/html": [
       "<div style=\"max-height:1000px;max-width:1500px;overflow:auto;\"><table frame=\"box\" rules=\"cols\">\n",
       "    <tr>\n",
       "        <th style=\"padding-left: 1em; padding-right: 1em; text-align: center\">movie</th>\n",
       "        <th style=\"padding-left: 1em; padding-right: 1em; text-align: center\">user</th>\n",
       "    </tr>\n",
       "    <tr>\n",
       "        <td style=\"padding-left: 1em; padding-right: 1em; text-align: center; vertical-align: top\">100</td>\n",
       "        <td style=\"padding-left: 1em; padding-right: 1em; text-align: center; vertical-align: top\">1</td>\n",
       "    </tr>\n",
       "</table>\n",
       "[1 rows x 2 columns]<br/>\n",
       "</div>"
      ],
      "text/plain": [
       "Columns:\n",
       "\tmovie\tint\n",
       "\tuser\tint\n",
       "\n",
       "Rows: 1\n",
       "\n",
       "Data:\n",
       "+-------+------+\n",
       "| movie | user |\n",
       "+-------+------+\n",
       "|  100  |  1   |\n",
       "+-------+------+\n",
       "[1 rows x 2 columns]"
      ]
     },
     "execution_count": 7,
     "metadata": {},
     "output_type": "execute_result"
    }
   ],
   "source": [
    "one_datapoint_sf"
   ]
  },
  {
   "cell_type": "code",
   "execution_count": 8,
   "metadata": {
    "collapsed": false
   },
   "outputs": [
    {
     "name": "stdout",
     "output_type": "stream",
     "text": [
      "rating: 4.7274451059\n"
     ]
    }
   ],
   "source": [
    "print \"rating:\", rec.predict(one_datapoint_sf)[0]"
   ]
  },
  {
   "cell_type": "markdown",
   "metadata": {},
   "source": [
    "## 4. On the returned model object, call the `list_fields` method to see what kind of data is stored for your model."
   ]
  },
  {
   "cell_type": "code",
   "execution_count": 9,
   "metadata": {
    "collapsed": false,
    "scrolled": true
   },
   "outputs": [
    {
     "data": {
      "text/plain": [
       "['adagrad_momentum_weighting',\n",
       " 'additional_iterations_if_unhealthy',\n",
       " 'binary_target',\n",
       " 'coefficients',\n",
       " 'data_load_time',\n",
       " 'init_random_sigma',\n",
       " 'item_id',\n",
       " 'item_side_data_column_names',\n",
       " 'item_side_data_column_types',\n",
       " 'linear_regularization',\n",
       " 'max_iterations',\n",
       " 'model_name',\n",
       " 'nmf',\n",
       " 'num_factors',\n",
       " 'num_features',\n",
       " 'num_item_side_features',\n",
       " 'num_items',\n",
       " 'num_observations',\n",
       " 'num_tempering_iterations',\n",
       " 'num_user_side_features',\n",
       " 'num_users',\n",
       " 'observation_data_column_names',\n",
       " 'random_seed',\n",
       " 'regularization',\n",
       " 'regularization_type',\n",
       " 'sgd_convergence_interval',\n",
       " 'sgd_convergence_threshold',\n",
       " 'sgd_max_trial_iterations',\n",
       " 'sgd_sampling_block_size',\n",
       " 'sgd_step_adjustment_interval',\n",
       " 'sgd_step_size',\n",
       " 'sgd_trial_sample_minimum_size',\n",
       " 'sgd_trial_sample_proportion',\n",
       " 'side_data_factorization',\n",
       " 'solver',\n",
       " 'step_size_decrease_rate',\n",
       " 'target',\n",
       " 'tempering_regularization_start_value',\n",
       " 'track_exact_loss',\n",
       " 'training_rmse',\n",
       " 'training_stats',\n",
       " 'training_time',\n",
       " 'user_id',\n",
       " 'user_side_data_column_names',\n",
       " 'user_side_data_column_types']"
      ]
     },
     "execution_count": 9,
     "metadata": {},
     "output_type": "execute_result"
    }
   ],
   "source": [
    "rec.list_fields()"
   ]
  },
  {
   "cell_type": "markdown",
   "metadata": {},
   "source": [
    "## 5. Inspect the output of `get('coefficients')` to see what information your model uses."
   ]
  },
  {
   "cell_type": "code",
   "execution_count": 10,
   "metadata": {
    "collapsed": false,
    "scrolled": true
   },
   "outputs": [
    {
     "data": {
      "text/plain": [
       "{'intercept': 3.5298599999999993, 'movie': Columns:\n",
       " \tmovie\tint\n",
       " \tlinear_terms\tfloat\n",
       " \tfactors\tarray\n",
       " \n",
       " Rows: 1682\n",
       " \n",
       " Data:\n",
       " +-------+--------------+-------------------------------+\n",
       " | movie | linear_terms |            factors            |\n",
       " +-------+--------------+-------------------------------+\n",
       " |  242  |     0.0      | [-0.0904000401497, -0.0860... |\n",
       " |  302  |     0.0      | [-0.00110040407162, -0.007... |\n",
       " |  377  |     0.0      | [-0.0872582793236, -0.0173... |\n",
       " |   51  |     0.0      | [-0.0411782637239, -0.0575... |\n",
       " |  346  |     0.0      | [-0.152245894074, -0.06872... |\n",
       " |  474  |     0.0      | [-0.0142985815182, -0.0249... |\n",
       " |  265  |     0.0      | [0.0623504184186, -0.03908... |\n",
       " |  465  |     0.0      | [0.0120684178546, -0.07836... |\n",
       " |  451  |     0.0      | [0.0150575470179, -0.07730... |\n",
       " |   86  |     0.0      | [-0.0385060533881, -0.0901... |\n",
       " +-------+--------------+-------------------------------+\n",
       " [1682 rows x 3 columns]\n",
       " Note: Only the head of the SFrame is printed.\n",
       " You can use print_rows(num_rows=m, num_columns=n) to print more rows and columns., 'user': Columns:\n",
       " \tuser\tint\n",
       " \tlinear_terms\tfloat\n",
       " \tfactors\tarray\n",
       " \n",
       " Rows: 943\n",
       " \n",
       " Data:\n",
       " +------+--------------+-------------------------------+\n",
       " | user | linear_terms |            factors            |\n",
       " +------+--------------+-------------------------------+\n",
       " | 196  |     0.0      | [1.61705422401, 5.43274593... |\n",
       " | 186  |     0.0      | [15.006606102, 9.233233451... |\n",
       " |  22  |     0.0      | [1.87817335129, -10.140048... |\n",
       " | 244  |     0.0      | [-2.74448132515, -5.155097... |\n",
       " | 166  |     0.0      | [23.9819908142, 6.11895895... |\n",
       " | 298  |     0.0      | [9.3306646347, -3.98008489... |\n",
       " | 115  |     0.0      | [-6.35480308533, 2.0530309... |\n",
       " | 253  |     0.0      | [3.67818665504, -15.300700... |\n",
       " | 305  |     0.0      | [1.78119826317, -2.7238285... |\n",
       " |  6   |     0.0      | [5.14215612411, 4.63091373... |\n",
       " +------+--------------+-------------------------------+\n",
       " [943 rows x 3 columns]\n",
       " Note: Only the head of the SFrame is printed.\n",
       " You can use print_rows(num_rows=m, num_columns=n) to print more rows and columns.}"
      ]
     },
     "execution_count": 10,
     "metadata": {},
     "output_type": "execute_result"
    }
   ],
   "source": [
    "rec['coefficients'] "
   ]
  },
  {
   "cell_type": "markdown",
   "metadata": {},
   "source": [
    "## 6. There should be a `movie` and a `user` array in the coefficients. What are the dimensions of this data?"
   ]
  },
  {
   "cell_type": "code",
   "execution_count": 18,
   "metadata": {
    "collapsed": false
   },
   "outputs": [
    {
     "name": "stdout",
     "output_type": "stream",
     "text": [
      "+-------+--------------+-------------------------------+\n",
      "| movie | linear_terms |            factors            |\n",
      "+-------+--------------+-------------------------------+\n",
      "|  242  |     0.0      | [-0.0904000401497, -0.0860... |\n",
      "|  302  |     0.0      | [-0.00110040407162, -0.007... |\n",
      "|  377  |     0.0      | [-0.0872582793236, -0.0173... |\n",
      "|   51  |     0.0      | [-0.0411782637239, -0.0575... |\n",
      "|  346  |     0.0      | [-0.152245894074, -0.06872... |\n",
      "|  474  |     0.0      | [-0.0142985815182, -0.0249... |\n",
      "|  265  |     0.0      | [0.0623504184186, -0.03908... |\n",
      "|  465  |     0.0      | [0.0120684178546, -0.07836... |\n",
      "|  451  |     0.0      | [0.0150575470179, -0.07730... |\n",
      "|   86  |     0.0      | [-0.0385060533881, -0.0901... |\n",
      "+-------+--------------+-------------------------------+\n",
      "[1682 rows x 3 columns]\n",
      "Note: Only the head of the SFrame is printed.\n",
      "You can use print_rows(num_rows=m, num_columns=n) to print more rows and columns.\n",
      "1682\n",
      "[array('d', [-0.09040004014968872, -0.08601237088441849, 0.04046566039323807, 0.019298501312732697, -0.009193602949380875, -0.06604094803333282, 0.002999579533934593, 0.039037544280290604]), array('d', [-0.0011004040716215968, -0.007982606999576092, -0.015174880623817444, 0.01736813224852085, -0.08333743363618851, -0.04072976112365723, 0.0060448176227509975, -0.013173433020710945]), array('d', [-0.08725827932357788, -0.017329443246126175, -0.004852399230003357, -0.09532104432582855, 0.07106278836727142, 0.08911940455436707, 0.0898488238453865, -0.04767646640539169]), array('d', [-0.04117826372385025, -0.05752003192901611, 0.002200414426624775, -0.05079665035009384, -0.07354898750782013, 0.08873094618320465, -0.012451047077775002, 0.0369546040892601]), array('d', [-0.15224589407444, -0.06872071325778961, 0.02254396677017212, 0.022158103063702583, -0.04521091282367706, 0.048203110694885254, -0.03148212283849716, -0.0680270791053772]), array('d', [-0.014298581518232822, -0.024973496794700623, 0.05649348348379135, 0.06559185683727264, -0.008851289749145508, -0.061149854212999344, 0.021013595163822174, -0.009890643879771233]), array('d', [0.06235041841864586, -0.03908908739686012, 0.013712002895772457, -0.023684553802013397, -0.03915197402238846, 0.06033870950341225, 0.01463983952999115, -0.02752634510397911]), array('d', [0.012068417854607105, -0.07836201041936874, 0.02018241584300995, -0.03570332005620003, -0.013599036261439323, 0.06285856664180756, 0.025399506092071533, 0.04595155641436577]), array('d', [0.015057547017931938, -0.07730954885482788, 0.03423367813229561, -0.04732506349682808, 0.009425540454685688, -0.01972034014761448, 0.03484705090522766, 0.06459236890077591]), array('d', [-0.038506053388118744, -0.09019993245601654, -0.002857379149645567, 0.01790708489716053, -0.012595584616065025, -0.04770773649215698, 0.02796032465994358, 0.028818830847740173]), array('d', [0.019646592438220978, -0.040773261338472366, 0.025236589834094048, -0.030191443860530853, -0.03480256721377373, 0.022373680025339127, 0.0021022167056798935, -0.04853847622871399]), array('d', [-0.0025007473304867744, -0.006353141739964485, 0.02097843959927559, -0.06869114935398102, 0.012080061249434948, -0.107963927090168, 0.042072080075740814, -0.02269459143280983]), array('d', [0.05666530504822731, -0.011266829445958138, 0.02139594592154026, -0.0560724213719368, -0.04195374995470047, -0.0038457352202385664, 0.008709616027772427, -0.0240771546959877]), array('d', [-0.10587981343269348, -0.11201132833957672, -0.0075258053839206696, -0.07140173763036728, 0.06938216835260391, -0.05454949289560318, 0.05099682882428169, -0.04642351344227791]), array('d', [-0.03234011307358742, -0.010995070450007915, 0.030472097918391228, -0.10334879159927368, 0.040398336946964264, 0.039097610861063004, 0.030206356197595596, -0.03966139629483223]), array('d', [0.0006555356085300446, -0.08149780333042145, 0.026359202340245247, -0.031048769131302834, 0.04747239500284195, 0.01902279630303383, 0.06304437667131424, 0.03723526746034622]), array('d', [-0.05038422718644142, -0.0785684809088707, 0.004225879907608032, 0.0027527997735887766, 0.008949654176831245, -0.021366648375988007, 0.07037810236215591, 0.033486731350421906]), array('d', [0.046989209949970245, -0.02711387351155281, 0.006975497119128704, -0.023209400475025177, 0.008678467012941837, 0.0013998603681102395, 0.07050339132547379, 0.03668977692723274]), array('d', [-0.01964857615530491, -0.010454551316797733, -0.0005514733493328094, -0.050680097192525864, -0.049468476325273514, 0.13762101531028748, 0.07590438425540924, 0.05770674720406532]), array('d', [-3.472437858581543, -2.546505928039551, -1.6580896377563477, -2.4347920417785645, -2.075613498687744, -0.29094791412353516, -3.54872465133667, -1.2081924676895142]), array('d', [0.03462773188948631, -0.05364013835787773, -0.03724200651049614, -0.04502697288990021, 2.8915703296661377e-05, 0.0352763831615448, 0.07166338711977005, -0.01987464912235737]), array('d', [0.050749678164720535, -0.09890857338905334, 0.05278249457478523, 0.01542751956731081, 0.055317722260951996, -0.020330864936113358, 0.02267220988869667, 0.0396072082221508]), array('d', [0.0575026273727417, 0.037899233400821686, 0.024480435997247696, -0.0013156216591596603, -0.06853177398443222, 0.04861496761441231, 0.0518074557185173, -0.03833260387182236]), array('d', [0.03177064657211304, -0.004536961670964956, -0.016335273161530495, -0.09539218246936798, -0.021906131878495216, 0.043408624827861786, 0.0450458824634552, -0.029098261147737503]), array('d', [0.05183681845664978, -0.046453624963760376, 0.03510104864835739, -0.012349187396466732, -0.026557300239801407, -0.01601608656346798, 0.022502100095152855, -0.031038714572787285]), array('d', [0.005955617409199476, 0.03128419443964958, 0.013743589632213116, -0.08320658653974533, -0.02569969743490219, 0.04745399206876755, 0.05047071725130081, -0.013324622064828873]), array('d', [0.06259691715240479, -0.05442165210843086, 0.0338178351521492, -0.029410136863589287, -0.021515702828764915, 0.012033054605126381, 0.02554973214864731, -0.006247458979487419]), array('d', [0.01819700561463833, 0.006308401003479958, 0.07575412094593048, -0.05628925561904907, 0.07141715288162231, 0.006508979946374893, 0.08040017634630203, -0.06773936003446579]), array('d', [-0.04017115756869316, -0.05782125145196915, 0.07488394528627396, -0.062156349420547485, -0.044761013239622116, 0.010484348982572556, -0.03807903826236725, -0.053763169795274734]), array('d', [0.03590898960828781, 0.024185847491025925, 0.01575753651559353, 0.0033095020335167646, -0.05528107285499573, -0.024296632036566734, 0.08050455152988434, -0.02289692498743534]), array('d', [-0.004926476627588272, -0.03412342444062233, 0.027567341923713684, -0.014720998704433441, -0.04371587932109833, -0.11433114111423492, 0.025129029527306557, -0.06547484546899796]), array('d', [0.025474511086940765, -0.0003150203265249729, -0.015999890863895416, 0.03345145285129547, -0.09871011227369308, 0.006465218961238861, 0.03048335202038288, 0.005081051494926214]), array('d', [0.011969395913183689, -0.015932079404592514, -0.013207932002842426, 0.022059081122279167, -0.047334104776382446, 0.003119556698948145, 0.03616858646273613, -0.016105826944112778]), array('d', [0.060354672372341156, -0.04909268021583557, 0.030635636299848557, -0.0411565899848938, -0.014495831914246082, 0.05024182051420212, 0.03039294108748436, 0.04690893366932869]), array('d', [0.06092584878206253, -0.030385926365852356, 0.043539777398109436, 0.01555565930902958, -0.03712195158004761, 0.006132126320153475, 0.01131879910826683, 0.0007866538362577558]), array('d', [3.364682674407959, 4.792843818664551, 0.9860846996307373, 0.18373644351959229, 1.146304726600647, -1.5409252643585205, 1.6563992500305176, -2.36057710647583]), array('d', [0.025861158967018127, -0.013492448255419731, -0.0018574632704257965, 0.0479668527841568, -0.06431291997432709, -0.031233258545398712, 0.022665224969387054, 0.008213561959564686]), array('d', [-0.018176760524511337, -0.028291326016187668, 0.00771978497505188, -0.09637957811355591, -0.03238917887210846, 0.11037714034318924, 0.020401740446686745, 0.043577890843153]), array('d', [-0.15345579385757446, 0.058098360896110535, 0.03897342085838318, 0.03931919112801552, -0.04846404492855072, -0.07379692047834396, 0.10814794152975082, -0.02137845940887928]), array('d', [-0.01238967664539814, -0.0051177628338336945, 0.06512483954429626, -0.06348451226949692, -0.06948031485080719, -0.06959819048643112, 0.01563003472983837, 0.025294795632362366]), array('d', [0.02743043377995491, -0.04688273370265961, -0.03233451023697853, -0.03741981089115143, 0.006400863640010357, -0.0356048122048378, 0.022463519126176834, 0.0013446753146126866]), array('d', [-0.059620317071676254, -0.09701880067586899, -0.07389829307794571, -0.06281259655952454, -0.06641361862421036, 0.015554379671812057, -0.011792248114943504, -0.03218834847211838]), array('d', [-0.07178107649087906, 0.012076415121555328, 0.030067194253206253, -0.03246701881289482, 0.06721321493387222, 0.0638919249176979, 0.1107877865433693, 0.08193188160657883]), array('d', [-0.05062992498278618, 0.028680752962827682, 0.0009236875921487808, -0.03738517686724663, -0.07432645559310913, -0.02356489934027195, 0.043011028319597244, -0.049957629293203354]), array('d', [-0.053155504167079926, 0.021076500415802002, 0.10248272120952606, -0.016167761757969856, -0.012689270079135895, -0.02645612508058548, 0.02164541929960251, -0.040392935276031494]), array('d', [-0.027281953021883965, -0.07792063802480698, 0.07740335166454315, -0.04064362496137619, -0.055428650230169296, -0.07284696400165558, -0.10140110552310944, 0.027646681293845177]), array('d', [0.034725528210401535, -0.020525533705949783, 0.032737329602241516, -0.025653034448623657, -0.04837565869092941, 0.1052665039896965, 0.012905947864055634, 0.052214253693819046]), array('d', [-0.02036673203110695, -0.005468291230499744, 0.04404326528310776, -0.021295439451932907, -0.047685690224170685, -0.014315028674900532, 0.020583944395184517, -0.009157117456197739]), array('d', [0.035338178277015686, -0.012890057638287544, -0.056974414736032486, -0.0754542201757431, -0.030369004234671593, -0.01939186453819275, 0.03047776035964489, 0.013467755168676376]), array('d', [-0.01911427080631256, -0.004117627162486315, -0.0003050481900572777, 0.03282914683222771, -0.08225663751363754, -0.055296819657087326, 0.029722854495048523, -0.0028097224421799183]), array('d', [0.006853191182017326, -0.017321020364761353, 0.04647986590862274, 0.016843635588884354, 0.000975482165813446, -0.0502597838640213, 0.013600126840174198, -0.0023716376163065434]), array('d', [0.01566649228334427, 0.008043034002184868, -0.0244845449924469, -0.06371534615755081, 0.01065041869878769, -0.008851303718984127, 0.08298996835947037, -0.020003603771328926]), array('d', [0.06586872041225433, -0.04307544231414795, 0.017054598778486252, -0.028535151854157448, -0.03680579364299774, -0.013526766560971737, -0.016745904460549355, -0.06629747152328491]), array('d', [0.037011340260505676, -0.04624581336975098, 0.021333688870072365, 0.0032400954514741898, -0.05469857156276703, 0.04304719716310501, 0.01777670904994011, 0.05172260105609894]), array('d', [-0.006398104131221771, 0.05609454959630966, 0.11485427618026733, -0.028871646150946617, 0.029502252116799355, 0.007610322441905737, 0.04823780059814453, -0.045699357986450195]), array('d', [-0.004223614931106567, 0.023084385320544243, 0.12436854839324951, -0.07252027094364166, 0.05486055463552475, -0.023830659687519073, 0.06984926015138626, -0.06252525746822357]), array('d', [0.08231298625469208, -0.07722106575965881, 0.04493480920791626, -0.022328466176986694, 0.01723402738571167, -0.02043502777814865, 0.02082817070186138, 0.07647712528705597]), array('d', [0.04596014693379402, -0.060761451721191406, -0.003995765000581741, 0.014173315837979317, -0.02257809042930603, -0.0214130487293005, 0.08229529857635498, 0.012228960171341896]), array('d', [0.031043756753206253, -0.018080616369843483, 0.024572990834712982, 0.02828509733080864, -0.08024480938911438, 0.014967256225645542, -0.001473133685067296, 0.024803461506962776]), array('d', [-0.08199630677700043, -0.041639480739831924, -0.08627002686262131, -0.007965456694364548, -0.024495422840118408, -0.1974652111530304, 0.12240041792392731, 0.06937506049871445]), array('d', [-0.01857987605035305, 0.04004259780049324, 0.004722220823168755, -0.06553193926811218, -0.08616559207439423, 0.03886105865240097, 0.00011341855861246586, 0.005169130861759186]), array('d', [-0.031329091638326645, 0.08853849768638611, 0.07972314208745956, -0.0723593682050705, -0.06615355610847473, 0.009509585797786713, 0.06705380976200104, -0.047368813306093216]), array('d', [0.00877488125115633, 0.022526245564222336, -0.004446093458682299, 0.03284989669919014, -0.047100409865379333, 0.048099860548973083, 0.05972720682621002, -0.06255454570055008]), array('d', [-0.0683901458978653, -0.0716622918844223, 0.09204012155532837, -0.05385372042655945, -0.009596660733222961, -0.12251639366149902, -0.07755166292190552, 0.09690166264772415]), array('d', [-0.03304441645741463, 0.042764052748680115, 0.05685748904943466, -0.017237991094589233, -0.0808529481291771, 0.047850340604782104, 0.06634695082902908, 0.12360554188489914]), array('d', [-0.001989430282264948, 0.017371509224176407, 0.02601723186671734, -0.05355776846408844, -0.03590477257966995, 0.026761019602417946, 0.06888964772224426, -0.05104212462902069]), array('d', [0.032075539231300354, -0.02977699041366577, -0.018896328285336494, 0.037540651857852936, -0.061942972242832184, -0.026755809783935547, 0.03779324144124985, 0.018962357193231583]), array('d', [-0.12968388199806213, 0.03181300312280655, 0.03797023370862007, 0.0398653969168663, -0.070490762591362, -0.04300418496131897, 0.04635397344827652, 0.07994604110717773]), array('d', [0.04712170362472534, -0.05439799278974533, -0.006739595904946327, -0.043610528111457825, -0.03740130737423897, 0.022380221635103226, 0.022844849154353142, 0.014718589372932911]), array('d', [-0.04012604430317879, 0.012377732433378696, -0.03421511501073837, -0.15605570375919342, 0.06337658315896988, -0.014162421226501465, 0.112662173807621, 0.00163227878510952]), array('d', [0.032943472266197205, -0.022741597145795822, -0.002794872969388962, 0.025260591879487038, 0.00712190754711628, 0.035405516624450684, 0.09468406438827515, 0.0275900699198246]), array('d', [0.002713256748393178, 0.012170371599495411, -0.0009737573564052582, 0.03145068138837814, -0.09040024131536484, -0.034082215279340744, 0.025761839002370834, -0.033946190029382706]), array('d', [0.001485154265537858, -0.08381133526563644, 0.006252900697290897, -0.0718294307589531, -0.03057771921157837, 0.020699242129921913, -0.040559086948633194, 0.008466826751828194]), array('d', [-0.002201299648731947, -0.012068183161318302, 0.024350181221961975, -0.050517138093709946, -0.06750944256782532, -0.07966052740812302, 0.003995804116129875, 0.0015318896621465683]), array('d', [-0.006628906354308128, 0.0317252054810524, 0.04194171726703644, -0.05684755742549896, 0.018258709460496902, 0.08912982791662216, 0.06427977234125137, -0.012613076716661453]), array('d', [-0.0028522517532110214, -0.015552215278148651, -0.017409004271030426, -0.035893842577934265, -0.02673746831715107, 0.037656720727682114, 0.0774078518152237, -0.013009108603000641]), array('d', [0.0193634070456028, -0.029919900000095367, 0.08444858342409134, -0.04060445725917816, 0.044633299112319946, 0.008712919428944588, 0.05649072304368019, -0.050651442259550095]), array('d', [0.04745480790734291, -0.016602279618382454, 0.007273989729583263, -0.02552528865635395, -0.03873232752084732, 0.018455227836966515, 0.043681953102350235, -0.007731484714895487]), array('d', [0.03867102786898613, -0.006262494716793299, -0.004198497626930475, 0.04608028754591942, -0.04789474233984947, -0.03996632620692253, 0.04284068942070007, -0.02605113945901394]), array('d', [0.006836720742285252, -0.011903021484613419, 0.024427885189652443, -0.0502760112285614, -0.015087587758898735, 0.047364577651023865, 0.056048326194286346, -0.03896250203251839]), array('d', [-0.00164016243070364, -0.0717487633228302, 0.008795585483312607, -0.07446196675300598, -0.0285062026232481, 0.06267207860946655, 0.0200131144374609, 0.04955217242240906]), array('d', [-0.07990019768476486, -0.03308486193418503, 0.03023865446448326, -0.018392398953437805, -0.09049659967422485, -0.011116953566670418, -0.020877724513411522, 0.01791066862642765]), array('d', [0.0011441190727055073, -0.0033162832260131836, 0.023607471957802773, -0.035019464790821075, -0.03509528189897537, -0.012250438332557678, 0.05441028252243996, -0.05176838859915733]), array('d', [0.0014729781541973352, -0.05336426943540573, 0.020729660987854004, -0.029499877244234085, -0.017084090039134026, 0.01775183342397213, 0.027520691975951195, 0.014504683203995228]), array('d', [-0.0014263340272009373, -0.022367224097251892, 0.010992921888828278, -0.0296015664935112, -0.035540711134672165, 0.03351372480392456, 0.021085238084197044, 0.04941103979945183]), array('d', [-0.0664510428905487, 0.0558682456612587, 0.04846547544002533, -0.0780516266822815, -0.02831401862204075, 0.045853860676288605, 0.06526005268096924, 0.019597068428993225]), array('d', [-0.0573498010635376, -0.053089797496795654, 0.005737049039453268, -0.02840416505932808, -0.05054153501987457, 0.021133452653884888, 0.028390970081090927, 0.052910562604665756]), array('d', [0.045509789139032364, 0.005282976198941469, 0.05882725119590759, -0.0679606944322586, -0.024726320058107376, 0.07334422320127487, 0.03542111814022064, -0.01820913329720497]), array('d', [-0.03523284196853638, -0.01665354333817959, 0.08558378368616104, 0.022781074047088623, -0.03703665733337402, -0.0045687854290008545, 0.01511002890765667, 0.001469433307647705]), array('d', [0.020746935158967972, -0.05427120625972748, -0.0048732636496424675, 0.009706486016511917, -0.02904362604022026, -0.054963741451501846, 0.026533231139183044, 0.027187425643205643]), array('d', [0.026407966390252113, -0.23421534895896912, 0.0854174867272377, -0.05375532805919647, 0.050719182938337326, 0.11105747520923615, -0.1922224760055542, 0.1662491410970688]), array('d', [0.04129193350672722, -0.051211465150117874, 0.017030173912644386, 0.038193292915821075, -0.024365495890378952, -0.030093682929873466, 0.03227553144097328, 0.012529965490102768]), array('d', [-0.0917089655995369, -0.07193203270435333, 0.04256420582532883, -0.018319906666874886, -0.008891558274626732, -0.07784727215766907, 0.016410116106271744, 0.024452289566397667]), array('d', [-0.007142620161175728, 0.020060528069734573, 0.08321888744831085, 0.00739409402012825, -0.0356014147400856, -0.04950067028403282, 0.00789084006100893, 0.005696436855942011]), array('d', [-0.037847667932510376, 0.03613825514912605, 0.007630535401403904, 0.0467514842748642, -0.043538786470890045, -0.0870746299624443, 0.0703519657254219, -0.014574975706636906]), array('d', [0.007682709954679012, -0.036393776535987854, 0.03583855926990509, -0.07376597821712494, 0.014710015617311, 0.040869392454624176, 0.007823208346962929, -0.030709557235240936]), array('d', [0.036585044115781784, -0.0384269617497921, 0.03754623234272003, 0.002309892326593399, -0.02992049977183342, -0.052371617406606674, 0.032891497015953064, -0.0005144327296875417]), array('d', [0.051693640649318695, 0.019610919058322906, -0.004106512293219566, -0.06116572767496109, -0.008724460378289223, -0.022670291364192963, 0.052262093871831894, 0.0056595345959067345]), array('d', [0.02649509534239769, -0.033764928579330444, -0.020075511187314987, -0.06919045746326447, -0.01941339671611786, 0.02876114845275879, 0.008019722998142242, -0.041759174317121506]), array('d', [0.09251708537340164, -0.05045740306377411, 0.02595350705087185, 0.03363258019089699, -0.02428806945681572, 0.0289032943546772, 0.044743072241544724, 0.03690781444311142]), ... ]\n",
      "8\n",
      "+------+--------------+-------------------------------+\n",
      "| user | linear_terms |            factors            |\n",
      "+------+--------------+-------------------------------+\n",
      "| 196  |     0.0      | [1.61705422401, 5.43274593... |\n",
      "| 186  |     0.0      | [15.006606102, 9.233233451... |\n",
      "|  22  |     0.0      | [1.87817335129, -10.140048... |\n",
      "| 244  |     0.0      | [-2.74448132515, -5.155097... |\n",
      "| 166  |     0.0      | [23.9819908142, 6.11895895... |\n",
      "| 298  |     0.0      | [9.3306646347, -3.98008489... |\n",
      "| 115  |     0.0      | [-6.35480308533, 2.0530309... |\n",
      "| 253  |     0.0      | [3.67818665504, -15.300700... |\n",
      "| 305  |     0.0      | [1.78119826317, -2.7238285... |\n",
      "|  6   |     0.0      | [5.14215612411, 4.63091373... |\n",
      "+------+--------------+-------------------------------+\n",
      "[943 rows x 3 columns]\n",
      "Note: Only the head of the SFrame is printed.\n",
      "You can use print_rows(num_rows=m, num_columns=n) to print more rows and columns.\n",
      "943\n",
      "8\n"
     ]
    }
   ],
   "source": [
    "movie_sf = rec['coefficients']['movie']\n",
    "print movie_sf\n",
    "print len(movie_sf)\n",
    "print movie_sf['factors'][0]\n",
    "print len(movie_sf['factors'][0])\n",
    "\n",
    "\n",
    "user_sf = rec['coefficients']['user']\n",
    "print user_sf\n",
    "print len(user_sf)\n",
    "print len(user_sf['factors'][0])"
   ]
  },
  {
   "cell_type": "markdown",
   "metadata": {},
   "source": [
    "## 7. Without using the `predict` method, compute the predicted rating user 1 of movie 100."
   ]
  },
  {
   "cell_type": "code",
   "execution_count": 28,
   "metadata": {
    "collapsed": false
   },
   "outputs": [
    {
     "name": "stdout",
     "output_type": "stream",
     "text": [
      "rating: 4.72744503168\n"
     ]
    }
   ],
   "source": [
    "movie_array = movie_sf[movie_sf['movie'] == 100]['factors'][0]\n",
    "user_array = user_sf[user_sf['user'] == 1]['factors'][0]\n",
    "intercept = rec['coefficients']['intercept']\n",
    "print \"rating:\", np.dot(movie_array, user_array) + intercept    # 4.879"
   ]
  },
  {
   "cell_type": "markdown",
   "metadata": {},
   "source": [
    "## 8. What is the intercept term? Can you reproduce the calculation of this value on your own?\n",
    "\n",
    "*The intercept term is the scaling factor. We can compute the value by taking the average of all the ratings in the original dataset.*"
   ]
  },
  {
   "cell_type": "code",
   "execution_count": 29,
   "metadata": {
    "collapsed": false
   },
   "outputs": [
    {
     "name": "stdout",
     "output_type": "stream",
     "text": [
      "intercept: 3.52986\n",
      "average: 3.52986\n"
     ]
    }
   ],
   "source": [
    "print \"intercept:\", intercept\n",
    "print \"average:\", np.average(sf['rating'])"
   ]
  },
  {
   "cell_type": "markdown",
   "metadata": {},
   "source": [
    "## 9. Call the `predict` method on your input data to get the predicted ratings, and verify that the RMSE reported by the model diagnostics is correct."
   ]
  },
  {
   "cell_type": "code",
   "execution_count": 30,
   "metadata": {
    "collapsed": false
   },
   "outputs": [
    {
     "data": {
      "text/html": [
       "<div style=\"max-height:1000px;max-width:1500px;overflow:auto;\"><table frame=\"box\" rules=\"cols\">\n",
       "    <tr>\n",
       "        <th style=\"padding-left: 1em; padding-right: 1em; text-align: center\">user</th>\n",
       "        <th style=\"padding-left: 1em; padding-right: 1em; text-align: center\">movie</th>\n",
       "        <th style=\"padding-left: 1em; padding-right: 1em; text-align: center\">rating</th>\n",
       "    </tr>\n",
       "    <tr>\n",
       "        <td style=\"padding-left: 1em; padding-right: 1em; text-align: center; vertical-align: top\">196</td>\n",
       "        <td style=\"padding-left: 1em; padding-right: 1em; text-align: center; vertical-align: top\">242</td>\n",
       "        <td style=\"padding-left: 1em; padding-right: 1em; text-align: center; vertical-align: top\">3</td>\n",
       "    </tr>\n",
       "    <tr>\n",
       "        <td style=\"padding-left: 1em; padding-right: 1em; text-align: center; vertical-align: top\">186</td>\n",
       "        <td style=\"padding-left: 1em; padding-right: 1em; text-align: center; vertical-align: top\">302</td>\n",
       "        <td style=\"padding-left: 1em; padding-right: 1em; text-align: center; vertical-align: top\">3</td>\n",
       "    </tr>\n",
       "    <tr>\n",
       "        <td style=\"padding-left: 1em; padding-right: 1em; text-align: center; vertical-align: top\">22</td>\n",
       "        <td style=\"padding-left: 1em; padding-right: 1em; text-align: center; vertical-align: top\">377</td>\n",
       "        <td style=\"padding-left: 1em; padding-right: 1em; text-align: center; vertical-align: top\">1</td>\n",
       "    </tr>\n",
       "    <tr>\n",
       "        <td style=\"padding-left: 1em; padding-right: 1em; text-align: center; vertical-align: top\">244</td>\n",
       "        <td style=\"padding-left: 1em; padding-right: 1em; text-align: center; vertical-align: top\">51</td>\n",
       "        <td style=\"padding-left: 1em; padding-right: 1em; text-align: center; vertical-align: top\">2</td>\n",
       "    </tr>\n",
       "    <tr>\n",
       "        <td style=\"padding-left: 1em; padding-right: 1em; text-align: center; vertical-align: top\">166</td>\n",
       "        <td style=\"padding-left: 1em; padding-right: 1em; text-align: center; vertical-align: top\">346</td>\n",
       "        <td style=\"padding-left: 1em; padding-right: 1em; text-align: center; vertical-align: top\">1</td>\n",
       "    </tr>\n",
       "    <tr>\n",
       "        <td style=\"padding-left: 1em; padding-right: 1em; text-align: center; vertical-align: top\">298</td>\n",
       "        <td style=\"padding-left: 1em; padding-right: 1em; text-align: center; vertical-align: top\">474</td>\n",
       "        <td style=\"padding-left: 1em; padding-right: 1em; text-align: center; vertical-align: top\">4</td>\n",
       "    </tr>\n",
       "    <tr>\n",
       "        <td style=\"padding-left: 1em; padding-right: 1em; text-align: center; vertical-align: top\">115</td>\n",
       "        <td style=\"padding-left: 1em; padding-right: 1em; text-align: center; vertical-align: top\">265</td>\n",
       "        <td style=\"padding-left: 1em; padding-right: 1em; text-align: center; vertical-align: top\">2</td>\n",
       "    </tr>\n",
       "    <tr>\n",
       "        <td style=\"padding-left: 1em; padding-right: 1em; text-align: center; vertical-align: top\">253</td>\n",
       "        <td style=\"padding-left: 1em; padding-right: 1em; text-align: center; vertical-align: top\">465</td>\n",
       "        <td style=\"padding-left: 1em; padding-right: 1em; text-align: center; vertical-align: top\">5</td>\n",
       "    </tr>\n",
       "    <tr>\n",
       "        <td style=\"padding-left: 1em; padding-right: 1em; text-align: center; vertical-align: top\">305</td>\n",
       "        <td style=\"padding-left: 1em; padding-right: 1em; text-align: center; vertical-align: top\">451</td>\n",
       "        <td style=\"padding-left: 1em; padding-right: 1em; text-align: center; vertical-align: top\">3</td>\n",
       "    </tr>\n",
       "    <tr>\n",
       "        <td style=\"padding-left: 1em; padding-right: 1em; text-align: center; vertical-align: top\">6</td>\n",
       "        <td style=\"padding-left: 1em; padding-right: 1em; text-align: center; vertical-align: top\">86</td>\n",
       "        <td style=\"padding-left: 1em; padding-right: 1em; text-align: center; vertical-align: top\">3</td>\n",
       "    </tr>\n",
       "</table>\n",
       "[100000 rows x 3 columns]<br/>Note: Only the head of the SFrame is printed.<br/>You can use print_rows(num_rows=m, num_columns=n) to print more rows and columns.\n",
       "</div>"
      ],
      "text/plain": [
       "Columns:\n",
       "\tuser\tint\n",
       "\tmovie\tint\n",
       "\trating\tint\n",
       "\n",
       "Rows: 100000\n",
       "\n",
       "Data:\n",
       "+------+-------+--------+\n",
       "| user | movie | rating |\n",
       "+------+-------+--------+\n",
       "| 196  |  242  |   3    |\n",
       "| 186  |  302  |   3    |\n",
       "|  22  |  377  |   1    |\n",
       "| 244  |   51  |   2    |\n",
       "| 166  |  346  |   1    |\n",
       "| 298  |  474  |   4    |\n",
       "| 115  |  265  |   2    |\n",
       "| 253  |  465  |   5    |\n",
       "| 305  |  451  |   3    |\n",
       "|  6   |   86  |   3    |\n",
       "+------+-------+--------+\n",
       "[100000 rows x 3 columns]\n",
       "Note: Only the head of the SFrame is printed.\n",
       "You can use print_rows(num_rows=m, num_columns=n) to print more rows and columns."
      ]
     },
     "execution_count": 30,
     "metadata": {},
     "output_type": "execute_result"
    }
   ],
   "source": [
    "sf"
   ]
  },
  {
   "cell_type": "code",
   "execution_count": 31,
   "metadata": {
    "collapsed": false
   },
   "outputs": [
    {
     "name": "stdout",
     "output_type": "stream",
     "text": [
      "graphlab's reported rmse: 0.722516471207\n",
      "calculated rmse: 0.722516471207\n"
     ]
    }
   ],
   "source": [
    "from sklearn.metrics import mean_squared_error\n",
    "\n",
    "predictions = rec.predict(sf)\n",
    "rmse = np.sqrt(mean_squared_error(sf['rating'], predictions))\n",
    "\n",
    "print \"graphlab's reported rmse:\", rec['training_rmse']\n",
    "print \"calculated rmse:\", rmse"
   ]
  },
  {
   "cell_type": "markdown",
   "metadata": {},
   "source": [
    "## 10. Compare the summary statistics of the original data with your predictions. (`pd.Series(ratings).describe()` to do this). \n",
    "\n",
    "Does anything stand out about the min/max?"
   ]
  },
  {
   "cell_type": "code",
   "execution_count": 32,
   "metadata": {
    "collapsed": false
   },
   "outputs": [
    {
     "data": {
      "text/plain": [
       "count    100000.000000\n",
       "mean          3.529860\n",
       "std           1.125674\n",
       "min           1.000000\n",
       "25%           3.000000\n",
       "50%           4.000000\n",
       "75%           4.000000\n",
       "max           5.000000\n",
       "dtype: float64"
      ]
     },
     "execution_count": 32,
     "metadata": {},
     "output_type": "execute_result"
    }
   ],
   "source": [
    "pd.Series(sf['rating']).describe()"
   ]
  },
  {
   "cell_type": "markdown",
   "metadata": {},
   "source": [
    "## 11. Regularization - graphlab provides two regularization parameters. \n",
    "\n",
    "The parameter `regularization` controls the value of lambda. Using what you know about regularization from linear regression, what effect would you expect this to have on solutions? What would you expect to see in the difference of training RMSE between setting this parameter to 0 or 0.1? Try it."
   ]
  },
  {
   "cell_type": "code",
   "execution_count": 33,
   "metadata": {
    "collapsed": false,
    "scrolled": true
   },
   "outputs": [
    {
     "data": {
      "text/html": [
       "<pre>Recsys training: model = factorization_recommender</pre>"
      ],
      "text/plain": [
       "Recsys training: model = factorization_recommender"
      ]
     },
     "metadata": {},
     "output_type": "display_data"
    },
    {
     "data": {
      "text/html": [
       "<pre>Preparing data set.</pre>"
      ],
      "text/plain": [
       "Preparing data set."
      ]
     },
     "metadata": {},
     "output_type": "display_data"
    },
    {
     "data": {
      "text/html": [
       "<pre>    Data has 100000 observations with 943 users and 1682 items.</pre>"
      ],
      "text/plain": [
       "    Data has 100000 observations with 943 users and 1682 items."
      ]
     },
     "metadata": {},
     "output_type": "display_data"
    },
    {
     "data": {
      "text/html": [
       "<pre>    Data prepared in: 0.081053s</pre>"
      ],
      "text/plain": [
       "    Data prepared in: 0.081053s"
      ]
     },
     "metadata": {},
     "output_type": "display_data"
    },
    {
     "data": {
      "text/html": [
       "<pre>Training factorization_recommender for recommendations.</pre>"
      ],
      "text/plain": [
       "Training factorization_recommender for recommendations."
      ]
     },
     "metadata": {},
     "output_type": "display_data"
    },
    {
     "data": {
      "text/html": [
       "<pre>+------------------------------+--------------------------------------------------+----------+</pre>"
      ],
      "text/plain": [
       "+------------------------------+--------------------------------------------------+----------+"
      ]
     },
     "metadata": {},
     "output_type": "display_data"
    },
    {
     "data": {
      "text/html": [
       "<pre>| Parameter                    | Description                                      | Value    |</pre>"
      ],
      "text/plain": [
       "| Parameter                    | Description                                      | Value    |"
      ]
     },
     "metadata": {},
     "output_type": "display_data"
    },
    {
     "data": {
      "text/html": [
       "<pre>+------------------------------+--------------------------------------------------+----------+</pre>"
      ],
      "text/plain": [
       "+------------------------------+--------------------------------------------------+----------+"
      ]
     },
     "metadata": {},
     "output_type": "display_data"
    },
    {
     "data": {
      "text/html": [
       "<pre>| num_factors                  | Factor Dimension                                 | 8        |</pre>"
      ],
      "text/plain": [
       "| num_factors                  | Factor Dimension                                 | 8        |"
      ]
     },
     "metadata": {},
     "output_type": "display_data"
    },
    {
     "data": {
      "text/html": [
       "<pre>| regularization               | L2 Regularization on Factors                     | 0        |</pre>"
      ],
      "text/plain": [
       "| regularization               | L2 Regularization on Factors                     | 0        |"
      ]
     },
     "metadata": {},
     "output_type": "display_data"
    },
    {
     "data": {
      "text/html": [
       "<pre>| max_iterations               | Maximum Number of Iterations                     | 50       |</pre>"
      ],
      "text/plain": [
       "| max_iterations               | Maximum Number of Iterations                     | 50       |"
      ]
     },
     "metadata": {},
     "output_type": "display_data"
    },
    {
     "data": {
      "text/html": [
       "<pre>| solver                       | Solver used for training                         | als      |</pre>"
      ],
      "text/plain": [
       "| solver                       | Solver used for training                         | als      |"
      ]
     },
     "metadata": {},
     "output_type": "display_data"
    },
    {
     "data": {
      "text/html": [
       "<pre>+------------------------------+--------------------------------------------------+----------+</pre>"
      ],
      "text/plain": [
       "+------------------------------+--------------------------------------------------+----------+"
      ]
     },
     "metadata": {},
     "output_type": "display_data"
    },
    {
     "data": {
      "text/html": [
       "<pre>+---------+--------------+------------------------+</pre>"
      ],
      "text/plain": [
       "+---------+--------------+------------------------+"
      ]
     },
     "metadata": {},
     "output_type": "display_data"
    },
    {
     "data": {
      "text/html": [
       "<pre>| Iter.   | Elapsed time | RMSE                   |</pre>"
      ],
      "text/plain": [
       "| Iter.   | Elapsed time | RMSE                   |"
      ]
     },
     "metadata": {},
     "output_type": "display_data"
    },
    {
     "data": {
      "text/html": [
       "<pre>+---------+--------------+------------------------+</pre>"
      ],
      "text/plain": [
       "+---------+--------------+------------------------+"
      ]
     },
     "metadata": {},
     "output_type": "display_data"
    },
    {
     "data": {
      "text/html": [
       "<pre>| Initial | 0us          | NA                     |</pre>"
      ],
      "text/plain": [
       "| Initial | 0us          | NA                     |"
      ]
     },
     "metadata": {},
     "output_type": "display_data"
    },
    {
     "data": {
      "text/html": [
       "<pre>+---------+--------------+------------------------+</pre>"
      ],
      "text/plain": [
       "+---------+--------------+------------------------+"
      ]
     },
     "metadata": {},
     "output_type": "display_data"
    },
    {
     "data": {
      "text/html": [
       "<pre>| 0       | 43.029ms     | 0.959153               |</pre>"
      ],
      "text/plain": [
       "| 0       | 43.029ms     | 0.959153               |"
      ]
     },
     "metadata": {},
     "output_type": "display_data"
    },
    {
     "data": {
      "text/html": [
       "<pre>| 1       | 82.056ms     | 0.846387               |</pre>"
      ],
      "text/plain": [
       "| 1       | 82.056ms     | 0.846387               |"
      ]
     },
     "metadata": {},
     "output_type": "display_data"
    },
    {
     "data": {
      "text/html": [
       "<pre>| 2       | 119.081ms    | 0.803566               |</pre>"
      ],
      "text/plain": [
       "| 2       | 119.081ms    | 0.803566               |"
      ]
     },
     "metadata": {},
     "output_type": "display_data"
    },
    {
     "data": {
      "text/html": [
       "<pre>| 3       | 156.106ms    | 0.781441               |</pre>"
      ],
      "text/plain": [
       "| 3       | 156.106ms    | 0.781441               |"
      ]
     },
     "metadata": {},
     "output_type": "display_data"
    },
    {
     "data": {
      "text/html": [
       "<pre>| 4       | 193.132ms    | 0.768541               |</pre>"
      ],
      "text/plain": [
       "| 4       | 193.132ms    | 0.768541               |"
      ]
     },
     "metadata": {},
     "output_type": "display_data"
    },
    {
     "data": {
      "text/html": [
       "<pre>| 5       | 249.168ms    | 0.760264               |</pre>"
      ],
      "text/plain": [
       "| 5       | 249.168ms    | 0.760264               |"
      ]
     },
     "metadata": {},
     "output_type": "display_data"
    },
    {
     "data": {
      "text/html": [
       "<pre>| 6       | 280.692ms    | 0.754343               |</pre>"
      ],
      "text/plain": [
       "| 6       | 280.692ms    | 0.754343               |"
      ]
     },
     "metadata": {},
     "output_type": "display_data"
    },
    {
     "data": {
      "text/html": [
       "<pre>| 7       | 331.231ms    | 0.749822               |</pre>"
      ],
      "text/plain": [
       "| 7       | 331.231ms    | 0.749822               |"
      ]
     },
     "metadata": {},
     "output_type": "display_data"
    },
    {
     "data": {
      "text/html": [
       "<pre>| 8       | 390.281ms    | 0.74628                |</pre>"
      ],
      "text/plain": [
       "| 8       | 390.281ms    | 0.74628                |"
      ]
     },
     "metadata": {},
     "output_type": "display_data"
    },
    {
     "data": {
      "text/html": [
       "<pre>| 9       | 433.315ms    | 0.743557               |</pre>"
      ],
      "text/plain": [
       "| 9       | 433.315ms    | 0.743557               |"
      ]
     },
     "metadata": {},
     "output_type": "display_data"
    },
    {
     "data": {
      "text/html": [
       "<pre>| 10      | 500.362ms    | 0.741425               |</pre>"
      ],
      "text/plain": [
       "| 10      | 500.362ms    | 0.741425               |"
      ]
     },
     "metadata": {},
     "output_type": "display_data"
    },
    {
     "data": {
      "text/html": [
       "<pre>| 11      | 544.394ms    | 0.739676               |</pre>"
      ],
      "text/plain": [
       "| 11      | 544.394ms    | 0.739676               |"
      ]
     },
     "metadata": {},
     "output_type": "display_data"
    },
    {
     "data": {
      "text/html": [
       "<pre>| 12      | 582.429ms    | 0.738252               |</pre>"
      ],
      "text/plain": [
       "| 12      | 582.429ms    | 0.738252               |"
      ]
     },
     "metadata": {},
     "output_type": "display_data"
    },
    {
     "data": {
      "text/html": [
       "<pre>| 13      | 630.456ms    | 0.737095               |</pre>"
      ],
      "text/plain": [
       "| 13      | 630.456ms    | 0.737095               |"
      ]
     },
     "metadata": {},
     "output_type": "display_data"
    },
    {
     "data": {
      "text/html": [
       "<pre>| 14      | 670.988ms    | 0.73612                |</pre>"
      ],
      "text/plain": [
       "| 14      | 670.988ms    | 0.73612                |"
      ]
     },
     "metadata": {},
     "output_type": "display_data"
    },
    {
     "data": {
      "text/html": [
       "<pre>| 15      | 708.012ms    | 0.735269               |</pre>"
      ],
      "text/plain": [
       "| 15      | 708.012ms    | 0.735269               |"
      ]
     },
     "metadata": {},
     "output_type": "display_data"
    },
    {
     "data": {
      "text/html": [
       "<pre>| 16      | 758.055ms    | 0.734511               |</pre>"
      ],
      "text/plain": [
       "| 16      | 758.055ms    | 0.734511               |"
      ]
     },
     "metadata": {},
     "output_type": "display_data"
    },
    {
     "data": {
      "text/html": [
       "<pre>| 17      | 806.589ms    | 0.733818               |</pre>"
      ],
      "text/plain": [
       "| 17      | 806.589ms    | 0.733818               |"
      ]
     },
     "metadata": {},
     "output_type": "display_data"
    },
    {
     "data": {
      "text/html": [
       "<pre>| 18      | 852.621ms    | 0.733145               |</pre>"
      ],
      "text/plain": [
       "| 18      | 852.621ms    | 0.733145               |"
      ]
     },
     "metadata": {},
     "output_type": "display_data"
    },
    {
     "data": {
      "text/html": [
       "<pre>| 19      | 894.649ms    | 0.732541               |</pre>"
      ],
      "text/plain": [
       "| 19      | 894.649ms    | 0.732541               |"
      ]
     },
     "metadata": {},
     "output_type": "display_data"
    },
    {
     "data": {
      "text/html": [
       "<pre>| 20      | 944.682ms    | 0.731973               |</pre>"
      ],
      "text/plain": [
       "| 20      | 944.682ms    | 0.731973               |"
      ]
     },
     "metadata": {},
     "output_type": "display_data"
    },
    {
     "data": {
      "text/html": [
       "<pre>| 21      | 990.713ms    | 0.731451               |</pre>"
      ],
      "text/plain": [
       "| 21      | 990.713ms    | 0.731451               |"
      ]
     },
     "metadata": {},
     "output_type": "display_data"
    },
    {
     "data": {
      "text/html": [
       "<pre>| 22      | 1.03s        | 0.730905               |</pre>"
      ],
      "text/plain": [
       "| 22      | 1.03s        | 0.730905               |"
      ]
     },
     "metadata": {},
     "output_type": "display_data"
    },
    {
     "data": {
      "text/html": [
       "<pre>| 23      | 1.07s        | 0.730398               |</pre>"
      ],
      "text/plain": [
       "| 23      | 1.07s        | 0.730398               |"
      ]
     },
     "metadata": {},
     "output_type": "display_data"
    },
    {
     "data": {
      "text/html": [
       "<pre>| 24      | 1.12s        | 0.729924               |</pre>"
      ],
      "text/plain": [
       "| 24      | 1.12s        | 0.729924               |"
      ]
     },
     "metadata": {},
     "output_type": "display_data"
    },
    {
     "data": {
      "text/html": [
       "<pre>| 25      | 1.15s        | 0.729496               |</pre>"
      ],
      "text/plain": [
       "| 25      | 1.15s        | 0.729496               |"
      ]
     },
     "metadata": {},
     "output_type": "display_data"
    },
    {
     "data": {
      "text/html": [
       "<pre>| 26      | 1.21s        | 0.729107               |</pre>"
      ],
      "text/plain": [
       "| 26      | 1.21s        | 0.729107               |"
      ]
     },
     "metadata": {},
     "output_type": "display_data"
    },
    {
     "data": {
      "text/html": [
       "<pre>| 27      | 1.26s        | 0.72872                |</pre>"
      ],
      "text/plain": [
       "| 27      | 1.26s        | 0.72872                |"
      ]
     },
     "metadata": {},
     "output_type": "display_data"
    },
    {
     "data": {
      "text/html": [
       "<pre>| 28      | 1.30s        | 0.728332               |</pre>"
      ],
      "text/plain": [
       "| 28      | 1.30s        | 0.728332               |"
      ]
     },
     "metadata": {},
     "output_type": "display_data"
    },
    {
     "data": {
      "text/html": [
       "<pre>| 29      | 1.36s        | 0.727986               |</pre>"
      ],
      "text/plain": [
       "| 29      | 1.36s        | 0.727986               |"
      ]
     },
     "metadata": {},
     "output_type": "display_data"
    },
    {
     "data": {
      "text/html": [
       "<pre>| 30      | 1.40s        | 0.727683               |</pre>"
      ],
      "text/plain": [
       "| 30      | 1.40s        | 0.727683               |"
      ]
     },
     "metadata": {},
     "output_type": "display_data"
    },
    {
     "data": {
      "text/html": [
       "<pre>| 31      | 1.44s        | 0.727403               |</pre>"
      ],
      "text/plain": [
       "| 31      | 1.44s        | 0.727403               |"
      ]
     },
     "metadata": {},
     "output_type": "display_data"
    },
    {
     "data": {
      "text/html": [
       "<pre>| 32      | 1.48s        | 0.727147               |</pre>"
      ],
      "text/plain": [
       "| 32      | 1.48s        | 0.727147               |"
      ]
     },
     "metadata": {},
     "output_type": "display_data"
    },
    {
     "data": {
      "text/html": [
       "<pre>| 33      | 1.54s        | 0.726899               |</pre>"
      ],
      "text/plain": [
       "| 33      | 1.54s        | 0.726899               |"
      ]
     },
     "metadata": {},
     "output_type": "display_data"
    },
    {
     "data": {
      "text/html": [
       "<pre>| 34      | 1.58s        | 0.726663               |</pre>"
      ],
      "text/plain": [
       "| 34      | 1.58s        | 0.726663               |"
      ]
     },
     "metadata": {},
     "output_type": "display_data"
    },
    {
     "data": {
      "text/html": [
       "<pre>| 35      | 1.62s        | 0.726429               |</pre>"
      ],
      "text/plain": [
       "| 35      | 1.62s        | 0.726429               |"
      ]
     },
     "metadata": {},
     "output_type": "display_data"
    },
    {
     "data": {
      "text/html": [
       "<pre>| 36      | 1.66s        | 0.72621                |</pre>"
      ],
      "text/plain": [
       "| 36      | 1.66s        | 0.72621                |"
      ]
     },
     "metadata": {},
     "output_type": "display_data"
    },
    {
     "data": {
      "text/html": [
       "<pre>| 37      | 1.71s        | 0.726001               |</pre>"
      ],
      "text/plain": [
       "| 37      | 1.71s        | 0.726001               |"
      ]
     },
     "metadata": {},
     "output_type": "display_data"
    },
    {
     "data": {
      "text/html": [
       "<pre>| 38      | 1.75s        | 0.725759               |</pre>"
      ],
      "text/plain": [
       "| 38      | 1.75s        | 0.725759               |"
      ]
     },
     "metadata": {},
     "output_type": "display_data"
    },
    {
     "data": {
      "text/html": [
       "<pre>| 39      | 1.82s        | 0.725544               |</pre>"
      ],
      "text/plain": [
       "| 39      | 1.82s        | 0.725544               |"
      ]
     },
     "metadata": {},
     "output_type": "display_data"
    },
    {
     "data": {
      "text/html": [
       "<pre>| 40      | 1.87s        | 0.725357               |</pre>"
      ],
      "text/plain": [
       "| 40      | 1.87s        | 0.725357               |"
      ]
     },
     "metadata": {},
     "output_type": "display_data"
    },
    {
     "data": {
      "text/html": [
       "<pre>| 41      | 1.92s        | 0.725191               |</pre>"
      ],
      "text/plain": [
       "| 41      | 1.92s        | 0.725191               |"
      ]
     },
     "metadata": {},
     "output_type": "display_data"
    },
    {
     "data": {
      "text/html": [
       "<pre>| 42      | 1.97s        | 0.725034               |</pre>"
      ],
      "text/plain": [
       "| 42      | 1.97s        | 0.725034               |"
      ]
     },
     "metadata": {},
     "output_type": "display_data"
    },
    {
     "data": {
      "text/html": [
       "<pre>| 43      | 2.01s        | 0.724893               |</pre>"
      ],
      "text/plain": [
       "| 43      | 2.01s        | 0.724893               |"
      ]
     },
     "metadata": {},
     "output_type": "display_data"
    },
    {
     "data": {
      "text/html": [
       "<pre>| 44      | 2.07s        | 0.724758               |</pre>"
      ],
      "text/plain": [
       "| 44      | 2.07s        | 0.724758               |"
      ]
     },
     "metadata": {},
     "output_type": "display_data"
    },
    {
     "data": {
      "text/html": [
       "<pre>| 45      | 2.12s        | 0.724631               |</pre>"
      ],
      "text/plain": [
       "| 45      | 2.12s        | 0.724631               |"
      ]
     },
     "metadata": {},
     "output_type": "display_data"
    },
    {
     "data": {
      "text/html": [
       "<pre>| 46      | 2.16s        | 0.724496               |</pre>"
      ],
      "text/plain": [
       "| 46      | 2.16s        | 0.724496               |"
      ]
     },
     "metadata": {},
     "output_type": "display_data"
    },
    {
     "data": {
      "text/html": [
       "<pre>| 47      | 2.21s        | 0.724372               |</pre>"
      ],
      "text/plain": [
       "| 47      | 2.21s        | 0.724372               |"
      ]
     },
     "metadata": {},
     "output_type": "display_data"
    },
    {
     "data": {
      "text/html": [
       "<pre>| 48      | 2.25s        | 0.724259               |</pre>"
      ],
      "text/plain": [
       "| 48      | 2.25s        | 0.724259               |"
      ]
     },
     "metadata": {},
     "output_type": "display_data"
    },
    {
     "data": {
      "text/html": [
       "<pre>| 49      | 2.32s        | 0.724138               |</pre>"
      ],
      "text/plain": [
       "| 49      | 2.32s        | 0.724138               |"
      ]
     },
     "metadata": {},
     "output_type": "display_data"
    },
    {
     "data": {
      "text/html": [
       "<pre>| FINAL   | 2.32s        | 0.724138               |</pre>"
      ],
      "text/plain": [
       "| FINAL   | 2.32s        | 0.724138               |"
      ]
     },
     "metadata": {},
     "output_type": "display_data"
    },
    {
     "data": {
      "text/html": [
       "<pre>+---------+--------------+------------------------+</pre>"
      ],
      "text/plain": [
       "+---------+--------------+------------------------+"
      ]
     },
     "metadata": {},
     "output_type": "display_data"
    },
    {
     "data": {
      "text/html": [
       "<pre>Optimization Complete: Iteration limit reached.</pre>"
      ],
      "text/plain": [
       "Optimization Complete: Iteration limit reached."
      ]
     },
     "metadata": {},
     "output_type": "display_data"
    },
    {
     "name": "stdout",
     "output_type": "stream",
     "text": [
      "training rmse with regularization 0: 0.724137738732\n"
     ]
    },
    {
     "data": {
      "text/html": [
       "<pre>Recsys training: model = factorization_recommender</pre>"
      ],
      "text/plain": [
       "Recsys training: model = factorization_recommender"
      ]
     },
     "metadata": {},
     "output_type": "display_data"
    },
    {
     "data": {
      "text/html": [
       "<pre>Preparing data set.</pre>"
      ],
      "text/plain": [
       "Preparing data set."
      ]
     },
     "metadata": {},
     "output_type": "display_data"
    },
    {
     "data": {
      "text/html": [
       "<pre>    Data has 100000 observations with 943 users and 1682 items.</pre>"
      ],
      "text/plain": [
       "    Data has 100000 observations with 943 users and 1682 items."
      ]
     },
     "metadata": {},
     "output_type": "display_data"
    },
    {
     "data": {
      "text/html": [
       "<pre>    Data prepared in: 0.096064s</pre>"
      ],
      "text/plain": [
       "    Data prepared in: 0.096064s"
      ]
     },
     "metadata": {},
     "output_type": "display_data"
    },
    {
     "data": {
      "text/html": [
       "<pre>Training factorization_recommender for recommendations.</pre>"
      ],
      "text/plain": [
       "Training factorization_recommender for recommendations."
      ]
     },
     "metadata": {},
     "output_type": "display_data"
    },
    {
     "data": {
      "text/html": [
       "<pre>+------------------------------+--------------------------------------------------+----------+</pre>"
      ],
      "text/plain": [
       "+------------------------------+--------------------------------------------------+----------+"
      ]
     },
     "metadata": {},
     "output_type": "display_data"
    },
    {
     "data": {
      "text/html": [
       "<pre>| Parameter                    | Description                                      | Value    |</pre>"
      ],
      "text/plain": [
       "| Parameter                    | Description                                      | Value    |"
      ]
     },
     "metadata": {},
     "output_type": "display_data"
    },
    {
     "data": {
      "text/html": [
       "<pre>+------------------------------+--------------------------------------------------+----------+</pre>"
      ],
      "text/plain": [
       "+------------------------------+--------------------------------------------------+----------+"
      ]
     },
     "metadata": {},
     "output_type": "display_data"
    },
    {
     "data": {
      "text/html": [
       "<pre>| num_factors                  | Factor Dimension                                 | 8        |</pre>"
      ],
      "text/plain": [
       "| num_factors                  | Factor Dimension                                 | 8        |"
      ]
     },
     "metadata": {},
     "output_type": "display_data"
    },
    {
     "data": {
      "text/html": [
       "<pre>| regularization               | L2 Regularization on Factors                     | 0.0001   |</pre>"
      ],
      "text/plain": [
       "| regularization               | L2 Regularization on Factors                     | 0.0001   |"
      ]
     },
     "metadata": {},
     "output_type": "display_data"
    },
    {
     "data": {
      "text/html": [
       "<pre>| max_iterations               | Maximum Number of Iterations                     | 50       |</pre>"
      ],
      "text/plain": [
       "| max_iterations               | Maximum Number of Iterations                     | 50       |"
      ]
     },
     "metadata": {},
     "output_type": "display_data"
    },
    {
     "data": {
      "text/html": [
       "<pre>| solver                       | Solver used for training                         | als      |</pre>"
      ],
      "text/plain": [
       "| solver                       | Solver used for training                         | als      |"
      ]
     },
     "metadata": {},
     "output_type": "display_data"
    },
    {
     "data": {
      "text/html": [
       "<pre>+------------------------------+--------------------------------------------------+----------+</pre>"
      ],
      "text/plain": [
       "+------------------------------+--------------------------------------------------+----------+"
      ]
     },
     "metadata": {},
     "output_type": "display_data"
    },
    {
     "data": {
      "text/html": [
       "<pre>+---------+--------------+------------------------+</pre>"
      ],
      "text/plain": [
       "+---------+--------------+------------------------+"
      ]
     },
     "metadata": {},
     "output_type": "display_data"
    },
    {
     "data": {
      "text/html": [
       "<pre>| Iter.   | Elapsed time | RMSE                   |</pre>"
      ],
      "text/plain": [
       "| Iter.   | Elapsed time | RMSE                   |"
      ]
     },
     "metadata": {},
     "output_type": "display_data"
    },
    {
     "data": {
      "text/html": [
       "<pre>+---------+--------------+------------------------+</pre>"
      ],
      "text/plain": [
       "+---------+--------------+------------------------+"
      ]
     },
     "metadata": {},
     "output_type": "display_data"
    },
    {
     "data": {
      "text/html": [
       "<pre>| Initial | 0us          | NA                     |</pre>"
      ],
      "text/plain": [
       "| Initial | 0us          | NA                     |"
      ]
     },
     "metadata": {},
     "output_type": "display_data"
    },
    {
     "data": {
      "text/html": [
       "<pre>+---------+--------------+------------------------+</pre>"
      ],
      "text/plain": [
       "+---------+--------------+------------------------+"
      ]
     },
     "metadata": {},
     "output_type": "display_data"
    },
    {
     "data": {
      "text/html": [
       "<pre>| 0       | 47.032ms     | 1.12566                |</pre>"
      ],
      "text/plain": [
       "| 0       | 47.032ms     | 1.12566                |"
      ]
     },
     "metadata": {},
     "output_type": "display_data"
    },
    {
     "data": {
      "text/html": [
       "<pre>| 1       | 121.081ms    | 1.11637                |</pre>"
      ],
      "text/plain": [
       "| 1       | 121.081ms    | 1.11637                |"
      ]
     },
     "metadata": {},
     "output_type": "display_data"
    },
    {
     "data": {
      "text/html": [
       "<pre>| 2       | 156.105ms    | 0.91522                |</pre>"
      ],
      "text/plain": [
       "| 2       | 156.105ms    | 0.91522                |"
      ]
     },
     "metadata": {},
     "output_type": "display_data"
    },
    {
     "data": {
      "text/html": [
       "<pre>| 3       | 220.147ms    | 0.848884               |</pre>"
      ],
      "text/plain": [
       "| 3       | 220.147ms    | 0.848884               |"
      ]
     },
     "metadata": {},
     "output_type": "display_data"
    },
    {
     "data": {
      "text/html": [
       "<pre>| 4       | 259.173ms    | 0.825632               |</pre>"
      ],
      "text/plain": [
       "| 4       | 259.173ms    | 0.825632               |"
      ]
     },
     "metadata": {},
     "output_type": "display_data"
    },
    {
     "data": {
      "text/html": [
       "<pre>| 5       | 299.199ms    | 0.819392               |</pre>"
      ],
      "text/plain": [
       "| 5       | 299.199ms    | 0.819392               |"
      ]
     },
     "metadata": {},
     "output_type": "display_data"
    },
    {
     "data": {
      "text/html": [
       "<pre>| 6       | 344.23ms     | 0.816894               |</pre>"
      ],
      "text/plain": [
       "| 6       | 344.23ms     | 0.816894               |"
      ]
     },
     "metadata": {},
     "output_type": "display_data"
    },
    {
     "data": {
      "text/html": [
       "<pre>| 7       | 405.27ms     | 0.81555                |</pre>"
      ],
      "text/plain": [
       "| 7       | 405.27ms     | 0.81555                |"
      ]
     },
     "metadata": {},
     "output_type": "display_data"
    },
    {
     "data": {
      "text/html": [
       "<pre>| 8       | 438.291ms    | 0.814713               |</pre>"
      ],
      "text/plain": [
       "| 8       | 438.291ms    | 0.814713               |"
      ]
     },
     "metadata": {},
     "output_type": "display_data"
    },
    {
     "data": {
      "text/html": [
       "<pre>| 9       | 486.325ms    | 0.814141               |</pre>"
      ],
      "text/plain": [
       "| 9       | 486.325ms    | 0.814141               |"
      ]
     },
     "metadata": {},
     "output_type": "display_data"
    },
    {
     "data": {
      "text/html": [
       "<pre>| 10      | 520.346ms    | 0.813722               |</pre>"
      ],
      "text/plain": [
       "| 10      | 520.346ms    | 0.813722               |"
      ]
     },
     "metadata": {},
     "output_type": "display_data"
    },
    {
     "data": {
      "text/html": [
       "<pre>| 11      | 582.389ms    | 0.813397               |</pre>"
      ],
      "text/plain": [
       "| 11      | 582.389ms    | 0.813397               |"
      ]
     },
     "metadata": {},
     "output_type": "display_data"
    },
    {
     "data": {
      "text/html": [
       "<pre>| 12      | 619.413ms    | 0.81313                |</pre>"
      ],
      "text/plain": [
       "| 12      | 619.413ms    | 0.81313                |"
      ]
     },
     "metadata": {},
     "output_type": "display_data"
    },
    {
     "data": {
      "text/html": [
       "<pre>| 13      | 657.438ms    | 0.812899               |</pre>"
      ],
      "text/plain": [
       "| 13      | 657.438ms    | 0.812899               |"
      ]
     },
     "metadata": {},
     "output_type": "display_data"
    },
    {
     "data": {
      "text/html": [
       "<pre>| 14      | 728.485ms    | 0.812693               |</pre>"
      ],
      "text/plain": [
       "| 14      | 728.485ms    | 0.812693               |"
      ]
     },
     "metadata": {},
     "output_type": "display_data"
    },
    {
     "data": {
      "text/html": [
       "<pre>| 15      | 788.526ms    | 0.812506               |</pre>"
      ],
      "text/plain": [
       "| 15      | 788.526ms    | 0.812506               |"
      ]
     },
     "metadata": {},
     "output_type": "display_data"
    },
    {
     "data": {
      "text/html": [
       "<pre>| 16      | 837.56ms     | 0.812332               |</pre>"
      ],
      "text/plain": [
       "| 16      | 837.56ms     | 0.812332               |"
      ]
     },
     "metadata": {},
     "output_type": "display_data"
    },
    {
     "data": {
      "text/html": [
       "<pre>| 17      | 875.584ms    | 0.81217                |</pre>"
      ],
      "text/plain": [
       "| 17      | 875.584ms    | 0.81217                |"
      ]
     },
     "metadata": {},
     "output_type": "display_data"
    },
    {
     "data": {
      "text/html": [
       "<pre>| 18      | 917.617ms    | 0.812016               |</pre>"
      ],
      "text/plain": [
       "| 18      | 917.617ms    | 0.812016               |"
      ]
     },
     "metadata": {},
     "output_type": "display_data"
    },
    {
     "data": {
      "text/html": [
       "<pre>| 19      | 964.645ms    | 0.811868               |</pre>"
      ],
      "text/plain": [
       "| 19      | 964.645ms    | 0.811868               |"
      ]
     },
     "metadata": {},
     "output_type": "display_data"
    },
    {
     "data": {
      "text/html": [
       "<pre>| 20      | 997.665ms    | 0.811724               |</pre>"
      ],
      "text/plain": [
       "| 20      | 997.665ms    | 0.811724               |"
      ]
     },
     "metadata": {},
     "output_type": "display_data"
    },
    {
     "data": {
      "text/html": [
       "<pre>| 21      | 1.03s        | 0.811581               |</pre>"
      ],
      "text/plain": [
       "| 21      | 1.03s        | 0.811581               |"
      ]
     },
     "metadata": {},
     "output_type": "display_data"
    },
    {
     "data": {
      "text/html": [
       "<pre>| 22      | 1.07s        | 0.811438               |</pre>"
      ],
      "text/plain": [
       "| 22      | 1.07s        | 0.811438               |"
      ]
     },
     "metadata": {},
     "output_type": "display_data"
    },
    {
     "data": {
      "text/html": [
       "<pre>| 23      | 1.11s        | 0.811295               |</pre>"
      ],
      "text/plain": [
       "| 23      | 1.11s        | 0.811295               |"
      ]
     },
     "metadata": {},
     "output_type": "display_data"
    },
    {
     "data": {
      "text/html": [
       "<pre>| 24      | 1.16s        | 0.811153               |</pre>"
      ],
      "text/plain": [
       "| 24      | 1.16s        | 0.811153               |"
      ]
     },
     "metadata": {},
     "output_type": "display_data"
    },
    {
     "data": {
      "text/html": [
       "<pre>| 25      | 1.20s        | 0.811014               |</pre>"
      ],
      "text/plain": [
       "| 25      | 1.20s        | 0.811014               |"
      ]
     },
     "metadata": {},
     "output_type": "display_data"
    },
    {
     "data": {
      "text/html": [
       "<pre>| 26      | 1.25s        | 0.81088                |</pre>"
      ],
      "text/plain": [
       "| 26      | 1.25s        | 0.81088                |"
      ]
     },
     "metadata": {},
     "output_type": "display_data"
    },
    {
     "data": {
      "text/html": [
       "<pre>| 27      | 1.29s        | 0.810754               |</pre>"
      ],
      "text/plain": [
       "| 27      | 1.29s        | 0.810754               |"
      ]
     },
     "metadata": {},
     "output_type": "display_data"
    },
    {
     "data": {
      "text/html": [
       "<pre>| 28      | 1.34s        | 0.810638               |</pre>"
      ],
      "text/plain": [
       "| 28      | 1.34s        | 0.810638               |"
      ]
     },
     "metadata": {},
     "output_type": "display_data"
    },
    {
     "data": {
      "text/html": [
       "<pre>| 29      | 1.39s        | 0.810534               |</pre>"
      ],
      "text/plain": [
       "| 29      | 1.39s        | 0.810534               |"
      ]
     },
     "metadata": {},
     "output_type": "display_data"
    },
    {
     "data": {
      "text/html": [
       "<pre>| 30      | 1.43s        | 0.810441               |</pre>"
      ],
      "text/plain": [
       "| 30      | 1.43s        | 0.810441               |"
      ]
     },
     "metadata": {},
     "output_type": "display_data"
    },
    {
     "data": {
      "text/html": [
       "<pre>| 31      | 1.46s        | 0.810361               |</pre>"
      ],
      "text/plain": [
       "| 31      | 1.46s        | 0.810361               |"
      ]
     },
     "metadata": {},
     "output_type": "display_data"
    },
    {
     "data": {
      "text/html": [
       "<pre>| 32      | 1.51s        | 0.810291               |</pre>"
      ],
      "text/plain": [
       "| 32      | 1.51s        | 0.810291               |"
      ]
     },
     "metadata": {},
     "output_type": "display_data"
    },
    {
     "data": {
      "text/html": [
       "<pre>| 33      | 1.55s        | 0.810231               |</pre>"
      ],
      "text/plain": [
       "| 33      | 1.55s        | 0.810231               |"
      ]
     },
     "metadata": {},
     "output_type": "display_data"
    },
    {
     "data": {
      "text/html": [
       "<pre>| 34      | 1.60s        | 0.81018                |</pre>"
      ],
      "text/plain": [
       "| 34      | 1.60s        | 0.81018                |"
      ]
     },
     "metadata": {},
     "output_type": "display_data"
    },
    {
     "data": {
      "text/html": [
       "<pre>| 35      | 1.64s        | 0.810136               |</pre>"
      ],
      "text/plain": [
       "| 35      | 1.64s        | 0.810136               |"
      ]
     },
     "metadata": {},
     "output_type": "display_data"
    },
    {
     "data": {
      "text/html": [
       "<pre>| 36      | 1.68s        | 0.810098               |</pre>"
      ],
      "text/plain": [
       "| 36      | 1.68s        | 0.810098               |"
      ]
     },
     "metadata": {},
     "output_type": "display_data"
    },
    {
     "data": {
      "text/html": [
       "<pre>| 37      | 1.72s        | 0.810065               |</pre>"
      ],
      "text/plain": [
       "| 37      | 1.72s        | 0.810065               |"
      ]
     },
     "metadata": {},
     "output_type": "display_data"
    },
    {
     "data": {
      "text/html": [
       "<pre>| 38      | 1.78s        | 0.810037               |</pre>"
      ],
      "text/plain": [
       "| 38      | 1.78s        | 0.810037               |"
      ]
     },
     "metadata": {},
     "output_type": "display_data"
    },
    {
     "data": {
      "text/html": [
       "<pre>| 39      | 1.82s        | 0.810013               |</pre>"
      ],
      "text/plain": [
       "| 39      | 1.82s        | 0.810013               |"
      ]
     },
     "metadata": {},
     "output_type": "display_data"
    },
    {
     "data": {
      "text/html": [
       "<pre>| 40      | 1.87s        | 0.809992               |</pre>"
      ],
      "text/plain": [
       "| 40      | 1.87s        | 0.809992               |"
      ]
     },
     "metadata": {},
     "output_type": "display_data"
    },
    {
     "data": {
      "text/html": [
       "<pre>| 41      | 1.92s        | 0.809974               |</pre>"
      ],
      "text/plain": [
       "| 41      | 1.92s        | 0.809974               |"
      ]
     },
     "metadata": {},
     "output_type": "display_data"
    },
    {
     "data": {
      "text/html": [
       "<pre>| 42      | 1.96s        | 0.809958               |</pre>"
      ],
      "text/plain": [
       "| 42      | 1.96s        | 0.809958               |"
      ]
     },
     "metadata": {},
     "output_type": "display_data"
    },
    {
     "data": {
      "text/html": [
       "<pre>| 43      | 2.00s        | 0.809945               |</pre>"
      ],
      "text/plain": [
       "| 43      | 2.00s        | 0.809945               |"
      ]
     },
     "metadata": {},
     "output_type": "display_data"
    },
    {
     "data": {
      "text/html": [
       "<pre>| 44      | 2.04s        | 0.809933               |</pre>"
      ],
      "text/plain": [
       "| 44      | 2.04s        | 0.809933               |"
      ]
     },
     "metadata": {},
     "output_type": "display_data"
    },
    {
     "data": {
      "text/html": [
       "<pre>| 45      | 2.09s        | 0.809922               |</pre>"
      ],
      "text/plain": [
       "| 45      | 2.09s        | 0.809922               |"
      ]
     },
     "metadata": {},
     "output_type": "display_data"
    },
    {
     "data": {
      "text/html": [
       "<pre>| 46      | 2.12s        | 0.809913               |</pre>"
      ],
      "text/plain": [
       "| 46      | 2.12s        | 0.809913               |"
      ]
     },
     "metadata": {},
     "output_type": "display_data"
    },
    {
     "data": {
      "text/html": [
       "<pre>| 47      | 2.18s        | 0.809905               |</pre>"
      ],
      "text/plain": [
       "| 47      | 2.18s        | 0.809905               |"
      ]
     },
     "metadata": {},
     "output_type": "display_data"
    },
    {
     "data": {
      "text/html": [
       "<pre>| 48      | 2.22s        | 0.809897               |</pre>"
      ],
      "text/plain": [
       "| 48      | 2.22s        | 0.809897               |"
      ]
     },
     "metadata": {},
     "output_type": "display_data"
    },
    {
     "data": {
      "text/html": [
       "<pre>| 49      | 2.26s        | 0.809891               |</pre>"
      ],
      "text/plain": [
       "| 49      | 2.26s        | 0.809891               |"
      ]
     },
     "metadata": {},
     "output_type": "display_data"
    },
    {
     "data": {
      "text/html": [
       "<pre>| FINAL   | 2.26s        | 0.809891               |</pre>"
      ],
      "text/plain": [
       "| FINAL   | 2.26s        | 0.809891               |"
      ]
     },
     "metadata": {},
     "output_type": "display_data"
    },
    {
     "data": {
      "text/html": [
       "<pre>+---------+--------------+------------------------+</pre>"
      ],
      "text/plain": [
       "+---------+--------------+------------------------+"
      ]
     },
     "metadata": {},
     "output_type": "display_data"
    },
    {
     "data": {
      "text/html": [
       "<pre>Optimization Complete: Iteration limit reached.</pre>"
      ],
      "text/plain": [
       "Optimization Complete: Iteration limit reached."
      ]
     },
     "metadata": {},
     "output_type": "display_data"
    },
    {
     "name": "stdout",
     "output_type": "stream",
     "text": [
      "training rmse with regularization 0.0001: 0.80989106191\n"
     ]
    }
   ],
   "source": [
    "random_seed = 0\n",
    "rec2 = graphlab.recommender.factorization_recommender.create(\n",
    "            sf,\n",
    "            user_id='user',\n",
    "            item_id='movie',\n",
    "            target='rating',\n",
    "            solver='als',\n",
    "            side_data_factorization=False,\n",
    "            regularization=0,\n",
    "            random_seed=random_seed)\n",
    "print \"training rmse with regularization 0:\", rec2['training_rmse']   # 0.725\n",
    "\n",
    "regularization_param = 1e-4\n",
    "rec3 = graphlab.recommender.factorization_recommender.create(\n",
    "            sf,\n",
    "            user_id='user',\n",
    "            item_id='movie',\n",
    "            target='rating',\n",
    "            solver='als',\n",
    "            side_data_factorization=False,\n",
    "            regularization=regularization_param,\n",
    "            random_seed=random_seed)\n",
    "print \"training rmse with regularization %s:\"%regularization_param, rec3['training_rmse']"
   ]
  },
  {
   "cell_type": "code",
   "execution_count": 34,
   "metadata": {
    "collapsed": false
   },
   "outputs": [
    {
     "data": {
      "text/html": [
       "<pre>Recsys training: model = factorization_recommender</pre>"
      ],
      "text/plain": [
       "Recsys training: model = factorization_recommender"
      ]
     },
     "metadata": {},
     "output_type": "display_data"
    },
    {
     "data": {
      "text/html": [
       "<pre>Preparing data set.</pre>"
      ],
      "text/plain": [
       "Preparing data set."
      ]
     },
     "metadata": {},
     "output_type": "display_data"
    },
    {
     "data": {
      "text/html": [
       "<pre>    Data has 100000 observations with 943 users and 1682 items.</pre>"
      ],
      "text/plain": [
       "    Data has 100000 observations with 943 users and 1682 items."
      ]
     },
     "metadata": {},
     "output_type": "display_data"
    },
    {
     "data": {
      "text/html": [
       "<pre>    Data prepared in: 0.083056s</pre>"
      ],
      "text/plain": [
       "    Data prepared in: 0.083056s"
      ]
     },
     "metadata": {},
     "output_type": "display_data"
    },
    {
     "data": {
      "text/html": [
       "<pre>Training factorization_recommender for recommendations.</pre>"
      ],
      "text/plain": [
       "Training factorization_recommender for recommendations."
      ]
     },
     "metadata": {},
     "output_type": "display_data"
    },
    {
     "data": {
      "text/html": [
       "<pre>+------------------------------+--------------------------------------------------+----------+</pre>"
      ],
      "text/plain": [
       "+------------------------------+--------------------------------------------------+----------+"
      ]
     },
     "metadata": {},
     "output_type": "display_data"
    },
    {
     "data": {
      "text/html": [
       "<pre>| Parameter                    | Description                                      | Value    |</pre>"
      ],
      "text/plain": [
       "| Parameter                    | Description                                      | Value    |"
      ]
     },
     "metadata": {},
     "output_type": "display_data"
    },
    {
     "data": {
      "text/html": [
       "<pre>+------------------------------+--------------------------------------------------+----------+</pre>"
      ],
      "text/plain": [
       "+------------------------------+--------------------------------------------------+----------+"
      ]
     },
     "metadata": {},
     "output_type": "display_data"
    },
    {
     "data": {
      "text/html": [
       "<pre>| num_factors                  | Factor Dimension                                 | 8        |</pre>"
      ],
      "text/plain": [
       "| num_factors                  | Factor Dimension                                 | 8        |"
      ]
     },
     "metadata": {},
     "output_type": "display_data"
    },
    {
     "data": {
      "text/html": [
       "<pre>| regularization               | L2 Regularization on Factors                     | 0.1      |</pre>"
      ],
      "text/plain": [
       "| regularization               | L2 Regularization on Factors                     | 0.1      |"
      ]
     },
     "metadata": {},
     "output_type": "display_data"
    },
    {
     "data": {
      "text/html": [
       "<pre>| max_iterations               | Maximum Number of Iterations                     | 50       |</pre>"
      ],
      "text/plain": [
       "| max_iterations               | Maximum Number of Iterations                     | 50       |"
      ]
     },
     "metadata": {},
     "output_type": "display_data"
    },
    {
     "data": {
      "text/html": [
       "<pre>| solver                       | Solver used for training                         | als      |</pre>"
      ],
      "text/plain": [
       "| solver                       | Solver used for training                         | als      |"
      ]
     },
     "metadata": {},
     "output_type": "display_data"
    },
    {
     "data": {
      "text/html": [
       "<pre>+------------------------------+--------------------------------------------------+----------+</pre>"
      ],
      "text/plain": [
       "+------------------------------+--------------------------------------------------+----------+"
      ]
     },
     "metadata": {},
     "output_type": "display_data"
    },
    {
     "data": {
      "text/html": [
       "<pre>+---------+--------------+------------------------+</pre>"
      ],
      "text/plain": [
       "+---------+--------------+------------------------+"
      ]
     },
     "metadata": {},
     "output_type": "display_data"
    },
    {
     "data": {
      "text/html": [
       "<pre>| Iter.   | Elapsed time | RMSE                   |</pre>"
      ],
      "text/plain": [
       "| Iter.   | Elapsed time | RMSE                   |"
      ]
     },
     "metadata": {},
     "output_type": "display_data"
    },
    {
     "data": {
      "text/html": [
       "<pre>+---------+--------------+------------------------+</pre>"
      ],
      "text/plain": [
       "+---------+--------------+------------------------+"
      ]
     },
     "metadata": {},
     "output_type": "display_data"
    },
    {
     "data": {
      "text/html": [
       "<pre>| Initial | 0us          | NA                     |</pre>"
      ],
      "text/plain": [
       "| Initial | 0us          | NA                     |"
      ]
     },
     "metadata": {},
     "output_type": "display_data"
    },
    {
     "data": {
      "text/html": [
       "<pre>+---------+--------------+------------------------+</pre>"
      ],
      "text/plain": [
       "+---------+--------------+------------------------+"
      ]
     },
     "metadata": {},
     "output_type": "display_data"
    },
    {
     "data": {
      "text/html": [
       "<pre>| 0       | 38.025ms     | 1.12567                |</pre>"
      ],
      "text/plain": [
       "| 0       | 38.025ms     | 1.12567                |"
      ]
     },
     "metadata": {},
     "output_type": "display_data"
    },
    {
     "data": {
      "text/html": [
       "<pre>| 1       | 96.064ms     | 1.12567                |</pre>"
      ],
      "text/plain": [
       "| 1       | 96.064ms     | 1.12567                |"
      ]
     },
     "metadata": {},
     "output_type": "display_data"
    },
    {
     "data": {
      "text/html": [
       "<pre>| 2       | 139.093ms    | 1.12567                |</pre>"
      ],
      "text/plain": [
       "| 2       | 139.093ms    | 1.12567                |"
      ]
     },
     "metadata": {},
     "output_type": "display_data"
    },
    {
     "data": {
      "text/html": [
       "<pre>| 3       | 193.13ms     | 1.12567                |</pre>"
      ],
      "text/plain": [
       "| 3       | 193.13ms     | 1.12567                |"
      ]
     },
     "metadata": {},
     "output_type": "display_data"
    },
    {
     "data": {
      "text/html": [
       "<pre>| 4       | 267.966ms    | 1.12567                |</pre>"
      ],
      "text/plain": [
       "| 4       | 267.966ms    | 1.12567                |"
      ]
     },
     "metadata": {},
     "output_type": "display_data"
    },
    {
     "data": {
      "text/html": [
       "<pre>| 5       | 305.514ms    | 1.12567                |</pre>"
      ],
      "text/plain": [
       "| 5       | 305.514ms    | 1.12567                |"
      ]
     },
     "metadata": {},
     "output_type": "display_data"
    },
    {
     "data": {
      "text/html": [
       "<pre>| 6       | 342.538ms    | 1.12567                |</pre>"
      ],
      "text/plain": [
       "| 6       | 342.538ms    | 1.12567                |"
      ]
     },
     "metadata": {},
     "output_type": "display_data"
    },
    {
     "data": {
      "text/html": [
       "<pre>| 7       | 379.563ms    | 1.12567                |</pre>"
      ],
      "text/plain": [
       "| 7       | 379.563ms    | 1.12567                |"
      ]
     },
     "metadata": {},
     "output_type": "display_data"
    },
    {
     "data": {
      "text/html": [
       "<pre>| 8       | 441.604ms    | 1.12567                |</pre>"
      ],
      "text/plain": [
       "| 8       | 441.604ms    | 1.12567                |"
      ]
     },
     "metadata": {},
     "output_type": "display_data"
    },
    {
     "data": {
      "text/html": [
       "<pre>| 9       | 509.65ms     | 1.12567                |</pre>"
      ],
      "text/plain": [
       "| 9       | 509.65ms     | 1.12567                |"
      ]
     },
     "metadata": {},
     "output_type": "display_data"
    },
    {
     "data": {
      "text/html": [
       "<pre>| 10      | 560.686ms    | 1.12567                |</pre>"
      ],
      "text/plain": [
       "| 10      | 560.686ms    | 1.12567                |"
      ]
     },
     "metadata": {},
     "output_type": "display_data"
    },
    {
     "data": {
      "text/html": [
       "<pre>| 11      | 594.707ms    | 1.12567                |</pre>"
      ],
      "text/plain": [
       "| 11      | 594.707ms    | 1.12567                |"
      ]
     },
     "metadata": {},
     "output_type": "display_data"
    },
    {
     "data": {
      "text/html": [
       "<pre>| 12      | 639.736ms    | 1.12567                |</pre>"
      ],
      "text/plain": [
       "| 12      | 639.736ms    | 1.12567                |"
      ]
     },
     "metadata": {},
     "output_type": "display_data"
    },
    {
     "data": {
      "text/html": [
       "<pre>| 13      | 675.764ms    | 1.12567                |</pre>"
      ],
      "text/plain": [
       "| 13      | 675.764ms    | 1.12567                |"
      ]
     },
     "metadata": {},
     "output_type": "display_data"
    },
    {
     "data": {
      "text/html": [
       "<pre>| 14      | 735.8ms      | 1.12567                |</pre>"
      ],
      "text/plain": [
       "| 14      | 735.8ms      | 1.12567                |"
      ]
     },
     "metadata": {},
     "output_type": "display_data"
    },
    {
     "data": {
      "text/html": [
       "<pre>| 15      | 769.823ms    | 1.12567                |</pre>"
      ],
      "text/plain": [
       "| 15      | 769.823ms    | 1.12567                |"
      ]
     },
     "metadata": {},
     "output_type": "display_data"
    },
    {
     "data": {
      "text/html": [
       "<pre>| 16      | 817.855ms    | 1.12567                |</pre>"
      ],
      "text/plain": [
       "| 16      | 817.855ms    | 1.12567                |"
      ]
     },
     "metadata": {},
     "output_type": "display_data"
    },
    {
     "data": {
      "text/html": [
       "<pre>| 17      | 850.877ms    | 1.12567                |</pre>"
      ],
      "text/plain": [
       "| 17      | 850.877ms    | 1.12567                |"
      ]
     },
     "metadata": {},
     "output_type": "display_data"
    },
    {
     "data": {
      "text/html": [
       "<pre>| 18      | 895.907ms    | 1.12567                |</pre>"
      ],
      "text/plain": [
       "| 18      | 895.907ms    | 1.12567                |"
      ]
     },
     "metadata": {},
     "output_type": "display_data"
    },
    {
     "data": {
      "text/html": [
       "<pre>| 19      | 928.93ms     | 1.12567                |</pre>"
      ],
      "text/plain": [
       "| 19      | 928.93ms     | 1.12567                |"
      ]
     },
     "metadata": {},
     "output_type": "display_data"
    },
    {
     "data": {
      "text/html": [
       "<pre>| 20      | 977.962ms    | 1.12567                |</pre>"
      ],
      "text/plain": [
       "| 20      | 977.962ms    | 1.12567                |"
      ]
     },
     "metadata": {},
     "output_type": "display_data"
    },
    {
     "data": {
      "text/html": [
       "<pre>| 21      | 1.01s        | 1.12567                |</pre>"
      ],
      "text/plain": [
       "| 21      | 1.01s        | 1.12567                |"
      ]
     },
     "metadata": {},
     "output_type": "display_data"
    },
    {
     "data": {
      "text/html": [
       "<pre>| 22      | 1.05s        | 1.12567                |</pre>"
      ],
      "text/plain": [
       "| 22      | 1.05s        | 1.12567                |"
      ]
     },
     "metadata": {},
     "output_type": "display_data"
    },
    {
     "data": {
      "text/html": [
       "<pre>| 23      | 1.11s        | 1.12567                |</pre>"
      ],
      "text/plain": [
       "| 23      | 1.11s        | 1.12567                |"
      ]
     },
     "metadata": {},
     "output_type": "display_data"
    },
    {
     "data": {
      "text/html": [
       "<pre>| 24      | 1.17s        | 1.12567                |</pre>"
      ],
      "text/plain": [
       "| 24      | 1.17s        | 1.12567                |"
      ]
     },
     "metadata": {},
     "output_type": "display_data"
    },
    {
     "data": {
      "text/html": [
       "<pre>| 25      | 1.21s        | 1.12567                |</pre>"
      ],
      "text/plain": [
       "| 25      | 1.21s        | 1.12567                |"
      ]
     },
     "metadata": {},
     "output_type": "display_data"
    },
    {
     "data": {
      "text/html": [
       "<pre>| 26      | 1.26s        | 1.12567                |</pre>"
      ],
      "text/plain": [
       "| 26      | 1.26s        | 1.12567                |"
      ]
     },
     "metadata": {},
     "output_type": "display_data"
    },
    {
     "data": {
      "text/html": [
       "<pre>| 27      | 1.33s        | 1.12567                |</pre>"
      ],
      "text/plain": [
       "| 27      | 1.33s        | 1.12567                |"
      ]
     },
     "metadata": {},
     "output_type": "display_data"
    },
    {
     "data": {
      "text/html": [
       "<pre>| 28      | 1.37s        | 1.12567                |</pre>"
      ],
      "text/plain": [
       "| 28      | 1.37s        | 1.12567                |"
      ]
     },
     "metadata": {},
     "output_type": "display_data"
    },
    {
     "data": {
      "text/html": [
       "<pre>| 29      | 1.41s        | 1.12567                |</pre>"
      ],
      "text/plain": [
       "| 29      | 1.41s        | 1.12567                |"
      ]
     },
     "metadata": {},
     "output_type": "display_data"
    },
    {
     "data": {
      "text/html": [
       "<pre>| 30      | 1.46s        | 1.12567                |</pre>"
      ],
      "text/plain": [
       "| 30      | 1.46s        | 1.12567                |"
      ]
     },
     "metadata": {},
     "output_type": "display_data"
    },
    {
     "data": {
      "text/html": [
       "<pre>| 31      | 1.51s        | 1.12567                |</pre>"
      ],
      "text/plain": [
       "| 31      | 1.51s        | 1.12567                |"
      ]
     },
     "metadata": {},
     "output_type": "display_data"
    },
    {
     "data": {
      "text/html": [
       "<pre>| 32      | 1.55s        | 1.12567                |</pre>"
      ],
      "text/plain": [
       "| 32      | 1.55s        | 1.12567                |"
      ]
     },
     "metadata": {},
     "output_type": "display_data"
    },
    {
     "data": {
      "text/html": [
       "<pre>| 33      | 1.59s        | 1.12567                |</pre>"
      ],
      "text/plain": [
       "| 33      | 1.59s        | 1.12567                |"
      ]
     },
     "metadata": {},
     "output_type": "display_data"
    },
    {
     "data": {
      "text/html": [
       "<pre>| 34      | 1.63s        | 1.12567                |</pre>"
      ],
      "text/plain": [
       "| 34      | 1.63s        | 1.12567                |"
      ]
     },
     "metadata": {},
     "output_type": "display_data"
    },
    {
     "data": {
      "text/html": [
       "<pre>| 35      | 1.70s        | 1.12567                |</pre>"
      ],
      "text/plain": [
       "| 35      | 1.70s        | 1.12567                |"
      ]
     },
     "metadata": {},
     "output_type": "display_data"
    },
    {
     "data": {
      "text/html": [
       "<pre>| 36      | 1.73s        | 1.12567                |</pre>"
      ],
      "text/plain": [
       "| 36      | 1.73s        | 1.12567                |"
      ]
     },
     "metadata": {},
     "output_type": "display_data"
    },
    {
     "data": {
      "text/html": [
       "<pre>| 37      | 1.77s        | 1.12567                |</pre>"
      ],
      "text/plain": [
       "| 37      | 1.77s        | 1.12567                |"
      ]
     },
     "metadata": {},
     "output_type": "display_data"
    },
    {
     "data": {
      "text/html": [
       "<pre>| 38      | 1.81s        | 1.12567                |</pre>"
      ],
      "text/plain": [
       "| 38      | 1.81s        | 1.12567                |"
      ]
     },
     "metadata": {},
     "output_type": "display_data"
    },
    {
     "data": {
      "text/html": [
       "<pre>| 39      | 1.85s        | 1.12567                |</pre>"
      ],
      "text/plain": [
       "| 39      | 1.85s        | 1.12567                |"
      ]
     },
     "metadata": {},
     "output_type": "display_data"
    },
    {
     "data": {
      "text/html": [
       "<pre>| 40      | 1.91s        | 1.12567                |</pre>"
      ],
      "text/plain": [
       "| 40      | 1.91s        | 1.12567                |"
      ]
     },
     "metadata": {},
     "output_type": "display_data"
    },
    {
     "data": {
      "text/html": [
       "<pre>| 41      | 1.98s        | 1.12567                |</pre>"
      ],
      "text/plain": [
       "| 41      | 1.98s        | 1.12567                |"
      ]
     },
     "metadata": {},
     "output_type": "display_data"
    },
    {
     "data": {
      "text/html": [
       "<pre>| 42      | 2.03s        | 1.12567                |</pre>"
      ],
      "text/plain": [
       "| 42      | 2.03s        | 1.12567                |"
      ]
     },
     "metadata": {},
     "output_type": "display_data"
    },
    {
     "data": {
      "text/html": [
       "<pre>| 43      | 2.07s        | 1.12567                |</pre>"
      ],
      "text/plain": [
       "| 43      | 2.07s        | 1.12567                |"
      ]
     },
     "metadata": {},
     "output_type": "display_data"
    },
    {
     "data": {
      "text/html": [
       "<pre>| 44      | 2.11s        | 1.12567                |</pre>"
      ],
      "text/plain": [
       "| 44      | 2.11s        | 1.12567                |"
      ]
     },
     "metadata": {},
     "output_type": "display_data"
    },
    {
     "data": {
      "text/html": [
       "<pre>| 45      | 2.15s        | 1.12567                |</pre>"
      ],
      "text/plain": [
       "| 45      | 2.15s        | 1.12567                |"
      ]
     },
     "metadata": {},
     "output_type": "display_data"
    },
    {
     "data": {
      "text/html": [
       "<pre>| 46      | 2.20s        | 1.12567                |</pre>"
      ],
      "text/plain": [
       "| 46      | 2.20s        | 1.12567                |"
      ]
     },
     "metadata": {},
     "output_type": "display_data"
    },
    {
     "data": {
      "text/html": [
       "<pre>| 47      | 2.24s        | 1.12567                |</pre>"
      ],
      "text/plain": [
       "| 47      | 2.24s        | 1.12567                |"
      ]
     },
     "metadata": {},
     "output_type": "display_data"
    },
    {
     "data": {
      "text/html": [
       "<pre>| 48      | 2.28s        | 1.12567                |</pre>"
      ],
      "text/plain": [
       "| 48      | 2.28s        | 1.12567                |"
      ]
     },
     "metadata": {},
     "output_type": "display_data"
    },
    {
     "data": {
      "text/html": [
       "<pre>| 49      | 2.33s        | 1.12567                |</pre>"
      ],
      "text/plain": [
       "| 49      | 2.33s        | 1.12567                |"
      ]
     },
     "metadata": {},
     "output_type": "display_data"
    },
    {
     "data": {
      "text/html": [
       "<pre>| FINAL   | 2.33s        | 1.12567                |</pre>"
      ],
      "text/plain": [
       "| FINAL   | 2.33s        | 1.12567                |"
      ]
     },
     "metadata": {},
     "output_type": "display_data"
    },
    {
     "data": {
      "text/html": [
       "<pre>+---------+--------------+------------------------+</pre>"
      ],
      "text/plain": [
       "+---------+--------------+------------------------+"
      ]
     },
     "metadata": {},
     "output_type": "display_data"
    },
    {
     "data": {
      "text/html": [
       "<pre>Optimization Complete: Iteration limit reached.</pre>"
      ],
      "text/plain": [
       "Optimization Complete: Iteration limit reached."
      ]
     },
     "metadata": {},
     "output_type": "display_data"
    },
    {
     "name": "stdout",
     "output_type": "stream",
     "text": [
      "training rmse with regularization 0.0001: 1.12566797076\n"
     ]
    }
   ],
   "source": [
    "rec3 = graphlab.recommender.factorization_recommender.create(\n",
    "            sf,\n",
    "            user_id='user',\n",
    "            item_id='movie',\n",
    "            target='rating',\n",
    "            solver='als',\n",
    "            side_data_factorization=False,\n",
    "            regularization=0.1,\n",
    "            random_seed=random_seed)\n",
    "print \"training rmse with regularization %s:\"%regularization_param, rec3['training_rmse']"
   ]
  },
  {
   "cell_type": "markdown",
   "metadata": {},
   "source": [
    "## Extra Point #1. Tune your model to find the best parameters. \n",
    "\n",
    "What parameters are being tuned by this procedure?"
   ]
  },
  {
   "cell_type": "code",
   "execution_count": 35,
   "metadata": {
    "collapsed": false
   },
   "outputs": [
    {
     "name": "stderr",
     "output_type": "stream",
     "text": [
      "[INFO] graphlab.deploy.job: Validating job.\n",
      "[INFO] graphlab.deploy.job: Creating a LocalAsync environment called 'async'.\n",
      "[INFO] graphlab.deploy.map_job: Validation complete. Job: 'Model-Parameter-Search-Jun-30-2017-10-27-2100000' ready for execution\n",
      "[INFO] graphlab.deploy.map_job: Job: 'Model-Parameter-Search-Jun-30-2017-10-27-2100000' scheduled.\n",
      "[INFO] graphlab.deploy.job: Validating job.\n",
      "[INFO] graphlab.deploy.map_job: A job with name 'Model-Parameter-Search-Jun-30-2017-10-27-2100000' already exists. Renaming the job to 'Model-Parameter-Search-Jun-30-2017-10-27-2100000-71fb6'.\n",
      "[INFO] graphlab.deploy.map_job: Validation complete. Job: 'Model-Parameter-Search-Jun-30-2017-10-27-2100000-71fb6' ready for execution\n",
      "[INFO] graphlab.deploy.map_job: Job: 'Model-Parameter-Search-Jun-30-2017-10-27-2100000-71fb6' scheduled.\n",
      "[INFO] graphlab.deploy.job: Validating job.\n",
      "[INFO] graphlab.deploy.map_job: Validation complete. Job: 'Model-Parameter-Search-Jun-30-2017-10-27-2100001' ready for execution\n",
      "[INFO] graphlab.deploy.map_job: Job: 'Model-Parameter-Search-Jun-30-2017-10-27-2100001' scheduled.\n",
      "[INFO] graphlab.deploy.job: Validating job.\n",
      "[INFO] graphlab.deploy.map_job: Validation complete. Job: 'Model-Parameter-Search-Jun-30-2017-10-27-2100002' ready for execution\n",
      "[INFO] graphlab.deploy.map_job: Job: 'Model-Parameter-Search-Jun-30-2017-10-27-2100002' scheduled.\n"
     ]
    }
   ],
   "source": [
    "kfolds = graphlab.cross_validation.KFold(sf, 5)\n",
    "params = dict(user_id='user', \n",
    "              item_id='movie', \n",
    "              target='rating',\n",
    "              solver='als', \n",
    "              side_data_factorization=False)\n",
    "paramsearch = graphlab.model_parameter_search.create(\n",
    "                    kfolds,\n",
    "                    graphlab.recommender.factorization_recommender.create,\n",
    "                    params)"
   ]
  },
  {
   "cell_type": "code",
   "execution_count": 36,
   "metadata": {
    "collapsed": false
   },
   "outputs": [
    {
     "data": {
      "text/plain": [
       "{'Canceled': 0, 'Completed': 0, 'Failed': 0, 'Pending': 0, 'Running': 50}"
      ]
     },
     "execution_count": 36,
     "metadata": {},
     "output_type": "execute_result"
    }
   ],
   "source": [
    "paramsearch.get_status()"
   ]
  },
  {
   "cell_type": "markdown",
   "metadata": {},
   "source": [
    "#### Best models by different metrics"
   ]
  },
  {
   "cell_type": "code",
   "execution_count": 37,
   "metadata": {
    "collapsed": false,
    "scrolled": true
   },
   "outputs": [
    {
     "name": "stdout",
     "output_type": "stream",
     "text": [
      "best params by recall@5:\n",
      "{'item_id': 'movie',\n",
      " 'linear_regularization': 1e-07,\n",
      " 'max_iterations': 50,\n",
      " 'num_factors': 64,\n",
      " 'regularization': 0.0001,\n",
      " 'side_data_factorization': False,\n",
      " 'solver': 'als',\n",
      " 'target': 'rating',\n",
      " 'user_id': 'user'}\n",
      "\n",
      "best params by precision@5:\n",
      "{'item_id': 'movie',\n",
      " 'linear_regularization': 1e-07,\n",
      " 'max_iterations': 50,\n",
      " 'num_factors': 64,\n",
      " 'regularization': 0.0001,\n",
      " 'side_data_factorization': False,\n",
      " 'solver': 'als',\n",
      " 'target': 'rating',\n",
      " 'user_id': 'user'}\n",
      "\n",
      "best params by rmse:\n",
      "{'item_id': 'movie',\n",
      " 'linear_regularization': 1e-05,\n",
      " 'max_iterations': 50,\n",
      " 'num_factors': 16,\n",
      " 'regularization': 1e-09,\n",
      " 'side_data_factorization': False,\n",
      " 'solver': 'als',\n",
      " 'target': 'rating',\n",
      " 'user_id': 'user'}\n"
     ]
    }
   ],
   "source": [
    "from pprint import pprint\n",
    "\n",
    "print \"best params by recall@5:\"\n",
    "pprint(paramsearch.get_best_params('mean_validation_recall@5'))\n",
    "print\n",
    "\n",
    "print \"best params by precision@5:\"\n",
    "pprint(paramsearch.get_best_params('mean_validation_precision@5'))\n",
    "print\n",
    "\n",
    "print \"best params by rmse:\"\n",
    "pprint(paramsearch.get_best_params('mean_validation_rmse'))"
   ]
  },
  {
   "cell_type": "markdown",
   "metadata": {},
   "source": [
    "## What are the latent features?"
   ]
  },
  {
   "cell_type": "code",
   "execution_count": 38,
   "metadata": {
    "collapsed": false,
    "scrolled": true
   },
   "outputs": [
    {
     "data": {
      "text/html": [
       "<div>\n",
       "<table border=\"1\" class=\"dataframe\">\n",
       "  <thead>\n",
       "    <tr>\n",
       "      <th></th>\n",
       "      <th colspan=\"21\" halign=\"left\">rating</th>\n",
       "    </tr>\n",
       "    <tr>\n",
       "      <th>movie</th>\n",
       "      <th>1</th>\n",
       "      <th>2</th>\n",
       "      <th>3</th>\n",
       "      <th>4</th>\n",
       "      <th>5</th>\n",
       "      <th>6</th>\n",
       "      <th>7</th>\n",
       "      <th>8</th>\n",
       "      <th>9</th>\n",
       "      <th>10</th>\n",
       "      <th>...</th>\n",
       "      <th>1673</th>\n",
       "      <th>1674</th>\n",
       "      <th>1675</th>\n",
       "      <th>1676</th>\n",
       "      <th>1677</th>\n",
       "      <th>1678</th>\n",
       "      <th>1679</th>\n",
       "      <th>1680</th>\n",
       "      <th>1681</th>\n",
       "      <th>1682</th>\n",
       "    </tr>\n",
       "    <tr>\n",
       "      <th>user</th>\n",
       "      <th></th>\n",
       "      <th></th>\n",
       "      <th></th>\n",
       "      <th></th>\n",
       "      <th></th>\n",
       "      <th></th>\n",
       "      <th></th>\n",
       "      <th></th>\n",
       "      <th></th>\n",
       "      <th></th>\n",
       "      <th></th>\n",
       "      <th></th>\n",
       "      <th></th>\n",
       "      <th></th>\n",
       "      <th></th>\n",
       "      <th></th>\n",
       "      <th></th>\n",
       "      <th></th>\n",
       "      <th></th>\n",
       "      <th></th>\n",
       "      <th></th>\n",
       "    </tr>\n",
       "  </thead>\n",
       "  <tbody>\n",
       "    <tr>\n",
       "      <th>1</th>\n",
       "      <td>5.0</td>\n",
       "      <td>3.0</td>\n",
       "      <td>4.0</td>\n",
       "      <td>3.0</td>\n",
       "      <td>3.0</td>\n",
       "      <td>5.0</td>\n",
       "      <td>4.0</td>\n",
       "      <td>1.0</td>\n",
       "      <td>5.0</td>\n",
       "      <td>3.0</td>\n",
       "      <td>...</td>\n",
       "      <td>0.0</td>\n",
       "      <td>0.0</td>\n",
       "      <td>0.0</td>\n",
       "      <td>0.0</td>\n",
       "      <td>0.0</td>\n",
       "      <td>0.0</td>\n",
       "      <td>0.0</td>\n",
       "      <td>0.0</td>\n",
       "      <td>0.0</td>\n",
       "      <td>0.0</td>\n",
       "    </tr>\n",
       "    <tr>\n",
       "      <th>2</th>\n",
       "      <td>4.0</td>\n",
       "      <td>0.0</td>\n",
       "      <td>0.0</td>\n",
       "      <td>0.0</td>\n",
       "      <td>0.0</td>\n",
       "      <td>0.0</td>\n",
       "      <td>0.0</td>\n",
       "      <td>0.0</td>\n",
       "      <td>0.0</td>\n",
       "      <td>2.0</td>\n",
       "      <td>...</td>\n",
       "      <td>0.0</td>\n",
       "      <td>0.0</td>\n",
       "      <td>0.0</td>\n",
       "      <td>0.0</td>\n",
       "      <td>0.0</td>\n",
       "      <td>0.0</td>\n",
       "      <td>0.0</td>\n",
       "      <td>0.0</td>\n",
       "      <td>0.0</td>\n",
       "      <td>0.0</td>\n",
       "    </tr>\n",
       "    <tr>\n",
       "      <th>3</th>\n",
       "      <td>0.0</td>\n",
       "      <td>0.0</td>\n",
       "      <td>0.0</td>\n",
       "      <td>0.0</td>\n",
       "      <td>0.0</td>\n",
       "      <td>0.0</td>\n",
       "      <td>0.0</td>\n",
       "      <td>0.0</td>\n",
       "      <td>0.0</td>\n",
       "      <td>0.0</td>\n",
       "      <td>...</td>\n",
       "      <td>0.0</td>\n",
       "      <td>0.0</td>\n",
       "      <td>0.0</td>\n",
       "      <td>0.0</td>\n",
       "      <td>0.0</td>\n",
       "      <td>0.0</td>\n",
       "      <td>0.0</td>\n",
       "      <td>0.0</td>\n",
       "      <td>0.0</td>\n",
       "      <td>0.0</td>\n",
       "    </tr>\n",
       "    <tr>\n",
       "      <th>4</th>\n",
       "      <td>0.0</td>\n",
       "      <td>0.0</td>\n",
       "      <td>0.0</td>\n",
       "      <td>0.0</td>\n",
       "      <td>0.0</td>\n",
       "      <td>0.0</td>\n",
       "      <td>0.0</td>\n",
       "      <td>0.0</td>\n",
       "      <td>0.0</td>\n",
       "      <td>0.0</td>\n",
       "      <td>...</td>\n",
       "      <td>0.0</td>\n",
       "      <td>0.0</td>\n",
       "      <td>0.0</td>\n",
       "      <td>0.0</td>\n",
       "      <td>0.0</td>\n",
       "      <td>0.0</td>\n",
       "      <td>0.0</td>\n",
       "      <td>0.0</td>\n",
       "      <td>0.0</td>\n",
       "      <td>0.0</td>\n",
       "    </tr>\n",
       "    <tr>\n",
       "      <th>5</th>\n",
       "      <td>4.0</td>\n",
       "      <td>3.0</td>\n",
       "      <td>0.0</td>\n",
       "      <td>0.0</td>\n",
       "      <td>0.0</td>\n",
       "      <td>0.0</td>\n",
       "      <td>0.0</td>\n",
       "      <td>0.0</td>\n",
       "      <td>0.0</td>\n",
       "      <td>0.0</td>\n",
       "      <td>...</td>\n",
       "      <td>0.0</td>\n",
       "      <td>0.0</td>\n",
       "      <td>0.0</td>\n",
       "      <td>0.0</td>\n",
       "      <td>0.0</td>\n",
       "      <td>0.0</td>\n",
       "      <td>0.0</td>\n",
       "      <td>0.0</td>\n",
       "      <td>0.0</td>\n",
       "      <td>0.0</td>\n",
       "    </tr>\n",
       "    <tr>\n",
       "      <th>6</th>\n",
       "      <td>4.0</td>\n",
       "      <td>0.0</td>\n",
       "      <td>0.0</td>\n",
       "      <td>0.0</td>\n",
       "      <td>0.0</td>\n",
       "      <td>0.0</td>\n",
       "      <td>2.0</td>\n",
       "      <td>4.0</td>\n",
       "      <td>4.0</td>\n",
       "      <td>0.0</td>\n",
       "      <td>...</td>\n",
       "      <td>0.0</td>\n",
       "      <td>0.0</td>\n",
       "      <td>0.0</td>\n",
       "      <td>0.0</td>\n",
       "      <td>0.0</td>\n",
       "      <td>0.0</td>\n",
       "      <td>0.0</td>\n",
       "      <td>0.0</td>\n",
       "      <td>0.0</td>\n",
       "      <td>0.0</td>\n",
       "    </tr>\n",
       "    <tr>\n",
       "      <th>7</th>\n",
       "      <td>0.0</td>\n",
       "      <td>0.0</td>\n",
       "      <td>0.0</td>\n",
       "      <td>5.0</td>\n",
       "      <td>0.0</td>\n",
       "      <td>0.0</td>\n",
       "      <td>5.0</td>\n",
       "      <td>5.0</td>\n",
       "      <td>5.0</td>\n",
       "      <td>4.0</td>\n",
       "      <td>...</td>\n",
       "      <td>0.0</td>\n",
       "      <td>0.0</td>\n",
       "      <td>0.0</td>\n",
       "      <td>0.0</td>\n",
       "      <td>0.0</td>\n",
       "      <td>0.0</td>\n",
       "      <td>0.0</td>\n",
       "      <td>0.0</td>\n",
       "      <td>0.0</td>\n",
       "      <td>0.0</td>\n",
       "    </tr>\n",
       "    <tr>\n",
       "      <th>8</th>\n",
       "      <td>0.0</td>\n",
       "      <td>0.0</td>\n",
       "      <td>0.0</td>\n",
       "      <td>0.0</td>\n",
       "      <td>0.0</td>\n",
       "      <td>0.0</td>\n",
       "      <td>3.0</td>\n",
       "      <td>0.0</td>\n",
       "      <td>0.0</td>\n",
       "      <td>0.0</td>\n",
       "      <td>...</td>\n",
       "      <td>0.0</td>\n",
       "      <td>0.0</td>\n",
       "      <td>0.0</td>\n",
       "      <td>0.0</td>\n",
       "      <td>0.0</td>\n",
       "      <td>0.0</td>\n",
       "      <td>0.0</td>\n",
       "      <td>0.0</td>\n",
       "      <td>0.0</td>\n",
       "      <td>0.0</td>\n",
       "    </tr>\n",
       "    <tr>\n",
       "      <th>9</th>\n",
       "      <td>0.0</td>\n",
       "      <td>0.0</td>\n",
       "      <td>0.0</td>\n",
       "      <td>0.0</td>\n",
       "      <td>0.0</td>\n",
       "      <td>5.0</td>\n",
       "      <td>4.0</td>\n",
       "      <td>0.0</td>\n",
       "      <td>0.0</td>\n",
       "      <td>0.0</td>\n",
       "      <td>...</td>\n",
       "      <td>0.0</td>\n",
       "      <td>0.0</td>\n",
       "      <td>0.0</td>\n",
       "      <td>0.0</td>\n",
       "      <td>0.0</td>\n",
       "      <td>0.0</td>\n",
       "      <td>0.0</td>\n",
       "      <td>0.0</td>\n",
       "      <td>0.0</td>\n",
       "      <td>0.0</td>\n",
       "    </tr>\n",
       "    <tr>\n",
       "      <th>10</th>\n",
       "      <td>4.0</td>\n",
       "      <td>0.0</td>\n",
       "      <td>0.0</td>\n",
       "      <td>4.0</td>\n",
       "      <td>0.0</td>\n",
       "      <td>0.0</td>\n",
       "      <td>4.0</td>\n",
       "      <td>0.0</td>\n",
       "      <td>4.0</td>\n",
       "      <td>0.0</td>\n",
       "      <td>...</td>\n",
       "      <td>0.0</td>\n",
       "      <td>0.0</td>\n",
       "      <td>0.0</td>\n",
       "      <td>0.0</td>\n",
       "      <td>0.0</td>\n",
       "      <td>0.0</td>\n",
       "      <td>0.0</td>\n",
       "      <td>0.0</td>\n",
       "      <td>0.0</td>\n",
       "      <td>0.0</td>\n",
       "    </tr>\n",
       "    <tr>\n",
       "      <th>11</th>\n",
       "      <td>0.0</td>\n",
       "      <td>0.0</td>\n",
       "      <td>0.0</td>\n",
       "      <td>0.0</td>\n",
       "      <td>0.0</td>\n",
       "      <td>0.0</td>\n",
       "      <td>0.0</td>\n",
       "      <td>4.0</td>\n",
       "      <td>5.0</td>\n",
       "      <td>0.0</td>\n",
       "      <td>...</td>\n",
       "      <td>0.0</td>\n",
       "      <td>0.0</td>\n",
       "      <td>0.0</td>\n",
       "      <td>0.0</td>\n",
       "      <td>0.0</td>\n",
       "      <td>0.0</td>\n",
       "      <td>0.0</td>\n",
       "      <td>0.0</td>\n",
       "      <td>0.0</td>\n",
       "      <td>0.0</td>\n",
       "    </tr>\n",
       "    <tr>\n",
       "      <th>12</th>\n",
       "      <td>0.0</td>\n",
       "      <td>0.0</td>\n",
       "      <td>0.0</td>\n",
       "      <td>5.0</td>\n",
       "      <td>0.0</td>\n",
       "      <td>0.0</td>\n",
       "      <td>0.0</td>\n",
       "      <td>0.0</td>\n",
       "      <td>0.0</td>\n",
       "      <td>0.0</td>\n",
       "      <td>...</td>\n",
       "      <td>0.0</td>\n",
       "      <td>0.0</td>\n",
       "      <td>0.0</td>\n",
       "      <td>0.0</td>\n",
       "      <td>0.0</td>\n",
       "      <td>0.0</td>\n",
       "      <td>0.0</td>\n",
       "      <td>0.0</td>\n",
       "      <td>0.0</td>\n",
       "      <td>0.0</td>\n",
       "    </tr>\n",
       "    <tr>\n",
       "      <th>13</th>\n",
       "      <td>3.0</td>\n",
       "      <td>3.0</td>\n",
       "      <td>0.0</td>\n",
       "      <td>5.0</td>\n",
       "      <td>1.0</td>\n",
       "      <td>0.0</td>\n",
       "      <td>2.0</td>\n",
       "      <td>4.0</td>\n",
       "      <td>3.0</td>\n",
       "      <td>0.0</td>\n",
       "      <td>...</td>\n",
       "      <td>0.0</td>\n",
       "      <td>0.0</td>\n",
       "      <td>0.0</td>\n",
       "      <td>0.0</td>\n",
       "      <td>0.0</td>\n",
       "      <td>0.0</td>\n",
       "      <td>0.0</td>\n",
       "      <td>0.0</td>\n",
       "      <td>0.0</td>\n",
       "      <td>0.0</td>\n",
       "    </tr>\n",
       "    <tr>\n",
       "      <th>14</th>\n",
       "      <td>0.0</td>\n",
       "      <td>0.0</td>\n",
       "      <td>0.0</td>\n",
       "      <td>0.0</td>\n",
       "      <td>0.0</td>\n",
       "      <td>0.0</td>\n",
       "      <td>5.0</td>\n",
       "      <td>0.0</td>\n",
       "      <td>4.0</td>\n",
       "      <td>0.0</td>\n",
       "      <td>...</td>\n",
       "      <td>0.0</td>\n",
       "      <td>0.0</td>\n",
       "      <td>0.0</td>\n",
       "      <td>0.0</td>\n",
       "      <td>0.0</td>\n",
       "      <td>0.0</td>\n",
       "      <td>0.0</td>\n",
       "      <td>0.0</td>\n",
       "      <td>0.0</td>\n",
       "      <td>0.0</td>\n",
       "    </tr>\n",
       "    <tr>\n",
       "      <th>15</th>\n",
       "      <td>1.0</td>\n",
       "      <td>0.0</td>\n",
       "      <td>0.0</td>\n",
       "      <td>0.0</td>\n",
       "      <td>0.0</td>\n",
       "      <td>0.0</td>\n",
       "      <td>1.0</td>\n",
       "      <td>0.0</td>\n",
       "      <td>4.0</td>\n",
       "      <td>0.0</td>\n",
       "      <td>...</td>\n",
       "      <td>0.0</td>\n",
       "      <td>0.0</td>\n",
       "      <td>0.0</td>\n",
       "      <td>0.0</td>\n",
       "      <td>0.0</td>\n",
       "      <td>0.0</td>\n",
       "      <td>0.0</td>\n",
       "      <td>0.0</td>\n",
       "      <td>0.0</td>\n",
       "      <td>0.0</td>\n",
       "    </tr>\n",
       "    <tr>\n",
       "      <th>16</th>\n",
       "      <td>5.0</td>\n",
       "      <td>0.0</td>\n",
       "      <td>0.0</td>\n",
       "      <td>5.0</td>\n",
       "      <td>0.0</td>\n",
       "      <td>0.0</td>\n",
       "      <td>5.0</td>\n",
       "      <td>5.0</td>\n",
       "      <td>5.0</td>\n",
       "      <td>0.0</td>\n",
       "      <td>...</td>\n",
       "      <td>0.0</td>\n",
       "      <td>0.0</td>\n",
       "      <td>0.0</td>\n",
       "      <td>0.0</td>\n",
       "      <td>0.0</td>\n",
       "      <td>0.0</td>\n",
       "      <td>0.0</td>\n",
       "      <td>0.0</td>\n",
       "      <td>0.0</td>\n",
       "      <td>0.0</td>\n",
       "    </tr>\n",
       "    <tr>\n",
       "      <th>17</th>\n",
       "      <td>4.0</td>\n",
       "      <td>0.0</td>\n",
       "      <td>0.0</td>\n",
       "      <td>0.0</td>\n",
       "      <td>0.0</td>\n",
       "      <td>0.0</td>\n",
       "      <td>4.0</td>\n",
       "      <td>0.0</td>\n",
       "      <td>3.0</td>\n",
       "      <td>0.0</td>\n",
       "      <td>...</td>\n",
       "      <td>0.0</td>\n",
       "      <td>0.0</td>\n",
       "      <td>0.0</td>\n",
       "      <td>0.0</td>\n",
       "      <td>0.0</td>\n",
       "      <td>0.0</td>\n",
       "      <td>0.0</td>\n",
       "      <td>0.0</td>\n",
       "      <td>0.0</td>\n",
       "      <td>0.0</td>\n",
       "    </tr>\n",
       "    <tr>\n",
       "      <th>18</th>\n",
       "      <td>5.0</td>\n",
       "      <td>0.0</td>\n",
       "      <td>0.0</td>\n",
       "      <td>3.0</td>\n",
       "      <td>0.0</td>\n",
       "      <td>5.0</td>\n",
       "      <td>0.0</td>\n",
       "      <td>5.0</td>\n",
       "      <td>5.0</td>\n",
       "      <td>0.0</td>\n",
       "      <td>...</td>\n",
       "      <td>0.0</td>\n",
       "      <td>0.0</td>\n",
       "      <td>0.0</td>\n",
       "      <td>0.0</td>\n",
       "      <td>0.0</td>\n",
       "      <td>0.0</td>\n",
       "      <td>0.0</td>\n",
       "      <td>0.0</td>\n",
       "      <td>0.0</td>\n",
       "      <td>0.0</td>\n",
       "    </tr>\n",
       "    <tr>\n",
       "      <th>19</th>\n",
       "      <td>0.0</td>\n",
       "      <td>0.0</td>\n",
       "      <td>0.0</td>\n",
       "      <td>4.0</td>\n",
       "      <td>0.0</td>\n",
       "      <td>0.0</td>\n",
       "      <td>0.0</td>\n",
       "      <td>5.0</td>\n",
       "      <td>0.0</td>\n",
       "      <td>0.0</td>\n",
       "      <td>...</td>\n",
       "      <td>0.0</td>\n",
       "      <td>0.0</td>\n",
       "      <td>0.0</td>\n",
       "      <td>0.0</td>\n",
       "      <td>0.0</td>\n",
       "      <td>0.0</td>\n",
       "      <td>0.0</td>\n",
       "      <td>0.0</td>\n",
       "      <td>0.0</td>\n",
       "      <td>0.0</td>\n",
       "    </tr>\n",
       "    <tr>\n",
       "      <th>20</th>\n",
       "      <td>3.0</td>\n",
       "      <td>0.0</td>\n",
       "      <td>0.0</td>\n",
       "      <td>0.0</td>\n",
       "      <td>0.0</td>\n",
       "      <td>0.0</td>\n",
       "      <td>0.0</td>\n",
       "      <td>0.0</td>\n",
       "      <td>0.0</td>\n",
       "      <td>0.0</td>\n",
       "      <td>...</td>\n",
       "      <td>0.0</td>\n",
       "      <td>0.0</td>\n",
       "      <td>0.0</td>\n",
       "      <td>0.0</td>\n",
       "      <td>0.0</td>\n",
       "      <td>0.0</td>\n",
       "      <td>0.0</td>\n",
       "      <td>0.0</td>\n",
       "      <td>0.0</td>\n",
       "      <td>0.0</td>\n",
       "    </tr>\n",
       "    <tr>\n",
       "      <th>21</th>\n",
       "      <td>5.0</td>\n",
       "      <td>0.0</td>\n",
       "      <td>0.0</td>\n",
       "      <td>0.0</td>\n",
       "      <td>2.0</td>\n",
       "      <td>0.0</td>\n",
       "      <td>5.0</td>\n",
       "      <td>0.0</td>\n",
       "      <td>5.0</td>\n",
       "      <td>0.0</td>\n",
       "      <td>...</td>\n",
       "      <td>0.0</td>\n",
       "      <td>0.0</td>\n",
       "      <td>0.0</td>\n",
       "      <td>0.0</td>\n",
       "      <td>0.0</td>\n",
       "      <td>0.0</td>\n",
       "      <td>0.0</td>\n",
       "      <td>0.0</td>\n",
       "      <td>0.0</td>\n",
       "      <td>0.0</td>\n",
       "    </tr>\n",
       "    <tr>\n",
       "      <th>22</th>\n",
       "      <td>0.0</td>\n",
       "      <td>2.0</td>\n",
       "      <td>0.0</td>\n",
       "      <td>5.0</td>\n",
       "      <td>0.0</td>\n",
       "      <td>0.0</td>\n",
       "      <td>0.0</td>\n",
       "      <td>0.0</td>\n",
       "      <td>0.0</td>\n",
       "      <td>0.0</td>\n",
       "      <td>...</td>\n",
       "      <td>0.0</td>\n",
       "      <td>0.0</td>\n",
       "      <td>0.0</td>\n",
       "      <td>0.0</td>\n",
       "      <td>0.0</td>\n",
       "      <td>0.0</td>\n",
       "      <td>0.0</td>\n",
       "      <td>0.0</td>\n",
       "      <td>0.0</td>\n",
       "      <td>0.0</td>\n",
       "    </tr>\n",
       "    <tr>\n",
       "      <th>23</th>\n",
       "      <td>5.0</td>\n",
       "      <td>0.0</td>\n",
       "      <td>0.0</td>\n",
       "      <td>0.0</td>\n",
       "      <td>0.0</td>\n",
       "      <td>0.0</td>\n",
       "      <td>4.0</td>\n",
       "      <td>4.0</td>\n",
       "      <td>0.0</td>\n",
       "      <td>0.0</td>\n",
       "      <td>...</td>\n",
       "      <td>0.0</td>\n",
       "      <td>0.0</td>\n",
       "      <td>0.0</td>\n",
       "      <td>0.0</td>\n",
       "      <td>0.0</td>\n",
       "      <td>0.0</td>\n",
       "      <td>0.0</td>\n",
       "      <td>0.0</td>\n",
       "      <td>0.0</td>\n",
       "      <td>0.0</td>\n",
       "    </tr>\n",
       "    <tr>\n",
       "      <th>24</th>\n",
       "      <td>0.0</td>\n",
       "      <td>0.0</td>\n",
       "      <td>0.0</td>\n",
       "      <td>0.0</td>\n",
       "      <td>0.0</td>\n",
       "      <td>0.0</td>\n",
       "      <td>4.0</td>\n",
       "      <td>5.0</td>\n",
       "      <td>5.0</td>\n",
       "      <td>0.0</td>\n",
       "      <td>...</td>\n",
       "      <td>0.0</td>\n",
       "      <td>0.0</td>\n",
       "      <td>0.0</td>\n",
       "      <td>0.0</td>\n",
       "      <td>0.0</td>\n",
       "      <td>0.0</td>\n",
       "      <td>0.0</td>\n",
       "      <td>0.0</td>\n",
       "      <td>0.0</td>\n",
       "      <td>0.0</td>\n",
       "    </tr>\n",
       "    <tr>\n",
       "      <th>25</th>\n",
       "      <td>5.0</td>\n",
       "      <td>0.0</td>\n",
       "      <td>0.0</td>\n",
       "      <td>0.0</td>\n",
       "      <td>0.0</td>\n",
       "      <td>0.0</td>\n",
       "      <td>4.0</td>\n",
       "      <td>4.0</td>\n",
       "      <td>0.0</td>\n",
       "      <td>0.0</td>\n",
       "      <td>...</td>\n",
       "      <td>0.0</td>\n",
       "      <td>0.0</td>\n",
       "      <td>0.0</td>\n",
       "      <td>0.0</td>\n",
       "      <td>0.0</td>\n",
       "      <td>0.0</td>\n",
       "      <td>0.0</td>\n",
       "      <td>0.0</td>\n",
       "      <td>0.0</td>\n",
       "      <td>0.0</td>\n",
       "    </tr>\n",
       "    <tr>\n",
       "      <th>26</th>\n",
       "      <td>3.0</td>\n",
       "      <td>0.0</td>\n",
       "      <td>0.0</td>\n",
       "      <td>0.0</td>\n",
       "      <td>0.0</td>\n",
       "      <td>0.0</td>\n",
       "      <td>3.0</td>\n",
       "      <td>0.0</td>\n",
       "      <td>4.0</td>\n",
       "      <td>0.0</td>\n",
       "      <td>...</td>\n",
       "      <td>0.0</td>\n",
       "      <td>0.0</td>\n",
       "      <td>0.0</td>\n",
       "      <td>0.0</td>\n",
       "      <td>0.0</td>\n",
       "      <td>0.0</td>\n",
       "      <td>0.0</td>\n",
       "      <td>0.0</td>\n",
       "      <td>0.0</td>\n",
       "      <td>0.0</td>\n",
       "    </tr>\n",
       "    <tr>\n",
       "      <th>27</th>\n",
       "      <td>0.0</td>\n",
       "      <td>0.0</td>\n",
       "      <td>0.0</td>\n",
       "      <td>0.0</td>\n",
       "      <td>0.0</td>\n",
       "      <td>0.0</td>\n",
       "      <td>0.0</td>\n",
       "      <td>0.0</td>\n",
       "      <td>4.0</td>\n",
       "      <td>0.0</td>\n",
       "      <td>...</td>\n",
       "      <td>0.0</td>\n",
       "      <td>0.0</td>\n",
       "      <td>0.0</td>\n",
       "      <td>0.0</td>\n",
       "      <td>0.0</td>\n",
       "      <td>0.0</td>\n",
       "      <td>0.0</td>\n",
       "      <td>0.0</td>\n",
       "      <td>0.0</td>\n",
       "      <td>0.0</td>\n",
       "    </tr>\n",
       "    <tr>\n",
       "      <th>28</th>\n",
       "      <td>0.0</td>\n",
       "      <td>0.0</td>\n",
       "      <td>0.0</td>\n",
       "      <td>0.0</td>\n",
       "      <td>3.0</td>\n",
       "      <td>0.0</td>\n",
       "      <td>5.0</td>\n",
       "      <td>0.0</td>\n",
       "      <td>0.0</td>\n",
       "      <td>0.0</td>\n",
       "      <td>...</td>\n",
       "      <td>0.0</td>\n",
       "      <td>0.0</td>\n",
       "      <td>0.0</td>\n",
       "      <td>0.0</td>\n",
       "      <td>0.0</td>\n",
       "      <td>0.0</td>\n",
       "      <td>0.0</td>\n",
       "      <td>0.0</td>\n",
       "      <td>0.0</td>\n",
       "      <td>0.0</td>\n",
       "    </tr>\n",
       "    <tr>\n",
       "      <th>29</th>\n",
       "      <td>0.0</td>\n",
       "      <td>0.0</td>\n",
       "      <td>0.0</td>\n",
       "      <td>0.0</td>\n",
       "      <td>0.0</td>\n",
       "      <td>0.0</td>\n",
       "      <td>0.0</td>\n",
       "      <td>0.0</td>\n",
       "      <td>0.0</td>\n",
       "      <td>0.0</td>\n",
       "      <td>...</td>\n",
       "      <td>0.0</td>\n",
       "      <td>0.0</td>\n",
       "      <td>0.0</td>\n",
       "      <td>0.0</td>\n",
       "      <td>0.0</td>\n",
       "      <td>0.0</td>\n",
       "      <td>0.0</td>\n",
       "      <td>0.0</td>\n",
       "      <td>0.0</td>\n",
       "      <td>0.0</td>\n",
       "    </tr>\n",
       "    <tr>\n",
       "      <th>30</th>\n",
       "      <td>0.0</td>\n",
       "      <td>3.0</td>\n",
       "      <td>0.0</td>\n",
       "      <td>0.0</td>\n",
       "      <td>0.0</td>\n",
       "      <td>0.0</td>\n",
       "      <td>4.0</td>\n",
       "      <td>0.0</td>\n",
       "      <td>0.0</td>\n",
       "      <td>0.0</td>\n",
       "      <td>...</td>\n",
       "      <td>0.0</td>\n",
       "      <td>0.0</td>\n",
       "      <td>0.0</td>\n",
       "      <td>0.0</td>\n",
       "      <td>0.0</td>\n",
       "      <td>0.0</td>\n",
       "      <td>0.0</td>\n",
       "      <td>0.0</td>\n",
       "      <td>0.0</td>\n",
       "      <td>0.0</td>\n",
       "    </tr>\n",
       "    <tr>\n",
       "      <th>...</th>\n",
       "      <td>...</td>\n",
       "      <td>...</td>\n",
       "      <td>...</td>\n",
       "      <td>...</td>\n",
       "      <td>...</td>\n",
       "      <td>...</td>\n",
       "      <td>...</td>\n",
       "      <td>...</td>\n",
       "      <td>...</td>\n",
       "      <td>...</td>\n",
       "      <td>...</td>\n",
       "      <td>...</td>\n",
       "      <td>...</td>\n",
       "      <td>...</td>\n",
       "      <td>...</td>\n",
       "      <td>...</td>\n",
       "      <td>...</td>\n",
       "      <td>...</td>\n",
       "      <td>...</td>\n",
       "      <td>...</td>\n",
       "      <td>...</td>\n",
       "    </tr>\n",
       "    <tr>\n",
       "      <th>914</th>\n",
       "      <td>0.0</td>\n",
       "      <td>0.0</td>\n",
       "      <td>0.0</td>\n",
       "      <td>0.0</td>\n",
       "      <td>0.0</td>\n",
       "      <td>0.0</td>\n",
       "      <td>0.0</td>\n",
       "      <td>0.0</td>\n",
       "      <td>0.0</td>\n",
       "      <td>0.0</td>\n",
       "      <td>...</td>\n",
       "      <td>0.0</td>\n",
       "      <td>0.0</td>\n",
       "      <td>0.0</td>\n",
       "      <td>0.0</td>\n",
       "      <td>0.0</td>\n",
       "      <td>0.0</td>\n",
       "      <td>0.0</td>\n",
       "      <td>0.0</td>\n",
       "      <td>0.0</td>\n",
       "      <td>0.0</td>\n",
       "    </tr>\n",
       "    <tr>\n",
       "      <th>915</th>\n",
       "      <td>0.0</td>\n",
       "      <td>0.0</td>\n",
       "      <td>0.0</td>\n",
       "      <td>0.0</td>\n",
       "      <td>0.0</td>\n",
       "      <td>0.0</td>\n",
       "      <td>0.0</td>\n",
       "      <td>0.0</td>\n",
       "      <td>0.0</td>\n",
       "      <td>0.0</td>\n",
       "      <td>...</td>\n",
       "      <td>0.0</td>\n",
       "      <td>0.0</td>\n",
       "      <td>0.0</td>\n",
       "      <td>0.0</td>\n",
       "      <td>0.0</td>\n",
       "      <td>0.0</td>\n",
       "      <td>0.0</td>\n",
       "      <td>0.0</td>\n",
       "      <td>0.0</td>\n",
       "      <td>0.0</td>\n",
       "    </tr>\n",
       "    <tr>\n",
       "      <th>916</th>\n",
       "      <td>4.0</td>\n",
       "      <td>3.0</td>\n",
       "      <td>3.0</td>\n",
       "      <td>4.0</td>\n",
       "      <td>3.0</td>\n",
       "      <td>0.0</td>\n",
       "      <td>4.0</td>\n",
       "      <td>0.0</td>\n",
       "      <td>5.0</td>\n",
       "      <td>0.0</td>\n",
       "      <td>...</td>\n",
       "      <td>0.0</td>\n",
       "      <td>0.0</td>\n",
       "      <td>0.0</td>\n",
       "      <td>0.0</td>\n",
       "      <td>0.0</td>\n",
       "      <td>0.0</td>\n",
       "      <td>0.0</td>\n",
       "      <td>0.0</td>\n",
       "      <td>0.0</td>\n",
       "      <td>3.0</td>\n",
       "    </tr>\n",
       "    <tr>\n",
       "      <th>917</th>\n",
       "      <td>3.0</td>\n",
       "      <td>0.0</td>\n",
       "      <td>1.0</td>\n",
       "      <td>0.0</td>\n",
       "      <td>0.0</td>\n",
       "      <td>0.0</td>\n",
       "      <td>0.0</td>\n",
       "      <td>0.0</td>\n",
       "      <td>5.0</td>\n",
       "      <td>0.0</td>\n",
       "      <td>...</td>\n",
       "      <td>0.0</td>\n",
       "      <td>0.0</td>\n",
       "      <td>0.0</td>\n",
       "      <td>0.0</td>\n",
       "      <td>0.0</td>\n",
       "      <td>0.0</td>\n",
       "      <td>0.0</td>\n",
       "      <td>0.0</td>\n",
       "      <td>0.0</td>\n",
       "      <td>0.0</td>\n",
       "    </tr>\n",
       "    <tr>\n",
       "      <th>918</th>\n",
       "      <td>3.0</td>\n",
       "      <td>0.0</td>\n",
       "      <td>0.0</td>\n",
       "      <td>0.0</td>\n",
       "      <td>0.0</td>\n",
       "      <td>0.0</td>\n",
       "      <td>0.0</td>\n",
       "      <td>0.0</td>\n",
       "      <td>0.0</td>\n",
       "      <td>0.0</td>\n",
       "      <td>...</td>\n",
       "      <td>0.0</td>\n",
       "      <td>0.0</td>\n",
       "      <td>0.0</td>\n",
       "      <td>0.0</td>\n",
       "      <td>0.0</td>\n",
       "      <td>0.0</td>\n",
       "      <td>0.0</td>\n",
       "      <td>0.0</td>\n",
       "      <td>0.0</td>\n",
       "      <td>0.0</td>\n",
       "    </tr>\n",
       "    <tr>\n",
       "      <th>919</th>\n",
       "      <td>4.0</td>\n",
       "      <td>0.0</td>\n",
       "      <td>0.0</td>\n",
       "      <td>1.0</td>\n",
       "      <td>4.0</td>\n",
       "      <td>0.0</td>\n",
       "      <td>3.0</td>\n",
       "      <td>0.0</td>\n",
       "      <td>5.0</td>\n",
       "      <td>0.0</td>\n",
       "      <td>...</td>\n",
       "      <td>0.0</td>\n",
       "      <td>0.0</td>\n",
       "      <td>0.0</td>\n",
       "      <td>0.0</td>\n",
       "      <td>0.0</td>\n",
       "      <td>0.0</td>\n",
       "      <td>0.0</td>\n",
       "      <td>0.0</td>\n",
       "      <td>0.0</td>\n",
       "      <td>0.0</td>\n",
       "    </tr>\n",
       "    <tr>\n",
       "      <th>920</th>\n",
       "      <td>0.0</td>\n",
       "      <td>0.0</td>\n",
       "      <td>0.0</td>\n",
       "      <td>0.0</td>\n",
       "      <td>0.0</td>\n",
       "      <td>0.0</td>\n",
       "      <td>0.0</td>\n",
       "      <td>0.0</td>\n",
       "      <td>0.0</td>\n",
       "      <td>0.0</td>\n",
       "      <td>...</td>\n",
       "      <td>0.0</td>\n",
       "      <td>0.0</td>\n",
       "      <td>0.0</td>\n",
       "      <td>0.0</td>\n",
       "      <td>0.0</td>\n",
       "      <td>0.0</td>\n",
       "      <td>0.0</td>\n",
       "      <td>0.0</td>\n",
       "      <td>0.0</td>\n",
       "      <td>0.0</td>\n",
       "    </tr>\n",
       "    <tr>\n",
       "      <th>921</th>\n",
       "      <td>3.0</td>\n",
       "      <td>0.0</td>\n",
       "      <td>0.0</td>\n",
       "      <td>0.0</td>\n",
       "      <td>0.0</td>\n",
       "      <td>0.0</td>\n",
       "      <td>0.0</td>\n",
       "      <td>3.0</td>\n",
       "      <td>0.0</td>\n",
       "      <td>0.0</td>\n",
       "      <td>...</td>\n",
       "      <td>0.0</td>\n",
       "      <td>0.0</td>\n",
       "      <td>0.0</td>\n",
       "      <td>0.0</td>\n",
       "      <td>0.0</td>\n",
       "      <td>0.0</td>\n",
       "      <td>0.0</td>\n",
       "      <td>0.0</td>\n",
       "      <td>0.0</td>\n",
       "      <td>0.0</td>\n",
       "    </tr>\n",
       "    <tr>\n",
       "      <th>922</th>\n",
       "      <td>5.0</td>\n",
       "      <td>0.0</td>\n",
       "      <td>0.0</td>\n",
       "      <td>0.0</td>\n",
       "      <td>0.0</td>\n",
       "      <td>0.0</td>\n",
       "      <td>0.0</td>\n",
       "      <td>0.0</td>\n",
       "      <td>0.0</td>\n",
       "      <td>0.0</td>\n",
       "      <td>...</td>\n",
       "      <td>0.0</td>\n",
       "      <td>0.0</td>\n",
       "      <td>0.0</td>\n",
       "      <td>0.0</td>\n",
       "      <td>0.0</td>\n",
       "      <td>0.0</td>\n",
       "      <td>0.0</td>\n",
       "      <td>0.0</td>\n",
       "      <td>0.0</td>\n",
       "      <td>0.0</td>\n",
       "    </tr>\n",
       "    <tr>\n",
       "      <th>923</th>\n",
       "      <td>3.0</td>\n",
       "      <td>0.0</td>\n",
       "      <td>4.0</td>\n",
       "      <td>0.0</td>\n",
       "      <td>0.0</td>\n",
       "      <td>0.0</td>\n",
       "      <td>0.0</td>\n",
       "      <td>0.0</td>\n",
       "      <td>4.0</td>\n",
       "      <td>0.0</td>\n",
       "      <td>...</td>\n",
       "      <td>0.0</td>\n",
       "      <td>0.0</td>\n",
       "      <td>0.0</td>\n",
       "      <td>0.0</td>\n",
       "      <td>0.0</td>\n",
       "      <td>0.0</td>\n",
       "      <td>0.0</td>\n",
       "      <td>0.0</td>\n",
       "      <td>0.0</td>\n",
       "      <td>0.0</td>\n",
       "    </tr>\n",
       "    <tr>\n",
       "      <th>924</th>\n",
       "      <td>5.0</td>\n",
       "      <td>3.0</td>\n",
       "      <td>0.0</td>\n",
       "      <td>0.0</td>\n",
       "      <td>0.0</td>\n",
       "      <td>4.0</td>\n",
       "      <td>4.0</td>\n",
       "      <td>0.0</td>\n",
       "      <td>4.0</td>\n",
       "      <td>0.0</td>\n",
       "      <td>...</td>\n",
       "      <td>0.0</td>\n",
       "      <td>0.0</td>\n",
       "      <td>0.0</td>\n",
       "      <td>0.0</td>\n",
       "      <td>0.0</td>\n",
       "      <td>0.0</td>\n",
       "      <td>0.0</td>\n",
       "      <td>0.0</td>\n",
       "      <td>0.0</td>\n",
       "      <td>0.0</td>\n",
       "    </tr>\n",
       "    <tr>\n",
       "      <th>925</th>\n",
       "      <td>0.0</td>\n",
       "      <td>0.0</td>\n",
       "      <td>0.0</td>\n",
       "      <td>0.0</td>\n",
       "      <td>4.0</td>\n",
       "      <td>0.0</td>\n",
       "      <td>0.0</td>\n",
       "      <td>0.0</td>\n",
       "      <td>0.0</td>\n",
       "      <td>0.0</td>\n",
       "      <td>...</td>\n",
       "      <td>0.0</td>\n",
       "      <td>0.0</td>\n",
       "      <td>0.0</td>\n",
       "      <td>0.0</td>\n",
       "      <td>0.0</td>\n",
       "      <td>0.0</td>\n",
       "      <td>0.0</td>\n",
       "      <td>0.0</td>\n",
       "      <td>0.0</td>\n",
       "      <td>0.0</td>\n",
       "    </tr>\n",
       "    <tr>\n",
       "      <th>926</th>\n",
       "      <td>0.0</td>\n",
       "      <td>0.0</td>\n",
       "      <td>0.0</td>\n",
       "      <td>0.0</td>\n",
       "      <td>0.0</td>\n",
       "      <td>0.0</td>\n",
       "      <td>0.0</td>\n",
       "      <td>0.0</td>\n",
       "      <td>0.0</td>\n",
       "      <td>0.0</td>\n",
       "      <td>...</td>\n",
       "      <td>0.0</td>\n",
       "      <td>0.0</td>\n",
       "      <td>0.0</td>\n",
       "      <td>0.0</td>\n",
       "      <td>0.0</td>\n",
       "      <td>0.0</td>\n",
       "      <td>0.0</td>\n",
       "      <td>0.0</td>\n",
       "      <td>0.0</td>\n",
       "      <td>0.0</td>\n",
       "    </tr>\n",
       "    <tr>\n",
       "      <th>927</th>\n",
       "      <td>5.0</td>\n",
       "      <td>0.0</td>\n",
       "      <td>0.0</td>\n",
       "      <td>0.0</td>\n",
       "      <td>0.0</td>\n",
       "      <td>0.0</td>\n",
       "      <td>3.0</td>\n",
       "      <td>4.0</td>\n",
       "      <td>0.0</td>\n",
       "      <td>0.0</td>\n",
       "      <td>...</td>\n",
       "      <td>0.0</td>\n",
       "      <td>0.0</td>\n",
       "      <td>0.0</td>\n",
       "      <td>0.0</td>\n",
       "      <td>0.0</td>\n",
       "      <td>0.0</td>\n",
       "      <td>0.0</td>\n",
       "      <td>0.0</td>\n",
       "      <td>0.0</td>\n",
       "      <td>0.0</td>\n",
       "    </tr>\n",
       "    <tr>\n",
       "      <th>928</th>\n",
       "      <td>0.0</td>\n",
       "      <td>0.0</td>\n",
       "      <td>0.0</td>\n",
       "      <td>0.0</td>\n",
       "      <td>0.0</td>\n",
       "      <td>0.0</td>\n",
       "      <td>0.0</td>\n",
       "      <td>5.0</td>\n",
       "      <td>5.0</td>\n",
       "      <td>0.0</td>\n",
       "      <td>...</td>\n",
       "      <td>0.0</td>\n",
       "      <td>0.0</td>\n",
       "      <td>0.0</td>\n",
       "      <td>0.0</td>\n",
       "      <td>0.0</td>\n",
       "      <td>0.0</td>\n",
       "      <td>0.0</td>\n",
       "      <td>0.0</td>\n",
       "      <td>0.0</td>\n",
       "      <td>0.0</td>\n",
       "    </tr>\n",
       "    <tr>\n",
       "      <th>929</th>\n",
       "      <td>3.0</td>\n",
       "      <td>0.0</td>\n",
       "      <td>0.0</td>\n",
       "      <td>0.0</td>\n",
       "      <td>0.0</td>\n",
       "      <td>0.0</td>\n",
       "      <td>0.0</td>\n",
       "      <td>0.0</td>\n",
       "      <td>0.0</td>\n",
       "      <td>0.0</td>\n",
       "      <td>...</td>\n",
       "      <td>0.0</td>\n",
       "      <td>0.0</td>\n",
       "      <td>0.0</td>\n",
       "      <td>0.0</td>\n",
       "      <td>0.0</td>\n",
       "      <td>0.0</td>\n",
       "      <td>0.0</td>\n",
       "      <td>0.0</td>\n",
       "      <td>0.0</td>\n",
       "      <td>0.0</td>\n",
       "    </tr>\n",
       "    <tr>\n",
       "      <th>930</th>\n",
       "      <td>3.0</td>\n",
       "      <td>0.0</td>\n",
       "      <td>0.0</td>\n",
       "      <td>0.0</td>\n",
       "      <td>0.0</td>\n",
       "      <td>0.0</td>\n",
       "      <td>0.0</td>\n",
       "      <td>3.0</td>\n",
       "      <td>0.0</td>\n",
       "      <td>0.0</td>\n",
       "      <td>...</td>\n",
       "      <td>0.0</td>\n",
       "      <td>0.0</td>\n",
       "      <td>0.0</td>\n",
       "      <td>0.0</td>\n",
       "      <td>0.0</td>\n",
       "      <td>0.0</td>\n",
       "      <td>0.0</td>\n",
       "      <td>0.0</td>\n",
       "      <td>0.0</td>\n",
       "      <td>0.0</td>\n",
       "    </tr>\n",
       "    <tr>\n",
       "      <th>931</th>\n",
       "      <td>0.0</td>\n",
       "      <td>0.0</td>\n",
       "      <td>0.0</td>\n",
       "      <td>0.0</td>\n",
       "      <td>0.0</td>\n",
       "      <td>0.0</td>\n",
       "      <td>0.0</td>\n",
       "      <td>0.0</td>\n",
       "      <td>0.0</td>\n",
       "      <td>0.0</td>\n",
       "      <td>...</td>\n",
       "      <td>0.0</td>\n",
       "      <td>0.0</td>\n",
       "      <td>0.0</td>\n",
       "      <td>0.0</td>\n",
       "      <td>0.0</td>\n",
       "      <td>0.0</td>\n",
       "      <td>0.0</td>\n",
       "      <td>0.0</td>\n",
       "      <td>0.0</td>\n",
       "      <td>0.0</td>\n",
       "    </tr>\n",
       "    <tr>\n",
       "      <th>932</th>\n",
       "      <td>4.0</td>\n",
       "      <td>0.0</td>\n",
       "      <td>0.0</td>\n",
       "      <td>0.0</td>\n",
       "      <td>0.0</td>\n",
       "      <td>0.0</td>\n",
       "      <td>4.0</td>\n",
       "      <td>0.0</td>\n",
       "      <td>5.0</td>\n",
       "      <td>0.0</td>\n",
       "      <td>...</td>\n",
       "      <td>0.0</td>\n",
       "      <td>0.0</td>\n",
       "      <td>0.0</td>\n",
       "      <td>0.0</td>\n",
       "      <td>0.0</td>\n",
       "      <td>0.0</td>\n",
       "      <td>0.0</td>\n",
       "      <td>0.0</td>\n",
       "      <td>0.0</td>\n",
       "      <td>0.0</td>\n",
       "    </tr>\n",
       "    <tr>\n",
       "      <th>933</th>\n",
       "      <td>3.0</td>\n",
       "      <td>0.0</td>\n",
       "      <td>0.0</td>\n",
       "      <td>3.0</td>\n",
       "      <td>0.0</td>\n",
       "      <td>0.0</td>\n",
       "      <td>4.0</td>\n",
       "      <td>0.0</td>\n",
       "      <td>3.0</td>\n",
       "      <td>0.0</td>\n",
       "      <td>...</td>\n",
       "      <td>0.0</td>\n",
       "      <td>0.0</td>\n",
       "      <td>0.0</td>\n",
       "      <td>0.0</td>\n",
       "      <td>0.0</td>\n",
       "      <td>0.0</td>\n",
       "      <td>0.0</td>\n",
       "      <td>0.0</td>\n",
       "      <td>0.0</td>\n",
       "      <td>0.0</td>\n",
       "    </tr>\n",
       "    <tr>\n",
       "      <th>934</th>\n",
       "      <td>2.0</td>\n",
       "      <td>4.0</td>\n",
       "      <td>0.0</td>\n",
       "      <td>5.0</td>\n",
       "      <td>0.0</td>\n",
       "      <td>0.0</td>\n",
       "      <td>0.0</td>\n",
       "      <td>0.0</td>\n",
       "      <td>0.0</td>\n",
       "      <td>0.0</td>\n",
       "      <td>...</td>\n",
       "      <td>0.0</td>\n",
       "      <td>0.0</td>\n",
       "      <td>0.0</td>\n",
       "      <td>0.0</td>\n",
       "      <td>0.0</td>\n",
       "      <td>0.0</td>\n",
       "      <td>0.0</td>\n",
       "      <td>0.0</td>\n",
       "      <td>0.0</td>\n",
       "      <td>0.0</td>\n",
       "    </tr>\n",
       "    <tr>\n",
       "      <th>935</th>\n",
       "      <td>3.0</td>\n",
       "      <td>0.0</td>\n",
       "      <td>0.0</td>\n",
       "      <td>0.0</td>\n",
       "      <td>0.0</td>\n",
       "      <td>0.0</td>\n",
       "      <td>0.0</td>\n",
       "      <td>0.0</td>\n",
       "      <td>1.0</td>\n",
       "      <td>0.0</td>\n",
       "      <td>...</td>\n",
       "      <td>0.0</td>\n",
       "      <td>0.0</td>\n",
       "      <td>0.0</td>\n",
       "      <td>0.0</td>\n",
       "      <td>0.0</td>\n",
       "      <td>0.0</td>\n",
       "      <td>0.0</td>\n",
       "      <td>0.0</td>\n",
       "      <td>0.0</td>\n",
       "      <td>0.0</td>\n",
       "    </tr>\n",
       "    <tr>\n",
       "      <th>936</th>\n",
       "      <td>4.0</td>\n",
       "      <td>0.0</td>\n",
       "      <td>4.0</td>\n",
       "      <td>0.0</td>\n",
       "      <td>0.0</td>\n",
       "      <td>5.0</td>\n",
       "      <td>4.0</td>\n",
       "      <td>0.0</td>\n",
       "      <td>4.0</td>\n",
       "      <td>0.0</td>\n",
       "      <td>...</td>\n",
       "      <td>0.0</td>\n",
       "      <td>0.0</td>\n",
       "      <td>0.0</td>\n",
       "      <td>0.0</td>\n",
       "      <td>0.0</td>\n",
       "      <td>0.0</td>\n",
       "      <td>0.0</td>\n",
       "      <td>0.0</td>\n",
       "      <td>0.0</td>\n",
       "      <td>0.0</td>\n",
       "    </tr>\n",
       "    <tr>\n",
       "      <th>937</th>\n",
       "      <td>0.0</td>\n",
       "      <td>0.0</td>\n",
       "      <td>0.0</td>\n",
       "      <td>0.0</td>\n",
       "      <td>0.0</td>\n",
       "      <td>0.0</td>\n",
       "      <td>0.0</td>\n",
       "      <td>0.0</td>\n",
       "      <td>5.0</td>\n",
       "      <td>0.0</td>\n",
       "      <td>...</td>\n",
       "      <td>0.0</td>\n",
       "      <td>0.0</td>\n",
       "      <td>0.0</td>\n",
       "      <td>0.0</td>\n",
       "      <td>0.0</td>\n",
       "      <td>0.0</td>\n",
       "      <td>0.0</td>\n",
       "      <td>0.0</td>\n",
       "      <td>0.0</td>\n",
       "      <td>0.0</td>\n",
       "    </tr>\n",
       "    <tr>\n",
       "      <th>938</th>\n",
       "      <td>4.0</td>\n",
       "      <td>0.0</td>\n",
       "      <td>0.0</td>\n",
       "      <td>0.0</td>\n",
       "      <td>0.0</td>\n",
       "      <td>0.0</td>\n",
       "      <td>4.0</td>\n",
       "      <td>0.0</td>\n",
       "      <td>3.0</td>\n",
       "      <td>0.0</td>\n",
       "      <td>...</td>\n",
       "      <td>0.0</td>\n",
       "      <td>0.0</td>\n",
       "      <td>0.0</td>\n",
       "      <td>0.0</td>\n",
       "      <td>0.0</td>\n",
       "      <td>0.0</td>\n",
       "      <td>0.0</td>\n",
       "      <td>0.0</td>\n",
       "      <td>0.0</td>\n",
       "      <td>0.0</td>\n",
       "    </tr>\n",
       "    <tr>\n",
       "      <th>939</th>\n",
       "      <td>0.0</td>\n",
       "      <td>0.0</td>\n",
       "      <td>0.0</td>\n",
       "      <td>0.0</td>\n",
       "      <td>0.0</td>\n",
       "      <td>0.0</td>\n",
       "      <td>0.0</td>\n",
       "      <td>0.0</td>\n",
       "      <td>5.0</td>\n",
       "      <td>0.0</td>\n",
       "      <td>...</td>\n",
       "      <td>0.0</td>\n",
       "      <td>0.0</td>\n",
       "      <td>0.0</td>\n",
       "      <td>0.0</td>\n",
       "      <td>0.0</td>\n",
       "      <td>0.0</td>\n",
       "      <td>0.0</td>\n",
       "      <td>0.0</td>\n",
       "      <td>0.0</td>\n",
       "      <td>0.0</td>\n",
       "    </tr>\n",
       "    <tr>\n",
       "      <th>940</th>\n",
       "      <td>0.0</td>\n",
       "      <td>0.0</td>\n",
       "      <td>0.0</td>\n",
       "      <td>2.0</td>\n",
       "      <td>0.0</td>\n",
       "      <td>0.0</td>\n",
       "      <td>4.0</td>\n",
       "      <td>5.0</td>\n",
       "      <td>3.0</td>\n",
       "      <td>0.0</td>\n",
       "      <td>...</td>\n",
       "      <td>0.0</td>\n",
       "      <td>0.0</td>\n",
       "      <td>0.0</td>\n",
       "      <td>0.0</td>\n",
       "      <td>0.0</td>\n",
       "      <td>0.0</td>\n",
       "      <td>0.0</td>\n",
       "      <td>0.0</td>\n",
       "      <td>0.0</td>\n",
       "      <td>0.0</td>\n",
       "    </tr>\n",
       "    <tr>\n",
       "      <th>941</th>\n",
       "      <td>5.0</td>\n",
       "      <td>0.0</td>\n",
       "      <td>0.0</td>\n",
       "      <td>0.0</td>\n",
       "      <td>0.0</td>\n",
       "      <td>0.0</td>\n",
       "      <td>4.0</td>\n",
       "      <td>0.0</td>\n",
       "      <td>0.0</td>\n",
       "      <td>0.0</td>\n",
       "      <td>...</td>\n",
       "      <td>0.0</td>\n",
       "      <td>0.0</td>\n",
       "      <td>0.0</td>\n",
       "      <td>0.0</td>\n",
       "      <td>0.0</td>\n",
       "      <td>0.0</td>\n",
       "      <td>0.0</td>\n",
       "      <td>0.0</td>\n",
       "      <td>0.0</td>\n",
       "      <td>0.0</td>\n",
       "    </tr>\n",
       "    <tr>\n",
       "      <th>942</th>\n",
       "      <td>0.0</td>\n",
       "      <td>0.0</td>\n",
       "      <td>0.0</td>\n",
       "      <td>0.0</td>\n",
       "      <td>0.0</td>\n",
       "      <td>0.0</td>\n",
       "      <td>0.0</td>\n",
       "      <td>0.0</td>\n",
       "      <td>0.0</td>\n",
       "      <td>0.0</td>\n",
       "      <td>...</td>\n",
       "      <td>0.0</td>\n",
       "      <td>0.0</td>\n",
       "      <td>0.0</td>\n",
       "      <td>0.0</td>\n",
       "      <td>0.0</td>\n",
       "      <td>0.0</td>\n",
       "      <td>0.0</td>\n",
       "      <td>0.0</td>\n",
       "      <td>0.0</td>\n",
       "      <td>0.0</td>\n",
       "    </tr>\n",
       "    <tr>\n",
       "      <th>943</th>\n",
       "      <td>0.0</td>\n",
       "      <td>5.0</td>\n",
       "      <td>0.0</td>\n",
       "      <td>0.0</td>\n",
       "      <td>0.0</td>\n",
       "      <td>0.0</td>\n",
       "      <td>0.0</td>\n",
       "      <td>0.0</td>\n",
       "      <td>3.0</td>\n",
       "      <td>0.0</td>\n",
       "      <td>...</td>\n",
       "      <td>0.0</td>\n",
       "      <td>0.0</td>\n",
       "      <td>0.0</td>\n",
       "      <td>0.0</td>\n",
       "      <td>0.0</td>\n",
       "      <td>0.0</td>\n",
       "      <td>0.0</td>\n",
       "      <td>0.0</td>\n",
       "      <td>0.0</td>\n",
       "      <td>0.0</td>\n",
       "    </tr>\n",
       "  </tbody>\n",
       "</table>\n",
       "<p>943 rows × 1682 columns</p>\n",
       "</div>"
      ],
      "text/plain": [
       "      rating                                              ...                  \\\n",
       "movie   1    2    3    4    5    6    7    8    9    10   ...  1673 1674 1675   \n",
       "user                                                      ...                   \n",
       "1        5.0  3.0  4.0  3.0  3.0  5.0  4.0  1.0  5.0  3.0 ...   0.0  0.0  0.0   \n",
       "2        4.0  0.0  0.0  0.0  0.0  0.0  0.0  0.0  0.0  2.0 ...   0.0  0.0  0.0   \n",
       "3        0.0  0.0  0.0  0.0  0.0  0.0  0.0  0.0  0.0  0.0 ...   0.0  0.0  0.0   \n",
       "4        0.0  0.0  0.0  0.0  0.0  0.0  0.0  0.0  0.0  0.0 ...   0.0  0.0  0.0   \n",
       "5        4.0  3.0  0.0  0.0  0.0  0.0  0.0  0.0  0.0  0.0 ...   0.0  0.0  0.0   \n",
       "6        4.0  0.0  0.0  0.0  0.0  0.0  2.0  4.0  4.0  0.0 ...   0.0  0.0  0.0   \n",
       "7        0.0  0.0  0.0  5.0  0.0  0.0  5.0  5.0  5.0  4.0 ...   0.0  0.0  0.0   \n",
       "8        0.0  0.0  0.0  0.0  0.0  0.0  3.0  0.0  0.0  0.0 ...   0.0  0.0  0.0   \n",
       "9        0.0  0.0  0.0  0.0  0.0  5.0  4.0  0.0  0.0  0.0 ...   0.0  0.0  0.0   \n",
       "10       4.0  0.0  0.0  4.0  0.0  0.0  4.0  0.0  4.0  0.0 ...   0.0  0.0  0.0   \n",
       "11       0.0  0.0  0.0  0.0  0.0  0.0  0.0  4.0  5.0  0.0 ...   0.0  0.0  0.0   \n",
       "12       0.0  0.0  0.0  5.0  0.0  0.0  0.0  0.0  0.0  0.0 ...   0.0  0.0  0.0   \n",
       "13       3.0  3.0  0.0  5.0  1.0  0.0  2.0  4.0  3.0  0.0 ...   0.0  0.0  0.0   \n",
       "14       0.0  0.0  0.0  0.0  0.0  0.0  5.0  0.0  4.0  0.0 ...   0.0  0.0  0.0   \n",
       "15       1.0  0.0  0.0  0.0  0.0  0.0  1.0  0.0  4.0  0.0 ...   0.0  0.0  0.0   \n",
       "16       5.0  0.0  0.0  5.0  0.0  0.0  5.0  5.0  5.0  0.0 ...   0.0  0.0  0.0   \n",
       "17       4.0  0.0  0.0  0.0  0.0  0.0  4.0  0.0  3.0  0.0 ...   0.0  0.0  0.0   \n",
       "18       5.0  0.0  0.0  3.0  0.0  5.0  0.0  5.0  5.0  0.0 ...   0.0  0.0  0.0   \n",
       "19       0.0  0.0  0.0  4.0  0.0  0.0  0.0  5.0  0.0  0.0 ...   0.0  0.0  0.0   \n",
       "20       3.0  0.0  0.0  0.0  0.0  0.0  0.0  0.0  0.0  0.0 ...   0.0  0.0  0.0   \n",
       "21       5.0  0.0  0.0  0.0  2.0  0.0  5.0  0.0  5.0  0.0 ...   0.0  0.0  0.0   \n",
       "22       0.0  2.0  0.0  5.0  0.0  0.0  0.0  0.0  0.0  0.0 ...   0.0  0.0  0.0   \n",
       "23       5.0  0.0  0.0  0.0  0.0  0.0  4.0  4.0  0.0  0.0 ...   0.0  0.0  0.0   \n",
       "24       0.0  0.0  0.0  0.0  0.0  0.0  4.0  5.0  5.0  0.0 ...   0.0  0.0  0.0   \n",
       "25       5.0  0.0  0.0  0.0  0.0  0.0  4.0  4.0  0.0  0.0 ...   0.0  0.0  0.0   \n",
       "26       3.0  0.0  0.0  0.0  0.0  0.0  3.0  0.0  4.0  0.0 ...   0.0  0.0  0.0   \n",
       "27       0.0  0.0  0.0  0.0  0.0  0.0  0.0  0.0  4.0  0.0 ...   0.0  0.0  0.0   \n",
       "28       0.0  0.0  0.0  0.0  3.0  0.0  5.0  0.0  0.0  0.0 ...   0.0  0.0  0.0   \n",
       "29       0.0  0.0  0.0  0.0  0.0  0.0  0.0  0.0  0.0  0.0 ...   0.0  0.0  0.0   \n",
       "30       0.0  3.0  0.0  0.0  0.0  0.0  4.0  0.0  0.0  0.0 ...   0.0  0.0  0.0   \n",
       "...      ...  ...  ...  ...  ...  ...  ...  ...  ...  ... ...   ...  ...  ...   \n",
       "914      0.0  0.0  0.0  0.0  0.0  0.0  0.0  0.0  0.0  0.0 ...   0.0  0.0  0.0   \n",
       "915      0.0  0.0  0.0  0.0  0.0  0.0  0.0  0.0  0.0  0.0 ...   0.0  0.0  0.0   \n",
       "916      4.0  3.0  3.0  4.0  3.0  0.0  4.0  0.0  5.0  0.0 ...   0.0  0.0  0.0   \n",
       "917      3.0  0.0  1.0  0.0  0.0  0.0  0.0  0.0  5.0  0.0 ...   0.0  0.0  0.0   \n",
       "918      3.0  0.0  0.0  0.0  0.0  0.0  0.0  0.0  0.0  0.0 ...   0.0  0.0  0.0   \n",
       "919      4.0  0.0  0.0  1.0  4.0  0.0  3.0  0.0  5.0  0.0 ...   0.0  0.0  0.0   \n",
       "920      0.0  0.0  0.0  0.0  0.0  0.0  0.0  0.0  0.0  0.0 ...   0.0  0.0  0.0   \n",
       "921      3.0  0.0  0.0  0.0  0.0  0.0  0.0  3.0  0.0  0.0 ...   0.0  0.0  0.0   \n",
       "922      5.0  0.0  0.0  0.0  0.0  0.0  0.0  0.0  0.0  0.0 ...   0.0  0.0  0.0   \n",
       "923      3.0  0.0  4.0  0.0  0.0  0.0  0.0  0.0  4.0  0.0 ...   0.0  0.0  0.0   \n",
       "924      5.0  3.0  0.0  0.0  0.0  4.0  4.0  0.0  4.0  0.0 ...   0.0  0.0  0.0   \n",
       "925      0.0  0.0  0.0  0.0  4.0  0.0  0.0  0.0  0.0  0.0 ...   0.0  0.0  0.0   \n",
       "926      0.0  0.0  0.0  0.0  0.0  0.0  0.0  0.0  0.0  0.0 ...   0.0  0.0  0.0   \n",
       "927      5.0  0.0  0.0  0.0  0.0  0.0  3.0  4.0  0.0  0.0 ...   0.0  0.0  0.0   \n",
       "928      0.0  0.0  0.0  0.0  0.0  0.0  0.0  5.0  5.0  0.0 ...   0.0  0.0  0.0   \n",
       "929      3.0  0.0  0.0  0.0  0.0  0.0  0.0  0.0  0.0  0.0 ...   0.0  0.0  0.0   \n",
       "930      3.0  0.0  0.0  0.0  0.0  0.0  0.0  3.0  0.0  0.0 ...   0.0  0.0  0.0   \n",
       "931      0.0  0.0  0.0  0.0  0.0  0.0  0.0  0.0  0.0  0.0 ...   0.0  0.0  0.0   \n",
       "932      4.0  0.0  0.0  0.0  0.0  0.0  4.0  0.0  5.0  0.0 ...   0.0  0.0  0.0   \n",
       "933      3.0  0.0  0.0  3.0  0.0  0.0  4.0  0.0  3.0  0.0 ...   0.0  0.0  0.0   \n",
       "934      2.0  4.0  0.0  5.0  0.0  0.0  0.0  0.0  0.0  0.0 ...   0.0  0.0  0.0   \n",
       "935      3.0  0.0  0.0  0.0  0.0  0.0  0.0  0.0  1.0  0.0 ...   0.0  0.0  0.0   \n",
       "936      4.0  0.0  4.0  0.0  0.0  5.0  4.0  0.0  4.0  0.0 ...   0.0  0.0  0.0   \n",
       "937      0.0  0.0  0.0  0.0  0.0  0.0  0.0  0.0  5.0  0.0 ...   0.0  0.0  0.0   \n",
       "938      4.0  0.0  0.0  0.0  0.0  0.0  4.0  0.0  3.0  0.0 ...   0.0  0.0  0.0   \n",
       "939      0.0  0.0  0.0  0.0  0.0  0.0  0.0  0.0  5.0  0.0 ...   0.0  0.0  0.0   \n",
       "940      0.0  0.0  0.0  2.0  0.0  0.0  4.0  5.0  3.0  0.0 ...   0.0  0.0  0.0   \n",
       "941      5.0  0.0  0.0  0.0  0.0  0.0  4.0  0.0  0.0  0.0 ...   0.0  0.0  0.0   \n",
       "942      0.0  0.0  0.0  0.0  0.0  0.0  0.0  0.0  0.0  0.0 ...   0.0  0.0  0.0   \n",
       "943      0.0  5.0  0.0  0.0  0.0  0.0  0.0  0.0  3.0  0.0 ...   0.0  0.0  0.0   \n",
       "\n",
       "                                          \n",
       "movie 1676 1677 1678 1679 1680 1681 1682  \n",
       "user                                      \n",
       "1      0.0  0.0  0.0  0.0  0.0  0.0  0.0  \n",
       "2      0.0  0.0  0.0  0.0  0.0  0.0  0.0  \n",
       "3      0.0  0.0  0.0  0.0  0.0  0.0  0.0  \n",
       "4      0.0  0.0  0.0  0.0  0.0  0.0  0.0  \n",
       "5      0.0  0.0  0.0  0.0  0.0  0.0  0.0  \n",
       "6      0.0  0.0  0.0  0.0  0.0  0.0  0.0  \n",
       "7      0.0  0.0  0.0  0.0  0.0  0.0  0.0  \n",
       "8      0.0  0.0  0.0  0.0  0.0  0.0  0.0  \n",
       "9      0.0  0.0  0.0  0.0  0.0  0.0  0.0  \n",
       "10     0.0  0.0  0.0  0.0  0.0  0.0  0.0  \n",
       "11     0.0  0.0  0.0  0.0  0.0  0.0  0.0  \n",
       "12     0.0  0.0  0.0  0.0  0.0  0.0  0.0  \n",
       "13     0.0  0.0  0.0  0.0  0.0  0.0  0.0  \n",
       "14     0.0  0.0  0.0  0.0  0.0  0.0  0.0  \n",
       "15     0.0  0.0  0.0  0.0  0.0  0.0  0.0  \n",
       "16     0.0  0.0  0.0  0.0  0.0  0.0  0.0  \n",
       "17     0.0  0.0  0.0  0.0  0.0  0.0  0.0  \n",
       "18     0.0  0.0  0.0  0.0  0.0  0.0  0.0  \n",
       "19     0.0  0.0  0.0  0.0  0.0  0.0  0.0  \n",
       "20     0.0  0.0  0.0  0.0  0.0  0.0  0.0  \n",
       "21     0.0  0.0  0.0  0.0  0.0  0.0  0.0  \n",
       "22     0.0  0.0  0.0  0.0  0.0  0.0  0.0  \n",
       "23     0.0  0.0  0.0  0.0  0.0  0.0  0.0  \n",
       "24     0.0  0.0  0.0  0.0  0.0  0.0  0.0  \n",
       "25     0.0  0.0  0.0  0.0  0.0  0.0  0.0  \n",
       "26     0.0  0.0  0.0  0.0  0.0  0.0  0.0  \n",
       "27     0.0  0.0  0.0  0.0  0.0  0.0  0.0  \n",
       "28     0.0  0.0  0.0  0.0  0.0  0.0  0.0  \n",
       "29     0.0  0.0  0.0  0.0  0.0  0.0  0.0  \n",
       "30     0.0  0.0  0.0  0.0  0.0  0.0  0.0  \n",
       "...    ...  ...  ...  ...  ...  ...  ...  \n",
       "914    0.0  0.0  0.0  0.0  0.0  0.0  0.0  \n",
       "915    0.0  0.0  0.0  0.0  0.0  0.0  0.0  \n",
       "916    0.0  0.0  0.0  0.0  0.0  0.0  3.0  \n",
       "917    0.0  0.0  0.0  0.0  0.0  0.0  0.0  \n",
       "918    0.0  0.0  0.0  0.0  0.0  0.0  0.0  \n",
       "919    0.0  0.0  0.0  0.0  0.0  0.0  0.0  \n",
       "920    0.0  0.0  0.0  0.0  0.0  0.0  0.0  \n",
       "921    0.0  0.0  0.0  0.0  0.0  0.0  0.0  \n",
       "922    0.0  0.0  0.0  0.0  0.0  0.0  0.0  \n",
       "923    0.0  0.0  0.0  0.0  0.0  0.0  0.0  \n",
       "924    0.0  0.0  0.0  0.0  0.0  0.0  0.0  \n",
       "925    0.0  0.0  0.0  0.0  0.0  0.0  0.0  \n",
       "926    0.0  0.0  0.0  0.0  0.0  0.0  0.0  \n",
       "927    0.0  0.0  0.0  0.0  0.0  0.0  0.0  \n",
       "928    0.0  0.0  0.0  0.0  0.0  0.0  0.0  \n",
       "929    0.0  0.0  0.0  0.0  0.0  0.0  0.0  \n",
       "930    0.0  0.0  0.0  0.0  0.0  0.0  0.0  \n",
       "931    0.0  0.0  0.0  0.0  0.0  0.0  0.0  \n",
       "932    0.0  0.0  0.0  0.0  0.0  0.0  0.0  \n",
       "933    0.0  0.0  0.0  0.0  0.0  0.0  0.0  \n",
       "934    0.0  0.0  0.0  0.0  0.0  0.0  0.0  \n",
       "935    0.0  0.0  0.0  0.0  0.0  0.0  0.0  \n",
       "936    0.0  0.0  0.0  0.0  0.0  0.0  0.0  \n",
       "937    0.0  0.0  0.0  0.0  0.0  0.0  0.0  \n",
       "938    0.0  0.0  0.0  0.0  0.0  0.0  0.0  \n",
       "939    0.0  0.0  0.0  0.0  0.0  0.0  0.0  \n",
       "940    0.0  0.0  0.0  0.0  0.0  0.0  0.0  \n",
       "941    0.0  0.0  0.0  0.0  0.0  0.0  0.0  \n",
       "942    0.0  0.0  0.0  0.0  0.0  0.0  0.0  \n",
       "943    0.0  0.0  0.0  0.0  0.0  0.0  0.0  \n",
       "\n",
       "[943 rows x 1682 columns]"
      ]
     },
     "execution_count": 38,
     "metadata": {},
     "output_type": "execute_result"
    }
   ],
   "source": [
    "lf_df = df.set_index(['user', 'movie'])[['rating']].unstack().fillna(0)\n",
    "lf_df"
   ]
  },
  {
   "cell_type": "code",
   "execution_count": 43,
   "metadata": {
    "collapsed": false
   },
   "outputs": [
    {
     "data": {
      "text/plain": [
       "MultiIndex(levels=[[u'rating'], [1, 2, 3, 4, 5, 6, 7, 8, 9, 10, 11, 12, 13, 14, 15, 16, 17, 18, 19, 20, 21, 22, 23, 24, 25, 26, 27, 28, 29, 30, 31, 32, 33, 34, 35, 36, 37, 38, 39, 40, 41, 42, 43, 44, 45, 46, 47, 48, 49, 50, 51, 52, 53, 54, 55, 56, 57, 58, 59, 60, 61, 62, 63, 64, 65, 66, 67, 68, 69, 70, 71, 72, 73, 74, 75, 76, 77, 78, 79, 80, 81, 82, 83, 84, 85, 86, 87, 88, 89, 90, 91, 92, 93, 94, 95, 96, 97, 98, 99, 100, 101, 102, 103, 104, 105, 106, 107, 108, 109, 110, 111, 112, 113, 114, 115, 116, 117, 118, 119, 120, 121, 122, 123, 124, 125, 126, 127, 128, 129, 130, 131, 132, 133, 134, 135, 136, 137, 138, 139, 140, 141, 142, 143, 144, 145, 146, 147, 148, 149, 150, 151, 152, 153, 154, 155, 156, 157, 158, 159, 160, 161, 162, 163, 164, 165, 166, 167, 168, 169, 170, 171, 172, 173, 174, 175, 176, 177, 178, 179, 180, 181, 182, 183, 184, 185, 186, 187, 188, 189, 190, 191, 192, 193, 194, 195, 196, 197, 198, 199, 200, 201, 202, 203, 204, 205, 206, 207, 208, 209, 210, 211, 212, 213, 214, 215, 216, 217, 218, 219, 220, 221, 222, 223, 224, 225, 226, 227, 228, 229, 230, 231, 232, 233, 234, 235, 236, 237, 238, 239, 240, 241, 242, 243, 244, 245, 246, 247, 248, 249, 250, 251, 252, 253, 254, 255, 256, 257, 258, 259, 260, 261, 262, 263, 264, 265, 266, 267, 268, 269, 270, 271, 272, 273, 274, 275, 276, 277, 278, 279, 280, 281, 282, 283, 284, 285, 286, 287, 288, 289, 290, 291, 292, 293, 294, 295, 296, 297, 298, 299, 300, 301, 302, 303, 304, 305, 306, 307, 308, 309, 310, 311, 312, 313, 314, 315, 316, 317, 318, 319, 320, 321, 322, 323, 324, 325, 326, 327, 328, 329, 330, 331, 332, 333, 334, 335, 336, 337, 338, 339, 340, 341, 342, 343, 344, 345, 346, 347, 348, 349, 350, 351, 352, 353, 354, 355, 356, 357, 358, 359, 360, 361, 362, 363, 364, 365, 366, 367, 368, 369, 370, 371, 372, 373, 374, 375, 376, 377, 378, 379, 380, 381, 382, 383, 384, 385, 386, 387, 388, 389, 390, 391, 392, 393, 394, 395, 396, 397, 398, 399, 400, 401, 402, 403, 404, 405, 406, 407, 408, 409, 410, 411, 412, 413, 414, 415, 416, 417, 418, 419, 420, 421, 422, 423, 424, 425, 426, 427, 428, 429, 430, 431, 432, 433, 434, 435, 436, 437, 438, 439, 440, 441, 442, 443, 444, 445, 446, 447, 448, 449, 450, 451, 452, 453, 454, 455, 456, 457, 458, 459, 460, 461, 462, 463, 464, 465, 466, 467, 468, 469, 470, 471, 472, 473, 474, 475, 476, 477, 478, 479, 480, 481, 482, 483, 484, 485, 486, 487, 488, 489, 490, 491, 492, 493, 494, 495, 496, 497, 498, 499, 500, 501, 502, 503, 504, 505, 506, 507, 508, 509, 510, 511, 512, 513, 514, 515, 516, 517, 518, 519, 520, 521, 522, 523, 524, 525, 526, 527, 528, 529, 530, 531, 532, 533, 534, 535, 536, 537, 538, 539, 540, 541, 542, 543, 544, 545, 546, 547, 548, 549, 550, 551, 552, 553, 554, 555, 556, 557, 558, 559, 560, 561, 562, 563, 564, 565, 566, 567, 568, 569, 570, 571, 572, 573, 574, 575, 576, 577, 578, 579, 580, 581, 582, 583, 584, 585, 586, 587, 588, 589, 590, 591, 592, 593, 594, 595, 596, 597, 598, 599, 600, 601, 602, 603, 604, 605, 606, 607, 608, 609, 610, 611, 612, 613, 614, 615, 616, 617, 618, 619, 620, 621, 622, 623, 624, 625, 626, 627, 628, 629, 630, 631, 632, 633, 634, 635, 636, 637, 638, 639, 640, 641, 642, 643, 644, 645, 646, 647, 648, 649, 650, 651, 652, 653, 654, 655, 656, 657, 658, 659, 660, 661, 662, 663, 664, 665, 666, 667, 668, 669, 670, 671, 672, 673, 674, 675, 676, 677, 678, 679, 680, 681, 682, 683, 684, 685, 686, 687, 688, 689, 690, 691, 692, 693, 694, 695, 696, 697, 698, 699, 700, 701, 702, 703, 704, 705, 706, 707, 708, 709, 710, 711, 712, 713, 714, 715, 716, 717, 718, 719, 720, 721, 722, 723, 724, 725, 726, 727, 728, 729, 730, 731, 732, 733, 734, 735, 736, 737, 738, 739, 740, 741, 742, 743, 744, 745, 746, 747, 748, 749, 750, 751, 752, 753, 754, 755, 756, 757, 758, 759, 760, 761, 762, 763, 764, 765, 766, 767, 768, 769, 770, 771, 772, 773, 774, 775, 776, 777, 778, 779, 780, 781, 782, 783, 784, 785, 786, 787, 788, 789, 790, 791, 792, 793, 794, 795, 796, 797, 798, 799, 800, 801, 802, 803, 804, 805, 806, 807, 808, 809, 810, 811, 812, 813, 814, 815, 816, 817, 818, 819, 820, 821, 822, 823, 824, 825, 826, 827, 828, 829, 830, 831, 832, 833, 834, 835, 836, 837, 838, 839, 840, 841, 842, 843, 844, 845, 846, 847, 848, 849, 850, 851, 852, 853, 854, 855, 856, 857, 858, 859, 860, 861, 862, 863, 864, 865, 866, 867, 868, 869, 870, 871, 872, 873, 874, 875, 876, 877, 878, 879, 880, 881, 882, 883, 884, 885, 886, 887, 888, 889, 890, 891, 892, 893, 894, 895, 896, 897, 898, 899, 900, 901, 902, 903, 904, 905, 906, 907, 908, 909, 910, 911, 912, 913, 914, 915, 916, 917, 918, 919, 920, 921, 922, 923, 924, 925, 926, 927, 928, 929, 930, 931, 932, 933, 934, 935, 936, 937, 938, 939, 940, 941, 942, 943, 944, 945, 946, 947, 948, 949, 950, 951, 952, 953, 954, 955, 956, 957, 958, 959, 960, 961, 962, 963, 964, 965, 966, 967, 968, 969, 970, 971, 972, 973, 974, 975, 976, 977, 978, 979, 980, 981, 982, 983, 984, 985, 986, 987, 988, 989, 990, 991, 992, 993, 994, 995, 996, 997, 998, 999, 1000, 1001, 1002, 1003, 1004, 1005, 1006, 1007, 1008, 1009, 1010, 1011, 1012, 1013, 1014, 1015, 1016, 1017, 1018, 1019, 1020, 1021, 1022, 1023, 1024, 1025, 1026, 1027, 1028, 1029, 1030, 1031, 1032, 1033, 1034, 1035, 1036, 1037, 1038, 1039, 1040, 1041, 1042, 1043, 1044, 1045, 1046, 1047, 1048, 1049, 1050, 1051, 1052, 1053, 1054, 1055, 1056, 1057, 1058, 1059, 1060, 1061, 1062, 1063, 1064, 1065, 1066, 1067, 1068, 1069, 1070, 1071, 1072, 1073, 1074, 1075, 1076, 1077, 1078, 1079, 1080, 1081, 1082, 1083, 1084, 1085, 1086, 1087, 1088, 1089, 1090, 1091, 1092, 1093, 1094, 1095, 1096, 1097, 1098, 1099, 1100, 1101, 1102, 1103, 1104, 1105, 1106, 1107, 1108, 1109, 1110, 1111, 1112, 1113, 1114, 1115, 1116, 1117, 1118, 1119, 1120, 1121, 1122, 1123, 1124, 1125, 1126, 1127, 1128, 1129, 1130, 1131, 1132, 1133, 1134, 1135, 1136, 1137, 1138, 1139, 1140, 1141, 1142, 1143, 1144, 1145, 1146, 1147, 1148, 1149, 1150, 1151, 1152, 1153, 1154, 1155, 1156, 1157, 1158, 1159, 1160, 1161, 1162, 1163, 1164, 1165, 1166, 1167, 1168, 1169, 1170, 1171, 1172, 1173, 1174, 1175, 1176, 1177, 1178, 1179, 1180, 1181, 1182, 1183, 1184, 1185, 1186, 1187, 1188, 1189, 1190, 1191, 1192, 1193, 1194, 1195, 1196, 1197, 1198, 1199, 1200, 1201, 1202, 1203, 1204, 1205, 1206, 1207, 1208, 1209, 1210, 1211, 1212, 1213, 1214, 1215, 1216, 1217, 1218, 1219, 1220, 1221, 1222, 1223, 1224, 1225, 1226, 1227, 1228, 1229, 1230, 1231, 1232, 1233, 1234, 1235, 1236, 1237, 1238, 1239, 1240, 1241, 1242, 1243, 1244, 1245, 1246, 1247, 1248, 1249, 1250, 1251, 1252, 1253, 1254, 1255, 1256, 1257, 1258, 1259, 1260, 1261, 1262, 1263, 1264, 1265, 1266, 1267, 1268, 1269, 1270, 1271, 1272, 1273, 1274, 1275, 1276, 1277, 1278, 1279, 1280, 1281, 1282, 1283, 1284, 1285, 1286, 1287, 1288, 1289, 1290, 1291, 1292, 1293, 1294, 1295, 1296, 1297, 1298, 1299, 1300, 1301, 1302, 1303, 1304, 1305, 1306, 1307, 1308, 1309, 1310, 1311, 1312, 1313, 1314, 1315, 1316, 1317, 1318, 1319, 1320, 1321, 1322, 1323, 1324, 1325, 1326, 1327, 1328, 1329, 1330, 1331, 1332, 1333, 1334, 1335, 1336, 1337, 1338, 1339, 1340, 1341, 1342, 1343, 1344, 1345, 1346, 1347, 1348, 1349, 1350, 1351, 1352, 1353, 1354, 1355, 1356, 1357, 1358, 1359, 1360, 1361, 1362, 1363, 1364, 1365, 1366, 1367, 1368, 1369, 1370, 1371, 1372, 1373, 1374, 1375, 1376, 1377, 1378, 1379, 1380, 1381, 1382, 1383, 1384, 1385, 1386, 1387, 1388, 1389, 1390, 1391, 1392, 1393, 1394, 1395, 1396, 1397, 1398, 1399, 1400, 1401, 1402, 1403, 1404, 1405, 1406, 1407, 1408, 1409, 1410, 1411, 1412, 1413, 1414, 1415, 1416, 1417, 1418, 1419, 1420, 1421, 1422, 1423, 1424, 1425, 1426, 1427, 1428, 1429, 1430, 1431, 1432, 1433, 1434, 1435, 1436, 1437, 1438, 1439, 1440, 1441, 1442, 1443, 1444, 1445, 1446, 1447, 1448, 1449, 1450, 1451, 1452, 1453, 1454, 1455, 1456, 1457, 1458, 1459, 1460, 1461, 1462, 1463, 1464, 1465, 1466, 1467, 1468, 1469, 1470, 1471, 1472, 1473, 1474, 1475, 1476, 1477, 1478, 1479, 1480, 1481, 1482, 1483, 1484, 1485, 1486, 1487, 1488, 1489, 1490, 1491, 1492, 1493, 1494, 1495, 1496, 1497, 1498, 1499, 1500, 1501, 1502, 1503, 1504, 1505, 1506, 1507, 1508, 1509, 1510, 1511, 1512, 1513, 1514, 1515, 1516, 1517, 1518, 1519, 1520, 1521, 1522, 1523, 1524, 1525, 1526, 1527, 1528, 1529, 1530, 1531, 1532, 1533, 1534, 1535, 1536, 1537, 1538, 1539, 1540, 1541, 1542, 1543, 1544, 1545, 1546, 1547, 1548, 1549, 1550, 1551, 1552, 1553, 1554, 1555, 1556, 1557, 1558, 1559, 1560, 1561, 1562, 1563, 1564, 1565, 1566, 1567, 1568, 1569, 1570, 1571, 1572, 1573, 1574, 1575, 1576, 1577, 1578, 1579, 1580, 1581, 1582, 1583, 1584, 1585, 1586, 1587, 1588, 1589, 1590, 1591, 1592, 1593, 1594, 1595, 1596, 1597, 1598, 1599, 1600, 1601, 1602, 1603, 1604, 1605, 1606, 1607, 1608, 1609, 1610, 1611, 1612, 1613, 1614, 1615, 1616, 1617, 1618, 1619, 1620, 1621, 1622, 1623, 1624, 1625, 1626, 1627, 1628, 1629, 1630, 1631, 1632, 1633, 1634, 1635, 1636, 1637, 1638, 1639, 1640, 1641, 1642, 1643, 1644, 1645, 1646, 1647, 1648, 1649, 1650, 1651, 1652, 1653, 1654, 1655, 1656, 1657, 1658, 1659, 1660, 1661, 1662, 1663, 1664, 1665, 1666, 1667, 1668, 1669, 1670, 1671, 1672, 1673, 1674, 1675, 1676, 1677, 1678, 1679, 1680, 1681, 1682]],\n",
       "           labels=[[0, 0, 0, 0, 0, 0, 0, 0, 0, 0, 0, 0, 0, 0, 0, 0, 0, 0, 0, 0, 0, 0, 0, 0, 0, 0, 0, 0, 0, 0, 0, 0, 0, 0, 0, 0, 0, 0, 0, 0, 0, 0, 0, 0, 0, 0, 0, 0, 0, 0, 0, 0, 0, 0, 0, 0, 0, 0, 0, 0, 0, 0, 0, 0, 0, 0, 0, 0, 0, 0, 0, 0, 0, 0, 0, 0, 0, 0, 0, 0, 0, 0, 0, 0, 0, 0, 0, 0, 0, 0, 0, 0, 0, 0, 0, 0, 0, 0, 0, 0, 0, 0, 0, 0, 0, 0, 0, 0, 0, 0, 0, 0, 0, 0, 0, 0, 0, 0, 0, 0, 0, 0, 0, 0, 0, 0, 0, 0, 0, 0, 0, 0, 0, 0, 0, 0, 0, 0, 0, 0, 0, 0, 0, 0, 0, 0, 0, 0, 0, 0, 0, 0, 0, 0, 0, 0, 0, 0, 0, 0, 0, 0, 0, 0, 0, 0, 0, 0, 0, 0, 0, 0, 0, 0, 0, 0, 0, 0, 0, 0, 0, 0, 0, 0, 0, 0, 0, 0, 0, 0, 0, 0, 0, 0, 0, 0, 0, 0, 0, 0, 0, 0, 0, 0, 0, 0, 0, 0, 0, 0, 0, 0, 0, 0, 0, 0, 0, 0, 0, 0, 0, 0, 0, 0, 0, 0, 0, 0, 0, 0, 0, 0, 0, 0, 0, 0, 0, 0, 0, 0, 0, 0, 0, 0, 0, 0, 0, 0, 0, 0, 0, 0, 0, 0, 0, 0, 0, 0, 0, 0, 0, 0, 0, 0, 0, 0, 0, 0, 0, 0, 0, 0, 0, 0, 0, 0, 0, 0, 0, 0, 0, 0, 0, 0, 0, 0, 0, 0, 0, 0, 0, 0, 0, 0, 0, 0, 0, 0, 0, 0, 0, 0, 0, 0, 0, 0, 0, 0, 0, 0, 0, 0, 0, 0, 0, 0, 0, 0, 0, 0, 0, 0, 0, 0, 0, 0, 0, 0, 0, 0, 0, 0, 0, 0, 0, 0, 0, 0, 0, 0, 0, 0, 0, 0, 0, 0, 0, 0, 0, 0, 0, 0, 0, 0, 0, 0, 0, 0, 0, 0, 0, 0, 0, 0, 0, 0, 0, 0, 0, 0, 0, 0, 0, 0, 0, 0, 0, 0, 0, 0, 0, 0, 0, 0, 0, 0, 0, 0, 0, 0, 0, 0, 0, 0, 0, 0, 0, 0, 0, 0, 0, 0, 0, 0, 0, 0, 0, 0, 0, 0, 0, 0, 0, 0, 0, 0, 0, 0, 0, 0, 0, 0, 0, 0, 0, 0, 0, 0, 0, 0, 0, 0, 0, 0, 0, 0, 0, 0, 0, 0, 0, 0, 0, 0, 0, 0, 0, 0, 0, 0, 0, 0, 0, 0, 0, 0, 0, 0, 0, 0, 0, 0, 0, 0, 0, 0, 0, 0, 0, 0, 0, 0, 0, 0, 0, 0, 0, 0, 0, 0, 0, 0, 0, 0, 0, 0, 0, 0, 0, 0, 0, 0, 0, 0, 0, 0, 0, 0, 0, 0, 0, 0, 0, 0, 0, 0, 0, 0, 0, 0, 0, 0, 0, 0, 0, 0, 0, 0, 0, 0, 0, 0, 0, 0, 0, 0, 0, 0, 0, 0, 0, 0, 0, 0, 0, 0, 0, 0, 0, 0, 0, 0, 0, 0, 0, 0, 0, 0, 0, 0, 0, 0, 0, 0, 0, 0, 0, 0, 0, 0, 0, 0, 0, 0, 0, 0, 0, 0, 0, 0, 0, 0, 0, 0, 0, 0, 0, 0, 0, 0, 0, 0, 0, 0, 0, 0, 0, 0, 0, 0, 0, 0, 0, 0, 0, 0, 0, 0, 0, 0, 0, 0, 0, 0, 0, 0, 0, 0, 0, 0, 0, 0, 0, 0, 0, 0, 0, 0, 0, 0, 0, 0, 0, 0, 0, 0, 0, 0, 0, 0, 0, 0, 0, 0, 0, 0, 0, 0, 0, 0, 0, 0, 0, 0, 0, 0, 0, 0, 0, 0, 0, 0, 0, 0, 0, 0, 0, 0, 0, 0, 0, 0, 0, 0, 0, 0, 0, 0, 0, 0, 0, 0, 0, 0, 0, 0, 0, 0, 0, 0, 0, 0, 0, 0, 0, 0, 0, 0, 0, 0, 0, 0, 0, 0, 0, 0, 0, 0, 0, 0, 0, 0, 0, 0, 0, 0, 0, 0, 0, 0, 0, 0, 0, 0, 0, 0, 0, 0, 0, 0, 0, 0, 0, 0, 0, 0, 0, 0, 0, 0, 0, 0, 0, 0, 0, 0, 0, 0, 0, 0, 0, 0, 0, 0, 0, 0, 0, 0, 0, 0, 0, 0, 0, 0, 0, 0, 0, 0, 0, 0, 0, 0, 0, 0, 0, 0, 0, 0, 0, 0, 0, 0, 0, 0, 0, 0, 0, 0, 0, 0, 0, 0, 0, 0, 0, 0, 0, 0, 0, 0, 0, 0, 0, 0, 0, 0, 0, 0, 0, 0, 0, 0, 0, 0, 0, 0, 0, 0, 0, 0, 0, 0, 0, 0, 0, 0, 0, 0, 0, 0, 0, 0, 0, 0, 0, 0, 0, 0, 0, 0, 0, 0, 0, 0, 0, 0, 0, 0, 0, 0, 0, 0, 0, 0, 0, 0, 0, 0, 0, 0, 0, 0, 0, 0, 0, 0, 0, 0, 0, 0, 0, 0, 0, 0, 0, 0, 0, 0, 0, 0, 0, 0, 0, 0, 0, 0, 0, 0, 0, 0, 0, 0, 0, 0, 0, 0, 0, 0, 0, 0, 0, 0, 0, 0, 0, 0, 0, 0, 0, 0, 0, 0, 0, 0, 0, 0, 0, 0, 0, 0, 0, 0, 0, 0, 0, 0, 0, 0, 0, 0, 0, 0, 0, 0, 0, 0, 0, 0, 0, 0, 0, 0, 0, 0, 0, 0, 0, 0, 0, 0, 0, 0, 0, 0, 0, 0, 0, 0, 0, 0, 0, 0, 0, 0, 0, 0, 0, 0, 0, 0, 0, 0, 0, 0, 0, 0, 0, 0, 0, 0, 0, 0, 0, 0, 0, 0, 0, 0, 0, 0, 0, 0, 0, 0, 0, 0, 0, 0, 0, 0, 0, 0, 0, 0, 0, 0, 0, 0, 0, 0, 0, 0, 0, 0, 0, 0, 0, 0, 0, 0, 0, 0, 0, 0, 0, 0, 0, 0, 0, 0, 0, 0, 0, 0, 0, 0, 0, 0, 0, 0, 0, 0, 0, 0, 0, 0, 0, 0, 0, 0, 0, 0, 0, 0, 0, 0, 0, 0, 0, 0, 0, 0, 0, 0, 0, 0, 0, 0, 0, 0, 0, 0, 0, 0, 0, 0, 0, 0, 0, 0, 0, 0, 0, 0, 0, 0, 0, 0, 0, 0, 0, 0, 0, 0, 0, 0, 0, 0, 0, 0, 0, 0, 0, 0, 0, 0, 0, 0, 0, 0, 0, 0, 0, 0, 0, 0, 0, 0, 0, 0, 0, 0, 0, 0, 0, 0, 0, 0, 0, 0, 0, 0, 0, 0, 0, 0, 0, 0, 0, 0, 0, 0, 0, 0, 0, 0, 0, 0, 0, 0, 0, 0, 0, 0, 0, 0, 0, 0, 0, 0, 0, 0, 0, 0, 0, 0, 0, 0, 0, 0, 0, 0, 0, 0, 0, 0, 0, 0, 0, 0, 0, 0, 0, 0, 0, 0, 0, 0, 0, 0, 0, 0, 0, 0, 0, 0, 0, 0, 0, 0, 0, 0, 0, 0, 0, 0, 0, 0, 0, 0, 0, 0, 0, 0, 0, 0, 0, 0, 0, 0, 0, 0, 0, 0, 0, 0, 0, 0, 0, 0, 0, 0, 0, 0, 0, 0, 0, 0, 0, 0, 0, 0, 0, 0, 0, 0, 0, 0, 0, 0, 0, 0, 0, 0, 0, 0, 0, 0, 0, 0, 0, 0, 0, 0, 0, 0, 0, 0, 0, 0, 0, 0, 0, 0, 0, 0, 0, 0, 0, 0, 0, 0, 0, 0, 0, 0, 0, 0, 0, 0, 0, 0, 0, 0, 0, 0, 0, 0, 0, 0, 0, 0, 0, 0, 0, 0, 0, 0, 0, 0, 0, 0, 0, 0, 0, 0, 0, 0, 0, 0, 0, 0, 0, 0, 0, 0, 0, 0, 0, 0, 0, 0, 0, 0, 0, 0, 0, 0, 0, 0, 0, 0, 0, 0, 0, 0, 0, 0, 0, 0, 0, 0, 0, 0, 0, 0, 0, 0, 0, 0, 0, 0, 0, 0, 0, 0, 0, 0, 0, 0, 0, 0, 0, 0, 0, 0, 0, 0, 0, 0, 0, 0, 0, 0, 0, 0, 0, 0, 0, 0, 0, 0, 0, 0, 0, 0, 0, 0, 0, 0, 0, 0, 0, 0, 0, 0, 0, 0, 0, 0, 0, 0, 0, 0, 0, 0, 0, 0, 0, 0, 0, 0, 0, 0, 0, 0, 0, 0, 0, 0, 0, 0, 0, 0, 0, 0, 0, 0, 0, 0, 0, 0, 0, 0, 0, 0, 0, 0, 0, 0, 0, 0, 0, 0, 0, 0, 0, 0, 0, 0, 0, 0, 0, 0, 0, 0, 0, 0, 0, 0, 0, 0, 0, 0, 0, 0, 0, 0, 0, 0, 0, 0, 0, 0, 0, 0, 0, 0, 0, 0, 0, 0, 0, 0, 0, 0, 0, 0, 0, 0, 0, 0, 0, 0, 0, 0, 0, 0, 0, 0, 0, 0, 0, 0, 0, 0, 0, 0, 0, 0, 0, 0, 0, 0, 0, 0, 0, 0, 0, 0, 0, 0, 0, 0, 0, 0, 0, 0, 0, 0, 0, 0, 0, 0, 0, 0, 0, 0, 0, 0, 0, 0, 0, 0, 0, 0, 0, 0, 0, 0, 0, 0, 0, 0, 0, 0, 0, 0, 0, 0, 0, 0, 0, 0, 0, 0, 0, 0, 0, 0, 0, 0, 0, 0, 0, 0, 0, 0, 0, 0, 0, 0, 0, 0, 0, 0, 0, 0, 0, 0, 0, 0, 0, 0, 0, 0, 0, 0, 0, 0, 0, 0, 0, 0, 0, 0, 0, 0, 0, 0, 0, 0, 0, 0, 0, 0, 0, 0, 0, 0, 0, 0, 0, 0, 0, 0, 0, 0, 0, 0, 0, 0, 0, 0, 0, 0, 0, 0, 0, 0, 0, 0, 0, 0, 0, 0, 0, 0, 0, 0, 0, 0, 0, 0, 0, 0, 0, 0, 0, 0, 0, 0, 0, 0, 0, 0, 0, 0, 0, 0, 0, 0, 0, 0, 0, 0, 0, 0, 0, 0, 0, 0], [0, 1, 2, 3, 4, 5, 6, 7, 8, 9, 10, 11, 12, 13, 14, 15, 16, 17, 18, 19, 20, 21, 22, 23, 24, 25, 26, 27, 28, 29, 30, 31, 32, 33, 34, 35, 36, 37, 38, 39, 40, 41, 42, 43, 44, 45, 46, 47, 48, 49, 50, 51, 52, 53, 54, 55, 56, 57, 58, 59, 60, 61, 62, 63, 64, 65, 66, 67, 68, 69, 70, 71, 72, 73, 74, 75, 76, 77, 78, 79, 80, 81, 82, 83, 84, 85, 86, 87, 88, 89, 90, 91, 92, 93, 94, 95, 96, 97, 98, 99, 100, 101, 102, 103, 104, 105, 106, 107, 108, 109, 110, 111, 112, 113, 114, 115, 116, 117, 118, 119, 120, 121, 122, 123, 124, 125, 126, 127, 128, 129, 130, 131, 132, 133, 134, 135, 136, 137, 138, 139, 140, 141, 142, 143, 144, 145, 146, 147, 148, 149, 150, 151, 152, 153, 154, 155, 156, 157, 158, 159, 160, 161, 162, 163, 164, 165, 166, 167, 168, 169, 170, 171, 172, 173, 174, 175, 176, 177, 178, 179, 180, 181, 182, 183, 184, 185, 186, 187, 188, 189, 190, 191, 192, 193, 194, 195, 196, 197, 198, 199, 200, 201, 202, 203, 204, 205, 206, 207, 208, 209, 210, 211, 212, 213, 214, 215, 216, 217, 218, 219, 220, 221, 222, 223, 224, 225, 226, 227, 228, 229, 230, 231, 232, 233, 234, 235, 236, 237, 238, 239, 240, 241, 242, 243, 244, 245, 246, 247, 248, 249, 250, 251, 252, 253, 254, 255, 256, 257, 258, 259, 260, 261, 262, 263, 264, 265, 266, 267, 268, 269, 270, 271, 272, 273, 274, 275, 276, 277, 278, 279, 280, 281, 282, 283, 284, 285, 286, 287, 288, 289, 290, 291, 292, 293, 294, 295, 296, 297, 298, 299, 300, 301, 302, 303, 304, 305, 306, 307, 308, 309, 310, 311, 312, 313, 314, 315, 316, 317, 318, 319, 320, 321, 322, 323, 324, 325, 326, 327, 328, 329, 330, 331, 332, 333, 334, 335, 336, 337, 338, 339, 340, 341, 342, 343, 344, 345, 346, 347, 348, 349, 350, 351, 352, 353, 354, 355, 356, 357, 358, 359, 360, 361, 362, 363, 364, 365, 366, 367, 368, 369, 370, 371, 372, 373, 374, 375, 376, 377, 378, 379, 380, 381, 382, 383, 384, 385, 386, 387, 388, 389, 390, 391, 392, 393, 394, 395, 396, 397, 398, 399, 400, 401, 402, 403, 404, 405, 406, 407, 408, 409, 410, 411, 412, 413, 414, 415, 416, 417, 418, 419, 420, 421, 422, 423, 424, 425, 426, 427, 428, 429, 430, 431, 432, 433, 434, 435, 436, 437, 438, 439, 440, 441, 442, 443, 444, 445, 446, 447, 448, 449, 450, 451, 452, 453, 454, 455, 456, 457, 458, 459, 460, 461, 462, 463, 464, 465, 466, 467, 468, 469, 470, 471, 472, 473, 474, 475, 476, 477, 478, 479, 480, 481, 482, 483, 484, 485, 486, 487, 488, 489, 490, 491, 492, 493, 494, 495, 496, 497, 498, 499, 500, 501, 502, 503, 504, 505, 506, 507, 508, 509, 510, 511, 512, 513, 514, 515, 516, 517, 518, 519, 520, 521, 522, 523, 524, 525, 526, 527, 528, 529, 530, 531, 532, 533, 534, 535, 536, 537, 538, 539, 540, 541, 542, 543, 544, 545, 546, 547, 548, 549, 550, 551, 552, 553, 554, 555, 556, 557, 558, 559, 560, 561, 562, 563, 564, 565, 566, 567, 568, 569, 570, 571, 572, 573, 574, 575, 576, 577, 578, 579, 580, 581, 582, 583, 584, 585, 586, 587, 588, 589, 590, 591, 592, 593, 594, 595, 596, 597, 598, 599, 600, 601, 602, 603, 604, 605, 606, 607, 608, 609, 610, 611, 612, 613, 614, 615, 616, 617, 618, 619, 620, 621, 622, 623, 624, 625, 626, 627, 628, 629, 630, 631, 632, 633, 634, 635, 636, 637, 638, 639, 640, 641, 642, 643, 644, 645, 646, 647, 648, 649, 650, 651, 652, 653, 654, 655, 656, 657, 658, 659, 660, 661, 662, 663, 664, 665, 666, 667, 668, 669, 670, 671, 672, 673, 674, 675, 676, 677, 678, 679, 680, 681, 682, 683, 684, 685, 686, 687, 688, 689, 690, 691, 692, 693, 694, 695, 696, 697, 698, 699, 700, 701, 702, 703, 704, 705, 706, 707, 708, 709, 710, 711, 712, 713, 714, 715, 716, 717, 718, 719, 720, 721, 722, 723, 724, 725, 726, 727, 728, 729, 730, 731, 732, 733, 734, 735, 736, 737, 738, 739, 740, 741, 742, 743, 744, 745, 746, 747, 748, 749, 750, 751, 752, 753, 754, 755, 756, 757, 758, 759, 760, 761, 762, 763, 764, 765, 766, 767, 768, 769, 770, 771, 772, 773, 774, 775, 776, 777, 778, 779, 780, 781, 782, 783, 784, 785, 786, 787, 788, 789, 790, 791, 792, 793, 794, 795, 796, 797, 798, 799, 800, 801, 802, 803, 804, 805, 806, 807, 808, 809, 810, 811, 812, 813, 814, 815, 816, 817, 818, 819, 820, 821, 822, 823, 824, 825, 826, 827, 828, 829, 830, 831, 832, 833, 834, 835, 836, 837, 838, 839, 840, 841, 842, 843, 844, 845, 846, 847, 848, 849, 850, 851, 852, 853, 854, 855, 856, 857, 858, 859, 860, 861, 862, 863, 864, 865, 866, 867, 868, 869, 870, 871, 872, 873, 874, 875, 876, 877, 878, 879, 880, 881, 882, 883, 884, 885, 886, 887, 888, 889, 890, 891, 892, 893, 894, 895, 896, 897, 898, 899, 900, 901, 902, 903, 904, 905, 906, 907, 908, 909, 910, 911, 912, 913, 914, 915, 916, 917, 918, 919, 920, 921, 922, 923, 924, 925, 926, 927, 928, 929, 930, 931, 932, 933, 934, 935, 936, 937, 938, 939, 940, 941, 942, 943, 944, 945, 946, 947, 948, 949, 950, 951, 952, 953, 954, 955, 956, 957, 958, 959, 960, 961, 962, 963, 964, 965, 966, 967, 968, 969, 970, 971, 972, 973, 974, 975, 976, 977, 978, 979, 980, 981, 982, 983, 984, 985, 986, 987, 988, 989, 990, 991, 992, 993, 994, 995, 996, 997, 998, 999, 1000, 1001, 1002, 1003, 1004, 1005, 1006, 1007, 1008, 1009, 1010, 1011, 1012, 1013, 1014, 1015, 1016, 1017, 1018, 1019, 1020, 1021, 1022, 1023, 1024, 1025, 1026, 1027, 1028, 1029, 1030, 1031, 1032, 1033, 1034, 1035, 1036, 1037, 1038, 1039, 1040, 1041, 1042, 1043, 1044, 1045, 1046, 1047, 1048, 1049, 1050, 1051, 1052, 1053, 1054, 1055, 1056, 1057, 1058, 1059, 1060, 1061, 1062, 1063, 1064, 1065, 1066, 1067, 1068, 1069, 1070, 1071, 1072, 1073, 1074, 1075, 1076, 1077, 1078, 1079, 1080, 1081, 1082, 1083, 1084, 1085, 1086, 1087, 1088, 1089, 1090, 1091, 1092, 1093, 1094, 1095, 1096, 1097, 1098, 1099, 1100, 1101, 1102, 1103, 1104, 1105, 1106, 1107, 1108, 1109, 1110, 1111, 1112, 1113, 1114, 1115, 1116, 1117, 1118, 1119, 1120, 1121, 1122, 1123, 1124, 1125, 1126, 1127, 1128, 1129, 1130, 1131, 1132, 1133, 1134, 1135, 1136, 1137, 1138, 1139, 1140, 1141, 1142, 1143, 1144, 1145, 1146, 1147, 1148, 1149, 1150, 1151, 1152, 1153, 1154, 1155, 1156, 1157, 1158, 1159, 1160, 1161, 1162, 1163, 1164, 1165, 1166, 1167, 1168, 1169, 1170, 1171, 1172, 1173, 1174, 1175, 1176, 1177, 1178, 1179, 1180, 1181, 1182, 1183, 1184, 1185, 1186, 1187, 1188, 1189, 1190, 1191, 1192, 1193, 1194, 1195, 1196, 1197, 1198, 1199, 1200, 1201, 1202, 1203, 1204, 1205, 1206, 1207, 1208, 1209, 1210, 1211, 1212, 1213, 1214, 1215, 1216, 1217, 1218, 1219, 1220, 1221, 1222, 1223, 1224, 1225, 1226, 1227, 1228, 1229, 1230, 1231, 1232, 1233, 1234, 1235, 1236, 1237, 1238, 1239, 1240, 1241, 1242, 1243, 1244, 1245, 1246, 1247, 1248, 1249, 1250, 1251, 1252, 1253, 1254, 1255, 1256, 1257, 1258, 1259, 1260, 1261, 1262, 1263, 1264, 1265, 1266, 1267, 1268, 1269, 1270, 1271, 1272, 1273, 1274, 1275, 1276, 1277, 1278, 1279, 1280, 1281, 1282, 1283, 1284, 1285, 1286, 1287, 1288, 1289, 1290, 1291, 1292, 1293, 1294, 1295, 1296, 1297, 1298, 1299, 1300, 1301, 1302, 1303, 1304, 1305, 1306, 1307, 1308, 1309, 1310, 1311, 1312, 1313, 1314, 1315, 1316, 1317, 1318, 1319, 1320, 1321, 1322, 1323, 1324, 1325, 1326, 1327, 1328, 1329, 1330, 1331, 1332, 1333, 1334, 1335, 1336, 1337, 1338, 1339, 1340, 1341, 1342, 1343, 1344, 1345, 1346, 1347, 1348, 1349, 1350, 1351, 1352, 1353, 1354, 1355, 1356, 1357, 1358, 1359, 1360, 1361, 1362, 1363, 1364, 1365, 1366, 1367, 1368, 1369, 1370, 1371, 1372, 1373, 1374, 1375, 1376, 1377, 1378, 1379, 1380, 1381, 1382, 1383, 1384, 1385, 1386, 1387, 1388, 1389, 1390, 1391, 1392, 1393, 1394, 1395, 1396, 1397, 1398, 1399, 1400, 1401, 1402, 1403, 1404, 1405, 1406, 1407, 1408, 1409, 1410, 1411, 1412, 1413, 1414, 1415, 1416, 1417, 1418, 1419, 1420, 1421, 1422, 1423, 1424, 1425, 1426, 1427, 1428, 1429, 1430, 1431, 1432, 1433, 1434, 1435, 1436, 1437, 1438, 1439, 1440, 1441, 1442, 1443, 1444, 1445, 1446, 1447, 1448, 1449, 1450, 1451, 1452, 1453, 1454, 1455, 1456, 1457, 1458, 1459, 1460, 1461, 1462, 1463, 1464, 1465, 1466, 1467, 1468, 1469, 1470, 1471, 1472, 1473, 1474, 1475, 1476, 1477, 1478, 1479, 1480, 1481, 1482, 1483, 1484, 1485, 1486, 1487, 1488, 1489, 1490, 1491, 1492, 1493, 1494, 1495, 1496, 1497, 1498, 1499, 1500, 1501, 1502, 1503, 1504, 1505, 1506, 1507, 1508, 1509, 1510, 1511, 1512, 1513, 1514, 1515, 1516, 1517, 1518, 1519, 1520, 1521, 1522, 1523, 1524, 1525, 1526, 1527, 1528, 1529, 1530, 1531, 1532, 1533, 1534, 1535, 1536, 1537, 1538, 1539, 1540, 1541, 1542, 1543, 1544, 1545, 1546, 1547, 1548, 1549, 1550, 1551, 1552, 1553, 1554, 1555, 1556, 1557, 1558, 1559, 1560, 1561, 1562, 1563, 1564, 1565, 1566, 1567, 1568, 1569, 1570, 1571, 1572, 1573, 1574, 1575, 1576, 1577, 1578, 1579, 1580, 1581, 1582, 1583, 1584, 1585, 1586, 1587, 1588, 1589, 1590, 1591, 1592, 1593, 1594, 1595, 1596, 1597, 1598, 1599, 1600, 1601, 1602, 1603, 1604, 1605, 1606, 1607, 1608, 1609, 1610, 1611, 1612, 1613, 1614, 1615, 1616, 1617, 1618, 1619, 1620, 1621, 1622, 1623, 1624, 1625, 1626, 1627, 1628, 1629, 1630, 1631, 1632, 1633, 1634, 1635, 1636, 1637, 1638, 1639, 1640, 1641, 1642, 1643, 1644, 1645, 1646, 1647, 1648, 1649, 1650, 1651, 1652, 1653, 1654, 1655, 1656, 1657, 1658, 1659, 1660, 1661, 1662, 1663, 1664, 1665, 1666, 1667, 1668, 1669, 1670, 1671, 1672, 1673, 1674, 1675, 1676, 1677, 1678, 1679, 1680, 1681]],\n",
       "           names=[None, u'movie'])"
      ]
     },
     "execution_count": 43,
     "metadata": {},
     "output_type": "execute_result"
    }
   ],
   "source": [
    "lf_df.columns"
   ]
  },
  {
   "cell_type": "code",
   "execution_count": 44,
   "metadata": {
    "collapsed": false,
    "scrolled": true
   },
   "outputs": [
    {
     "name": "stdout",
     "output_type": "stream",
     "text": [
      "TOP MOVIES FOR FACTOR 1:\n",
      "    Trainspotting (1996)\n",
      "    Boogie Nights (1997)\n",
      "    Chasing Amy (1997)\n",
      "    English Patient, The (1996)\n",
      "    Kolya (1996)\n",
      "\n",
      "TOP MOVIES FOR FACTOR 2:\n",
      "    Sense and Sensibility (1995)\n",
      "    English Patient, The (1996)\n",
      "    Evita (1996)\n",
      "    Mr. Holland's Opus (1995)\n",
      "    Anna Karenina (1997)\n",
      "\n",
      "TOP MOVIES FOR FACTOR 3:\n",
      "    The Innocent (1994)\n",
      "    Man from Down Under, The (1943)\n",
      "    Quartier Mozart (1992)\n",
      "    Lashou shentan (1992)\n",
      "    Symphonie pastorale, La (1946)\n",
      "\n",
      "TOP MOVIES FOR FACTOR 4:\n",
      "    Careful (1992)\n",
      "    I, Worst of All (Yo, la peor de todas) (1990)\n",
      "    Hostile Intentions (1994)\n",
      "    Tigrero: A Film That Was Never Made (1994)\n",
      "    Eye of Vichy, The (Oeil de Vichy, L') (1993)\n",
      "\n",
      "TOP MOVIES FOR FACTOR 5:\n",
      "    Twelve Monkeys (1995)\n",
      "    Seven (Se7en) (1995)\n",
      "    Trainspotting (1996)\n",
      "    Scream (1996)\n",
      "    Fargo (1996)\n",
      "\n",
      "TOP MOVIES FOR FACTOR 6:\n",
      "    Brazil (1985)\n",
      "    Woman in Question, The (1950)\n",
      "    Yankee Zulu (1994)\n",
      "    Hostile Intentions (1994)\n",
      "    The Courtyard (1995)\n",
      "\n",
      "TOP MOVIES FOR FACTOR 7:\n",
      "    Mystery Science Theater 3000: The Movie (1996)\n",
      "    Monty Python's Life of Brian (1979)\n",
      "    Monty Python and the Holy Grail (1974)\n",
      "    Return of the Jedi (1983)\n",
      "    Blade Runner (1982)\n",
      "\n",
      "TOP MOVIES FOR FACTOR 8:\n",
      "    Terminator 2: Judgment Day (1991)\n",
      "    Empire Strikes Back, The (1980)\n",
      "    Terminator, The (1984)\n",
      "    True Lies (1994)\n",
      "    Return of the Jedi (1983)\n",
      "\n"
     ]
    },
    {
     "name": "stderr",
     "output_type": "stream",
     "text": [
      "G:\\Anaconda2\\envs\\gl-env\\lib\\site-packages\\ipykernel\\__main__.py:22: FutureWarning: sort(columns=....) is deprecated, use sort_values(by=.....)\n"
     ]
    }
   ],
   "source": [
    "from scipy.spatial.distance import cdist\n",
    "\n",
    "lf_df = df.set_index(['user', 'movie'])[['rating']].unstack().fillna(0)\n",
    "user_df = user_sf[['user', 'factors']].sort('user').unpack('factors').to_dataframe()\n",
    "corr = cdist(lf_df.values.T, user_df.values.T, 'correlation')\n",
    "corr_df = pd.DataFrame(corr)\n",
    "corr_df.index = lf_df.columns.get_loc_level('rating')[1]\n",
    "\n",
    "movies = pd.read_table('data/u.item', sep='|', index_col=0, header=None,\n",
    "                       names=['movie id', 'movie title', 'release date',\n",
    "                              'video release date', 'imdb url', 'unknown',\n",
    "                              'action', 'adventure', 'animation',\n",
    "                              'children\\'s', 'comedy', 'crime',\n",
    "                              'documentary', 'drama', 'fantasy',\n",
    "                              'film-noir', 'horror', 'musical', 'mystery',\n",
    "                              'romance', 'sci-fi', 'thriller', 'war',\n",
    "                              'western'])\n",
    "movies_with_corr = pd.concat([movies, corr_df], axis=1)\n",
    "\n",
    "for i in xrange(1, 9):\n",
    "    print \"TOP MOVIES FOR FACTOR {0}:\".format(i)\n",
    "    top_five_movies = movies_with_corr.sort([i], ascending=False)['movie title'][:5]\n",
    "    print '    ' + '\\n    '.join(top_five_movies)\n",
    "    print"
   ]
  },
  {
   "cell_type": "code",
   "execution_count": 50,
   "metadata": {
    "collapsed": false
   },
   "outputs": [
    {
     "data": {
      "text/html": [
       "<div>\n",
       "<table border=\"1\" class=\"dataframe\">\n",
       "  <thead>\n",
       "    <tr style=\"text-align: right;\">\n",
       "      <th></th>\n",
       "      <th>0</th>\n",
       "      <th>1</th>\n",
       "      <th>2</th>\n",
       "      <th>3</th>\n",
       "      <th>4</th>\n",
       "      <th>5</th>\n",
       "      <th>6</th>\n",
       "      <th>7</th>\n",
       "      <th>8</th>\n",
       "    </tr>\n",
       "    <tr>\n",
       "      <th>movie</th>\n",
       "      <th></th>\n",
       "      <th></th>\n",
       "      <th></th>\n",
       "      <th></th>\n",
       "      <th></th>\n",
       "      <th></th>\n",
       "      <th></th>\n",
       "      <th></th>\n",
       "      <th></th>\n",
       "    </tr>\n",
       "  </thead>\n",
       "  <tbody>\n",
       "    <tr>\n",
       "      <th>1</th>\n",
       "      <td>0.984534</td>\n",
       "      <td>0.903329</td>\n",
       "      <td>1.117066</td>\n",
       "      <td>0.918638</td>\n",
       "      <td>1.071789</td>\n",
       "      <td>1.061918</td>\n",
       "      <td>0.971362</td>\n",
       "      <td>1.028649</td>\n",
       "      <td>1.115279</td>\n",
       "    </tr>\n",
       "    <tr>\n",
       "      <th>2</th>\n",
       "      <td>0.957805</td>\n",
       "      <td>0.932939</td>\n",
       "      <td>0.995835</td>\n",
       "      <td>0.937575</td>\n",
       "      <td>1.028568</td>\n",
       "      <td>1.036035</td>\n",
       "      <td>0.991368</td>\n",
       "      <td>1.044315</td>\n",
       "      <td>1.087666</td>\n",
       "    </tr>\n",
       "    <tr>\n",
       "      <th>3</th>\n",
       "      <td>1.013820</td>\n",
       "      <td>1.073627</td>\n",
       "      <td>0.984958</td>\n",
       "      <td>0.947655</td>\n",
       "      <td>1.024219</td>\n",
       "      <td>1.116703</td>\n",
       "      <td>1.002719</td>\n",
       "      <td>1.069009</td>\n",
       "      <td>1.048956</td>\n",
       "    </tr>\n",
       "    <tr>\n",
       "      <th>4</th>\n",
       "      <td>1.023088</td>\n",
       "      <td>1.000132</td>\n",
       "      <td>0.996084</td>\n",
       "      <td>0.948219</td>\n",
       "      <td>0.970763</td>\n",
       "      <td>1.127082</td>\n",
       "      <td>1.053105</td>\n",
       "      <td>1.014609</td>\n",
       "      <td>1.089215</td>\n",
       "    </tr>\n",
       "    <tr>\n",
       "      <th>5</th>\n",
       "      <td>1.028357</td>\n",
       "      <td>0.966646</td>\n",
       "      <td>0.948531</td>\n",
       "      <td>0.976337</td>\n",
       "      <td>1.070833</td>\n",
       "      <td>1.062106</td>\n",
       "      <td>1.020686</td>\n",
       "      <td>0.960413</td>\n",
       "      <td>1.045418</td>\n",
       "    </tr>\n",
       "    <tr>\n",
       "      <th>6</th>\n",
       "      <td>1.022585</td>\n",
       "      <td>1.042769</td>\n",
       "      <td>0.979856</td>\n",
       "      <td>0.981120</td>\n",
       "      <td>0.903542</td>\n",
       "      <td>0.961277</td>\n",
       "      <td>1.077269</td>\n",
       "      <td>1.033274</td>\n",
       "      <td>0.970165</td>\n",
       "    </tr>\n",
       "    <tr>\n",
       "      <th>7</th>\n",
       "      <td>1.081155</td>\n",
       "      <td>1.087594</td>\n",
       "      <td>1.005814</td>\n",
       "      <td>0.893142</td>\n",
       "      <td>1.012686</td>\n",
       "      <td>1.181903</td>\n",
       "      <td>1.077578</td>\n",
       "      <td>1.101697</td>\n",
       "      <td>1.139220</td>\n",
       "    </tr>\n",
       "    <tr>\n",
       "      <th>8</th>\n",
       "      <td>1.042985</td>\n",
       "      <td>0.955531</td>\n",
       "      <td>1.063520</td>\n",
       "      <td>0.992091</td>\n",
       "      <td>0.971959</td>\n",
       "      <td>1.016892</td>\n",
       "      <td>1.064356</td>\n",
       "      <td>0.985099</td>\n",
       "      <td>1.045352</td>\n",
       "    </tr>\n",
       "    <tr>\n",
       "      <th>9</th>\n",
       "      <td>1.049508</td>\n",
       "      <td>1.091803</td>\n",
       "      <td>1.068178</td>\n",
       "      <td>0.978173</td>\n",
       "      <td>0.855845</td>\n",
       "      <td>1.077530</td>\n",
       "      <td>1.015133</td>\n",
       "      <td>0.961991</td>\n",
       "      <td>0.972399</td>\n",
       "    </tr>\n",
       "    <tr>\n",
       "      <th>10</th>\n",
       "      <td>1.026896</td>\n",
       "      <td>1.096171</td>\n",
       "      <td>1.027011</td>\n",
       "      <td>0.964624</td>\n",
       "      <td>0.923890</td>\n",
       "      <td>1.041566</td>\n",
       "      <td>1.075551</td>\n",
       "      <td>1.067005</td>\n",
       "      <td>0.969838</td>\n",
       "    </tr>\n",
       "    <tr>\n",
       "      <th>11</th>\n",
       "      <td>1.068075</td>\n",
       "      <td>1.011670</td>\n",
       "      <td>0.950067</td>\n",
       "      <td>0.935032</td>\n",
       "      <td>0.996005</td>\n",
       "      <td>1.175626</td>\n",
       "      <td>1.017138</td>\n",
       "      <td>1.034264</td>\n",
       "      <td>1.083077</td>\n",
       "    </tr>\n",
       "    <tr>\n",
       "      <th>12</th>\n",
       "      <td>1.054275</td>\n",
       "      <td>1.023414</td>\n",
       "      <td>0.938397</td>\n",
       "      <td>0.932361</td>\n",
       "      <td>0.881758</td>\n",
       "      <td>1.139492</td>\n",
       "      <td>1.090393</td>\n",
       "      <td>1.042375</td>\n",
       "      <td>1.056190</td>\n",
       "    </tr>\n",
       "    <tr>\n",
       "      <th>13</th>\n",
       "      <td>1.072503</td>\n",
       "      <td>1.091852</td>\n",
       "      <td>1.044309</td>\n",
       "      <td>0.912022</td>\n",
       "      <td>0.876918</td>\n",
       "      <td>1.050246</td>\n",
       "      <td>1.120963</td>\n",
       "      <td>1.037636</td>\n",
       "      <td>0.967817</td>\n",
       "    </tr>\n",
       "    <tr>\n",
       "      <th>14</th>\n",
       "      <td>1.038228</td>\n",
       "      <td>1.105606</td>\n",
       "      <td>1.104819</td>\n",
       "      <td>0.989741</td>\n",
       "      <td>0.823359</td>\n",
       "      <td>1.022467</td>\n",
       "      <td>1.098423</td>\n",
       "      <td>1.009950</td>\n",
       "      <td>0.878615</td>\n",
       "    </tr>\n",
       "    <tr>\n",
       "      <th>15</th>\n",
       "      <td>1.030516</td>\n",
       "      <td>0.853970</td>\n",
       "      <td>1.126315</td>\n",
       "      <td>1.005015</td>\n",
       "      <td>1.079792</td>\n",
       "      <td>1.000009</td>\n",
       "      <td>0.908159</td>\n",
       "      <td>0.957559</td>\n",
       "      <td>0.971278</td>\n",
       "    </tr>\n",
       "    <tr>\n",
       "      <th>16</th>\n",
       "      <td>0.975299</td>\n",
       "      <td>1.015226</td>\n",
       "      <td>1.030548</td>\n",
       "      <td>0.994014</td>\n",
       "      <td>0.957656</td>\n",
       "      <td>0.964670</td>\n",
       "      <td>1.065124</td>\n",
       "      <td>1.002815</td>\n",
       "      <td>0.974200</td>\n",
       "    </tr>\n",
       "    <tr>\n",
       "      <th>17</th>\n",
       "      <td>1.031367</td>\n",
       "      <td>1.046859</td>\n",
       "      <td>0.926676</td>\n",
       "      <td>0.904086</td>\n",
       "      <td>0.971673</td>\n",
       "      <td>1.107252</td>\n",
       "      <td>0.980997</td>\n",
       "      <td>1.070848</td>\n",
       "      <td>1.094427</td>\n",
       "    </tr>\n",
       "    <tr>\n",
       "      <th>18</th>\n",
       "      <td>1.086679</td>\n",
       "      <td>1.031399</td>\n",
       "      <td>0.975037</td>\n",
       "      <td>1.002673</td>\n",
       "      <td>0.934377</td>\n",
       "      <td>0.969493</td>\n",
       "      <td>1.030213</td>\n",
       "      <td>1.006799</td>\n",
       "      <td>1.011438</td>\n",
       "    </tr>\n",
       "    <tr>\n",
       "      <th>19</th>\n",
       "      <td>0.985615</td>\n",
       "      <td>1.061131</td>\n",
       "      <td>1.057679</td>\n",
       "      <td>1.017819</td>\n",
       "      <td>0.910169</td>\n",
       "      <td>1.016433</td>\n",
       "      <td>1.071416</td>\n",
       "      <td>1.000277</td>\n",
       "      <td>0.921039</td>\n",
       "    </tr>\n",
       "    <tr>\n",
       "      <th>20</th>\n",
       "      <td>1.006205</td>\n",
       "      <td>1.045506</td>\n",
       "      <td>1.027321</td>\n",
       "      <td>0.972813</td>\n",
       "      <td>0.908686</td>\n",
       "      <td>0.998896</td>\n",
       "      <td>1.067635</td>\n",
       "      <td>1.029915</td>\n",
       "      <td>0.929550</td>\n",
       "    </tr>\n",
       "    <tr>\n",
       "      <th>21</th>\n",
       "      <td>1.008892</td>\n",
       "      <td>0.970260</td>\n",
       "      <td>1.060962</td>\n",
       "      <td>0.956545</td>\n",
       "      <td>1.078648</td>\n",
       "      <td>0.971157</td>\n",
       "      <td>1.038393</td>\n",
       "      <td>1.054391</td>\n",
       "      <td>1.078821</td>\n",
       "    </tr>\n",
       "    <tr>\n",
       "      <th>22</th>\n",
       "      <td>1.006879</td>\n",
       "      <td>0.897131</td>\n",
       "      <td>1.026648</td>\n",
       "      <td>1.003520</td>\n",
       "      <td>1.013417</td>\n",
       "      <td>1.053577</td>\n",
       "      <td>0.986677</td>\n",
       "      <td>0.999022</td>\n",
       "      <td>1.106090</td>\n",
       "    </tr>\n",
       "    <tr>\n",
       "      <th>23</th>\n",
       "      <td>1.028826</td>\n",
       "      <td>1.062066</td>\n",
       "      <td>0.905989</td>\n",
       "      <td>0.934998</td>\n",
       "      <td>0.830909</td>\n",
       "      <td>1.062181</td>\n",
       "      <td>1.141657</td>\n",
       "      <td>1.008296</td>\n",
       "      <td>1.018311</td>\n",
       "    </tr>\n",
       "    <tr>\n",
       "      <th>24</th>\n",
       "      <td>1.021276</td>\n",
       "      <td>1.034003</td>\n",
       "      <td>0.960114</td>\n",
       "      <td>0.887912</td>\n",
       "      <td>1.029368</td>\n",
       "      <td>1.146013</td>\n",
       "      <td>1.027523</td>\n",
       "      <td>1.091605</td>\n",
       "      <td>1.110384</td>\n",
       "    </tr>\n",
       "    <tr>\n",
       "      <th>25</th>\n",
       "      <td>1.063320</td>\n",
       "      <td>0.997887</td>\n",
       "      <td>1.119816</td>\n",
       "      <td>0.926737</td>\n",
       "      <td>1.033210</td>\n",
       "      <td>1.122997</td>\n",
       "      <td>0.993438</td>\n",
       "      <td>1.007280</td>\n",
       "      <td>0.944120</td>\n",
       "    </tr>\n",
       "    <tr>\n",
       "      <th>26</th>\n",
       "      <td>1.007792</td>\n",
       "      <td>0.998864</td>\n",
       "      <td>0.981705</td>\n",
       "      <td>0.963806</td>\n",
       "      <td>0.975827</td>\n",
       "      <td>1.070026</td>\n",
       "      <td>1.059971</td>\n",
       "      <td>1.009629</td>\n",
       "      <td>0.949505</td>\n",
       "    </tr>\n",
       "    <tr>\n",
       "      <th>27</th>\n",
       "      <td>1.004773</td>\n",
       "      <td>0.995556</td>\n",
       "      <td>0.942856</td>\n",
       "      <td>0.959841</td>\n",
       "      <td>1.014750</td>\n",
       "      <td>1.077890</td>\n",
       "      <td>0.954894</td>\n",
       "      <td>1.012314</td>\n",
       "      <td>1.087914</td>\n",
       "    </tr>\n",
       "    <tr>\n",
       "      <th>28</th>\n",
       "      <td>1.013909</td>\n",
       "      <td>0.902514</td>\n",
       "      <td>1.059808</td>\n",
       "      <td>1.004969</td>\n",
       "      <td>1.008193</td>\n",
       "      <td>1.021154</td>\n",
       "      <td>1.029881</td>\n",
       "      <td>1.062475</td>\n",
       "      <td>1.052034</td>\n",
       "    </tr>\n",
       "    <tr>\n",
       "      <th>29</th>\n",
       "      <td>1.004570</td>\n",
       "      <td>0.944471</td>\n",
       "      <td>1.021876</td>\n",
       "      <td>0.994560</td>\n",
       "      <td>1.110451</td>\n",
       "      <td>1.000667</td>\n",
       "      <td>1.005280</td>\n",
       "      <td>1.014205</td>\n",
       "      <td>1.088524</td>\n",
       "    </tr>\n",
       "    <tr>\n",
       "      <th>30</th>\n",
       "      <td>0.983863</td>\n",
       "      <td>1.075659</td>\n",
       "      <td>0.991531</td>\n",
       "      <td>0.979130</td>\n",
       "      <td>0.879214</td>\n",
       "      <td>0.968307</td>\n",
       "      <td>1.062093</td>\n",
       "      <td>1.018351</td>\n",
       "      <td>1.019910</td>\n",
       "    </tr>\n",
       "    <tr>\n",
       "      <th>...</th>\n",
       "      <td>...</td>\n",
       "      <td>...</td>\n",
       "      <td>...</td>\n",
       "      <td>...</td>\n",
       "      <td>...</td>\n",
       "      <td>...</td>\n",
       "      <td>...</td>\n",
       "      <td>...</td>\n",
       "      <td>...</td>\n",
       "    </tr>\n",
       "    <tr>\n",
       "      <th>1653</th>\n",
       "      <td>0.975703</td>\n",
       "      <td>0.973175</td>\n",
       "      <td>1.009338</td>\n",
       "      <td>1.001278</td>\n",
       "      <td>0.854709</td>\n",
       "      <td>0.939163</td>\n",
       "      <td>1.060532</td>\n",
       "      <td>1.019568</td>\n",
       "      <td>0.981443</td>\n",
       "    </tr>\n",
       "    <tr>\n",
       "      <th>1654</th>\n",
       "      <td>0.975583</td>\n",
       "      <td>0.934464</td>\n",
       "      <td>1.043696</td>\n",
       "      <td>1.022910</td>\n",
       "      <td>0.984793</td>\n",
       "      <td>0.941875</td>\n",
       "      <td>1.004102</td>\n",
       "      <td>0.985958</td>\n",
       "      <td>1.061036</td>\n",
       "    </tr>\n",
       "    <tr>\n",
       "      <th>1655</th>\n",
       "      <td>0.974865</td>\n",
       "      <td>0.997132</td>\n",
       "      <td>0.985622</td>\n",
       "      <td>0.999371</td>\n",
       "      <td>1.006980</td>\n",
       "      <td>1.009202</td>\n",
       "      <td>0.990356</td>\n",
       "      <td>1.015690</td>\n",
       "      <td>1.006469</td>\n",
       "    </tr>\n",
       "    <tr>\n",
       "      <th>1656</th>\n",
       "      <td>0.943593</td>\n",
       "      <td>1.030840</td>\n",
       "      <td>0.987598</td>\n",
       "      <td>1.005309</td>\n",
       "      <td>0.989153</td>\n",
       "      <td>0.976801</td>\n",
       "      <td>1.022313</td>\n",
       "      <td>0.986025</td>\n",
       "      <td>0.988088</td>\n",
       "    </tr>\n",
       "    <tr>\n",
       "      <th>1657</th>\n",
       "      <td>0.969479</td>\n",
       "      <td>0.980601</td>\n",
       "      <td>0.988389</td>\n",
       "      <td>0.999065</td>\n",
       "      <td>1.004432</td>\n",
       "      <td>0.989344</td>\n",
       "      <td>0.994032</td>\n",
       "      <td>1.022721</td>\n",
       "      <td>1.016344</td>\n",
       "    </tr>\n",
       "    <tr>\n",
       "      <th>1658</th>\n",
       "      <td>0.931235</td>\n",
       "      <td>1.013073</td>\n",
       "      <td>0.998810</td>\n",
       "      <td>1.003088</td>\n",
       "      <td>0.978478</td>\n",
       "      <td>0.983296</td>\n",
       "      <td>0.990064</td>\n",
       "      <td>0.997768</td>\n",
       "      <td>0.939315</td>\n",
       "    </tr>\n",
       "    <tr>\n",
       "      <th>1659</th>\n",
       "      <td>0.967086</td>\n",
       "      <td>1.005640</td>\n",
       "      <td>1.013667</td>\n",
       "      <td>0.980410</td>\n",
       "      <td>0.966912</td>\n",
       "      <td>1.008804</td>\n",
       "      <td>1.026408</td>\n",
       "      <td>0.982836</td>\n",
       "      <td>1.008911</td>\n",
       "    </tr>\n",
       "    <tr>\n",
       "      <th>1660</th>\n",
       "      <td>0.967086</td>\n",
       "      <td>1.005640</td>\n",
       "      <td>1.013667</td>\n",
       "      <td>0.980410</td>\n",
       "      <td>0.966912</td>\n",
       "      <td>1.008804</td>\n",
       "      <td>1.026408</td>\n",
       "      <td>0.982836</td>\n",
       "      <td>1.008911</td>\n",
       "    </tr>\n",
       "    <tr>\n",
       "      <th>1661</th>\n",
       "      <td>0.966607</td>\n",
       "      <td>0.995829</td>\n",
       "      <td>1.033258</td>\n",
       "      <td>0.982008</td>\n",
       "      <td>1.004576</td>\n",
       "      <td>0.995267</td>\n",
       "      <td>1.003064</td>\n",
       "      <td>1.037121</td>\n",
       "      <td>1.006856</td>\n",
       "    </tr>\n",
       "    <tr>\n",
       "      <th>1662</th>\n",
       "      <td>0.955575</td>\n",
       "      <td>0.997477</td>\n",
       "      <td>0.991281</td>\n",
       "      <td>0.985771</td>\n",
       "      <td>0.977983</td>\n",
       "      <td>0.992856</td>\n",
       "      <td>0.972058</td>\n",
       "      <td>0.992428</td>\n",
       "      <td>0.982462</td>\n",
       "    </tr>\n",
       "    <tr>\n",
       "      <th>1663</th>\n",
       "      <td>0.962896</td>\n",
       "      <td>0.994734</td>\n",
       "      <td>1.003218</td>\n",
       "      <td>0.994094</td>\n",
       "      <td>1.002667</td>\n",
       "      <td>0.982288</td>\n",
       "      <td>0.983556</td>\n",
       "      <td>0.995066</td>\n",
       "      <td>0.988414</td>\n",
       "    </tr>\n",
       "    <tr>\n",
       "      <th>1664</th>\n",
       "      <td>0.917290</td>\n",
       "      <td>1.002450</td>\n",
       "      <td>0.992613</td>\n",
       "      <td>0.993752</td>\n",
       "      <td>0.992619</td>\n",
       "      <td>1.000322</td>\n",
       "      <td>1.010010</td>\n",
       "      <td>0.997462</td>\n",
       "      <td>1.006366</td>\n",
       "    </tr>\n",
       "    <tr>\n",
       "      <th>1665</th>\n",
       "      <td>0.962896</td>\n",
       "      <td>0.994734</td>\n",
       "      <td>1.003218</td>\n",
       "      <td>0.994094</td>\n",
       "      <td>1.002667</td>\n",
       "      <td>0.982288</td>\n",
       "      <td>0.983556</td>\n",
       "      <td>0.995066</td>\n",
       "      <td>0.988414</td>\n",
       "    </tr>\n",
       "    <tr>\n",
       "      <th>1666</th>\n",
       "      <td>0.962896</td>\n",
       "      <td>0.994734</td>\n",
       "      <td>1.003218</td>\n",
       "      <td>0.994094</td>\n",
       "      <td>1.002667</td>\n",
       "      <td>0.982288</td>\n",
       "      <td>0.983556</td>\n",
       "      <td>0.995066</td>\n",
       "      <td>0.988414</td>\n",
       "    </tr>\n",
       "    <tr>\n",
       "      <th>1667</th>\n",
       "      <td>0.962896</td>\n",
       "      <td>0.994734</td>\n",
       "      <td>1.003218</td>\n",
       "      <td>0.994094</td>\n",
       "      <td>1.002667</td>\n",
       "      <td>0.982288</td>\n",
       "      <td>0.983556</td>\n",
       "      <td>0.995066</td>\n",
       "      <td>0.988414</td>\n",
       "    </tr>\n",
       "    <tr>\n",
       "      <th>1668</th>\n",
       "      <td>0.962896</td>\n",
       "      <td>0.994734</td>\n",
       "      <td>1.003218</td>\n",
       "      <td>0.994094</td>\n",
       "      <td>1.002667</td>\n",
       "      <td>0.982288</td>\n",
       "      <td>0.983556</td>\n",
       "      <td>0.995066</td>\n",
       "      <td>0.988414</td>\n",
       "    </tr>\n",
       "    <tr>\n",
       "      <th>1669</th>\n",
       "      <td>0.962896</td>\n",
       "      <td>0.994734</td>\n",
       "      <td>1.003218</td>\n",
       "      <td>0.994094</td>\n",
       "      <td>1.002667</td>\n",
       "      <td>0.982288</td>\n",
       "      <td>0.983556</td>\n",
       "      <td>0.995066</td>\n",
       "      <td>0.988414</td>\n",
       "    </tr>\n",
       "    <tr>\n",
       "      <th>1670</th>\n",
       "      <td>0.962896</td>\n",
       "      <td>0.994734</td>\n",
       "      <td>1.003218</td>\n",
       "      <td>0.994094</td>\n",
       "      <td>1.002667</td>\n",
       "      <td>0.982288</td>\n",
       "      <td>0.983556</td>\n",
       "      <td>0.995066</td>\n",
       "      <td>0.988414</td>\n",
       "    </tr>\n",
       "    <tr>\n",
       "      <th>1671</th>\n",
       "      <td>0.962298</td>\n",
       "      <td>0.966208</td>\n",
       "      <td>1.017412</td>\n",
       "      <td>1.011059</td>\n",
       "      <td>1.008231</td>\n",
       "      <td>0.988276</td>\n",
       "      <td>0.985325</td>\n",
       "      <td>0.982138</td>\n",
       "      <td>0.999972</td>\n",
       "    </tr>\n",
       "    <tr>\n",
       "      <th>1672</th>\n",
       "      <td>0.933951</td>\n",
       "      <td>0.993083</td>\n",
       "      <td>0.954493</td>\n",
       "      <td>1.006833</td>\n",
       "      <td>0.959321</td>\n",
       "      <td>1.006331</td>\n",
       "      <td>0.990625</td>\n",
       "      <td>1.049151</td>\n",
       "      <td>0.997463</td>\n",
       "    </tr>\n",
       "    <tr>\n",
       "      <th>1673</th>\n",
       "      <td>0.956553</td>\n",
       "      <td>1.004013</td>\n",
       "      <td>1.007613</td>\n",
       "      <td>0.994684</td>\n",
       "      <td>1.007608</td>\n",
       "      <td>1.002904</td>\n",
       "      <td>1.007666</td>\n",
       "      <td>0.972382</td>\n",
       "      <td>0.964134</td>\n",
       "    </tr>\n",
       "    <tr>\n",
       "      <th>1674</th>\n",
       "      <td>0.955955</td>\n",
       "      <td>1.019964</td>\n",
       "      <td>1.010100</td>\n",
       "      <td>0.992199</td>\n",
       "      <td>0.991965</td>\n",
       "      <td>1.013630</td>\n",
       "      <td>1.009162</td>\n",
       "      <td>0.983472</td>\n",
       "      <td>1.005140</td>\n",
       "    </tr>\n",
       "    <tr>\n",
       "      <th>1675</th>\n",
       "      <td>0.954638</td>\n",
       "      <td>1.006150</td>\n",
       "      <td>1.011638</td>\n",
       "      <td>0.977767</td>\n",
       "      <td>0.997538</td>\n",
       "      <td>1.034484</td>\n",
       "      <td>1.000490</td>\n",
       "      <td>0.982057</td>\n",
       "      <td>1.016908</td>\n",
       "    </tr>\n",
       "    <tr>\n",
       "      <th>1676</th>\n",
       "      <td>0.954638</td>\n",
       "      <td>1.006150</td>\n",
       "      <td>1.011638</td>\n",
       "      <td>0.977767</td>\n",
       "      <td>0.997538</td>\n",
       "      <td>1.034484</td>\n",
       "      <td>1.000490</td>\n",
       "      <td>0.982057</td>\n",
       "      <td>1.016908</td>\n",
       "    </tr>\n",
       "    <tr>\n",
       "      <th>1677</th>\n",
       "      <td>0.954279</td>\n",
       "      <td>1.015852</td>\n",
       "      <td>0.971283</td>\n",
       "      <td>1.004226</td>\n",
       "      <td>0.971173</td>\n",
       "      <td>1.007763</td>\n",
       "      <td>1.011341</td>\n",
       "      <td>1.023523</td>\n",
       "      <td>0.995410</td>\n",
       "    </tr>\n",
       "    <tr>\n",
       "      <th>1678</th>\n",
       "      <td>0.953202</td>\n",
       "      <td>1.023116</td>\n",
       "      <td>0.971878</td>\n",
       "      <td>1.029616</td>\n",
       "      <td>1.009190</td>\n",
       "      <td>1.047146</td>\n",
       "      <td>0.979550</td>\n",
       "      <td>1.001289</td>\n",
       "      <td>0.973099</td>\n",
       "    </tr>\n",
       "    <tr>\n",
       "      <th>1679</th>\n",
       "      <td>0.953202</td>\n",
       "      <td>1.023116</td>\n",
       "      <td>0.971878</td>\n",
       "      <td>1.029616</td>\n",
       "      <td>1.009190</td>\n",
       "      <td>1.047146</td>\n",
       "      <td>0.979550</td>\n",
       "      <td>1.001289</td>\n",
       "      <td>0.973099</td>\n",
       "    </tr>\n",
       "    <tr>\n",
       "      <th>1680</th>\n",
       "      <td>0.953202</td>\n",
       "      <td>1.023116</td>\n",
       "      <td>0.971878</td>\n",
       "      <td>1.029616</td>\n",
       "      <td>1.009190</td>\n",
       "      <td>1.047146</td>\n",
       "      <td>0.979550</td>\n",
       "      <td>1.001289</td>\n",
       "      <td>0.973099</td>\n",
       "    </tr>\n",
       "    <tr>\n",
       "      <th>1681</th>\n",
       "      <td>0.949252</td>\n",
       "      <td>0.976322</td>\n",
       "      <td>0.980251</td>\n",
       "      <td>0.993634</td>\n",
       "      <td>0.974206</td>\n",
       "      <td>0.999450</td>\n",
       "      <td>0.986223</td>\n",
       "      <td>1.023985</td>\n",
       "      <td>0.997539</td>\n",
       "    </tr>\n",
       "    <tr>\n",
       "      <th>1682</th>\n",
       "      <td>0.946858</td>\n",
       "      <td>1.023110</td>\n",
       "      <td>0.995653</td>\n",
       "      <td>0.994605</td>\n",
       "      <td>0.977013</td>\n",
       "      <td>1.009602</td>\n",
       "      <td>1.011825</td>\n",
       "      <td>1.010948</td>\n",
       "      <td>0.996872</td>\n",
       "    </tr>\n",
       "  </tbody>\n",
       "</table>\n",
       "<p>1682 rows × 9 columns</p>\n",
       "</div>"
      ],
      "text/plain": [
       "              0         1         2         3         4         5         6  \\\n",
       "movie                                                                         \n",
       "1      0.984534  0.903329  1.117066  0.918638  1.071789  1.061918  0.971362   \n",
       "2      0.957805  0.932939  0.995835  0.937575  1.028568  1.036035  0.991368   \n",
       "3      1.013820  1.073627  0.984958  0.947655  1.024219  1.116703  1.002719   \n",
       "4      1.023088  1.000132  0.996084  0.948219  0.970763  1.127082  1.053105   \n",
       "5      1.028357  0.966646  0.948531  0.976337  1.070833  1.062106  1.020686   \n",
       "6      1.022585  1.042769  0.979856  0.981120  0.903542  0.961277  1.077269   \n",
       "7      1.081155  1.087594  1.005814  0.893142  1.012686  1.181903  1.077578   \n",
       "8      1.042985  0.955531  1.063520  0.992091  0.971959  1.016892  1.064356   \n",
       "9      1.049508  1.091803  1.068178  0.978173  0.855845  1.077530  1.015133   \n",
       "10     1.026896  1.096171  1.027011  0.964624  0.923890  1.041566  1.075551   \n",
       "11     1.068075  1.011670  0.950067  0.935032  0.996005  1.175626  1.017138   \n",
       "12     1.054275  1.023414  0.938397  0.932361  0.881758  1.139492  1.090393   \n",
       "13     1.072503  1.091852  1.044309  0.912022  0.876918  1.050246  1.120963   \n",
       "14     1.038228  1.105606  1.104819  0.989741  0.823359  1.022467  1.098423   \n",
       "15     1.030516  0.853970  1.126315  1.005015  1.079792  1.000009  0.908159   \n",
       "16     0.975299  1.015226  1.030548  0.994014  0.957656  0.964670  1.065124   \n",
       "17     1.031367  1.046859  0.926676  0.904086  0.971673  1.107252  0.980997   \n",
       "18     1.086679  1.031399  0.975037  1.002673  0.934377  0.969493  1.030213   \n",
       "19     0.985615  1.061131  1.057679  1.017819  0.910169  1.016433  1.071416   \n",
       "20     1.006205  1.045506  1.027321  0.972813  0.908686  0.998896  1.067635   \n",
       "21     1.008892  0.970260  1.060962  0.956545  1.078648  0.971157  1.038393   \n",
       "22     1.006879  0.897131  1.026648  1.003520  1.013417  1.053577  0.986677   \n",
       "23     1.028826  1.062066  0.905989  0.934998  0.830909  1.062181  1.141657   \n",
       "24     1.021276  1.034003  0.960114  0.887912  1.029368  1.146013  1.027523   \n",
       "25     1.063320  0.997887  1.119816  0.926737  1.033210  1.122997  0.993438   \n",
       "26     1.007792  0.998864  0.981705  0.963806  0.975827  1.070026  1.059971   \n",
       "27     1.004773  0.995556  0.942856  0.959841  1.014750  1.077890  0.954894   \n",
       "28     1.013909  0.902514  1.059808  1.004969  1.008193  1.021154  1.029881   \n",
       "29     1.004570  0.944471  1.021876  0.994560  1.110451  1.000667  1.005280   \n",
       "30     0.983863  1.075659  0.991531  0.979130  0.879214  0.968307  1.062093   \n",
       "...         ...       ...       ...       ...       ...       ...       ...   \n",
       "1653   0.975703  0.973175  1.009338  1.001278  0.854709  0.939163  1.060532   \n",
       "1654   0.975583  0.934464  1.043696  1.022910  0.984793  0.941875  1.004102   \n",
       "1655   0.974865  0.997132  0.985622  0.999371  1.006980  1.009202  0.990356   \n",
       "1656   0.943593  1.030840  0.987598  1.005309  0.989153  0.976801  1.022313   \n",
       "1657   0.969479  0.980601  0.988389  0.999065  1.004432  0.989344  0.994032   \n",
       "1658   0.931235  1.013073  0.998810  1.003088  0.978478  0.983296  0.990064   \n",
       "1659   0.967086  1.005640  1.013667  0.980410  0.966912  1.008804  1.026408   \n",
       "1660   0.967086  1.005640  1.013667  0.980410  0.966912  1.008804  1.026408   \n",
       "1661   0.966607  0.995829  1.033258  0.982008  1.004576  0.995267  1.003064   \n",
       "1662   0.955575  0.997477  0.991281  0.985771  0.977983  0.992856  0.972058   \n",
       "1663   0.962896  0.994734  1.003218  0.994094  1.002667  0.982288  0.983556   \n",
       "1664   0.917290  1.002450  0.992613  0.993752  0.992619  1.000322  1.010010   \n",
       "1665   0.962896  0.994734  1.003218  0.994094  1.002667  0.982288  0.983556   \n",
       "1666   0.962896  0.994734  1.003218  0.994094  1.002667  0.982288  0.983556   \n",
       "1667   0.962896  0.994734  1.003218  0.994094  1.002667  0.982288  0.983556   \n",
       "1668   0.962896  0.994734  1.003218  0.994094  1.002667  0.982288  0.983556   \n",
       "1669   0.962896  0.994734  1.003218  0.994094  1.002667  0.982288  0.983556   \n",
       "1670   0.962896  0.994734  1.003218  0.994094  1.002667  0.982288  0.983556   \n",
       "1671   0.962298  0.966208  1.017412  1.011059  1.008231  0.988276  0.985325   \n",
       "1672   0.933951  0.993083  0.954493  1.006833  0.959321  1.006331  0.990625   \n",
       "1673   0.956553  1.004013  1.007613  0.994684  1.007608  1.002904  1.007666   \n",
       "1674   0.955955  1.019964  1.010100  0.992199  0.991965  1.013630  1.009162   \n",
       "1675   0.954638  1.006150  1.011638  0.977767  0.997538  1.034484  1.000490   \n",
       "1676   0.954638  1.006150  1.011638  0.977767  0.997538  1.034484  1.000490   \n",
       "1677   0.954279  1.015852  0.971283  1.004226  0.971173  1.007763  1.011341   \n",
       "1678   0.953202  1.023116  0.971878  1.029616  1.009190  1.047146  0.979550   \n",
       "1679   0.953202  1.023116  0.971878  1.029616  1.009190  1.047146  0.979550   \n",
       "1680   0.953202  1.023116  0.971878  1.029616  1.009190  1.047146  0.979550   \n",
       "1681   0.949252  0.976322  0.980251  0.993634  0.974206  0.999450  0.986223   \n",
       "1682   0.946858  1.023110  0.995653  0.994605  0.977013  1.009602  1.011825   \n",
       "\n",
       "              7         8  \n",
       "movie                      \n",
       "1      1.028649  1.115279  \n",
       "2      1.044315  1.087666  \n",
       "3      1.069009  1.048956  \n",
       "4      1.014609  1.089215  \n",
       "5      0.960413  1.045418  \n",
       "6      1.033274  0.970165  \n",
       "7      1.101697  1.139220  \n",
       "8      0.985099  1.045352  \n",
       "9      0.961991  0.972399  \n",
       "10     1.067005  0.969838  \n",
       "11     1.034264  1.083077  \n",
       "12     1.042375  1.056190  \n",
       "13     1.037636  0.967817  \n",
       "14     1.009950  0.878615  \n",
       "15     0.957559  0.971278  \n",
       "16     1.002815  0.974200  \n",
       "17     1.070848  1.094427  \n",
       "18     1.006799  1.011438  \n",
       "19     1.000277  0.921039  \n",
       "20     1.029915  0.929550  \n",
       "21     1.054391  1.078821  \n",
       "22     0.999022  1.106090  \n",
       "23     1.008296  1.018311  \n",
       "24     1.091605  1.110384  \n",
       "25     1.007280  0.944120  \n",
       "26     1.009629  0.949505  \n",
       "27     1.012314  1.087914  \n",
       "28     1.062475  1.052034  \n",
       "29     1.014205  1.088524  \n",
       "30     1.018351  1.019910  \n",
       "...         ...       ...  \n",
       "1653   1.019568  0.981443  \n",
       "1654   0.985958  1.061036  \n",
       "1655   1.015690  1.006469  \n",
       "1656   0.986025  0.988088  \n",
       "1657   1.022721  1.016344  \n",
       "1658   0.997768  0.939315  \n",
       "1659   0.982836  1.008911  \n",
       "1660   0.982836  1.008911  \n",
       "1661   1.037121  1.006856  \n",
       "1662   0.992428  0.982462  \n",
       "1663   0.995066  0.988414  \n",
       "1664   0.997462  1.006366  \n",
       "1665   0.995066  0.988414  \n",
       "1666   0.995066  0.988414  \n",
       "1667   0.995066  0.988414  \n",
       "1668   0.995066  0.988414  \n",
       "1669   0.995066  0.988414  \n",
       "1670   0.995066  0.988414  \n",
       "1671   0.982138  0.999972  \n",
       "1672   1.049151  0.997463  \n",
       "1673   0.972382  0.964134  \n",
       "1674   0.983472  1.005140  \n",
       "1675   0.982057  1.016908  \n",
       "1676   0.982057  1.016908  \n",
       "1677   1.023523  0.995410  \n",
       "1678   1.001289  0.973099  \n",
       "1679   1.001289  0.973099  \n",
       "1680   1.001289  0.973099  \n",
       "1681   1.023985  0.997539  \n",
       "1682   1.010948  0.996872  \n",
       "\n",
       "[1682 rows x 9 columns]"
      ]
     },
     "execution_count": 50,
     "metadata": {},
     "output_type": "execute_result"
    }
   ],
   "source": [
    "corr_df"
   ]
  },
  {
   "cell_type": "code",
   "execution_count": 49,
   "metadata": {
    "collapsed": false
   },
   "outputs": [
    {
     "data": {
      "text/plain": [
       "(1682L, 9L)"
      ]
     },
     "execution_count": 49,
     "metadata": {},
     "output_type": "execute_result"
    }
   ],
   "source": [
    "corr.shape"
   ]
  },
  {
   "cell_type": "markdown",
   "metadata": {},
   "source": [
    "## Top topics for each latent feature"
   ]
  },
  {
   "cell_type": "code",
   "execution_count": 47,
   "metadata": {
    "collapsed": false
   },
   "outputs": [
    {
     "name": "stdout",
     "output_type": "stream",
     "text": [
      "TOP TOPICS FOR EACH FACTOR:\n",
      "    FACTOR 1:  crime, film-noir, documentary\n",
      "    FACTOR 2:  musical, animation, children's\n",
      "    FACTOR 3:  children's, drama, romance\n",
      "    FACTOR 4:  fantasy, children's, adventure\n",
      "    FACTOR 5:  crime, sci-fi, thriller\n",
      "    FACTOR 6:  film-noir, musical, documentary\n",
      "    FACTOR 7:  sci-fi, animation, war\n",
      "    FACTOR 8:  sci-fi, action, adventure\n"
     ]
    }
   ],
   "source": [
    "from collections import Counter\n",
    "\n",
    "print \"TOP TOPICS FOR EACH FACTOR:\"\n",
    "for i in xrange(1, 9):\n",
    "    scores = Counter()\n",
    "    for topic in ['action', 'adventure', 'animation', 'children\\'s',\n",
    "                  'comedy', 'crime', 'documentary', 'drama', 'fantasy',\n",
    "                  'film-noir', 'horror', 'musical', 'mystery', 'romance',\n",
    "                  'sci-fi', 'thriller', 'war', 'western']:\n",
    "        scores[topic] = np.dot(movies_with_corr[i], movies_with_corr[topic]) / np.sum(movies_with_corr[topic])\n",
    "    top_topics = [topic for topic, score in scores.most_common(3)]\n",
    "    print \"    FACTOR {0}:  {1}\".format(i, ', '.join(top_topics))"
   ]
  }
 ],
 "metadata": {
  "anaconda-cloud": {},
  "kernelspec": {
   "display_name": "Python 2",
   "language": "python",
   "name": "python2"
  },
  "language_info": {
   "codemirror_mode": {
    "name": "ipython",
    "version": 2
   },
   "file_extension": ".py",
   "mimetype": "text/x-python",
   "name": "python",
   "nbconvert_exporter": "python",
   "pygments_lexer": "ipython2",
   "version": "2.7.13"
  }
 },
 "nbformat": 4,
 "nbformat_minor": 1
}
