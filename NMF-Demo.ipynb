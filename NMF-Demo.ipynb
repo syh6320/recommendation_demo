{
 "cells": [
  {
   "cell_type": "markdown",
   "metadata": {},
   "source": [
    "# Non-negative Matrix Factorization\n",
    "\n",
    "BitTiger DS501\n",
    "\n",
    "Jun 2017"
   ]
  },
  {
   "cell_type": "code",
   "execution_count": 1,
   "metadata": {
    "collapsed": true
   },
   "outputs": [],
   "source": [
    "import pandas as pd\n",
    "import numpy as np\n",
    "\n",
    "%matplotlib inline"
   ]
  },
  {
   "cell_type": "markdown",
   "metadata": {},
   "source": [
    "## Review\n",
    "\n",
    "### System of Linear Equations Exact Solver\n",
    "\n",
    "$$ \\begin{bmatrix} 1 & 2 \\\\ -3 & 4 \\end{bmatrix} \\left[ \\begin{array}{c} x_1 \\\\ x_2 \\end{array} \\right] = \\left[ \\begin{array}{cc} 7 \\\\ -9 \\end{array} \\right] $$"
   ]
  },
  {
   "cell_type": "code",
   "execution_count": 3,
   "metadata": {
    "collapsed": true
   },
   "outputs": [],
   "source": [
    "from numpy.linalg import solve as linalg_solve"
   ]
  },
  {
   "cell_type": "code",
   "execution_count": 4,
   "metadata": {
    "collapsed": false
   },
   "outputs": [
    {
     "name": "stdout",
     "output_type": "stream",
     "text": [
      "[ 4.6  1.2]\n"
     ]
    }
   ],
   "source": [
    "A = np.array([[1, 2], [-3, 4]])\n",
    "b = np.array([7, -9])\n",
    "\n",
    "print linalg_solve(A, b)"
   ]
  },
  {
   "cell_type": "markdown",
   "metadata": {},
   "source": [
    "### Least Squares Solver\n",
    "\n",
    "What if we have an overdetermined system of linear equations? E.g.\n",
    "\n",
    "$$ \\begin{bmatrix} 1 & 2 \\\\ -3 & 4 \\\\ 1 & -4 \\end{bmatrix} \\left[ \\begin{array}{c} x_1 \\\\ x_2 \\end{array} \\right] = \\left[ \\begin{array}{cc} 7 \\\\ -9 \\\\ 17 \\end{array} \\right] $$\n",
    "\n",
    "An exact solution is not guaranteed, so we must do something else. Least Squares dictates that we find the $x$ that minimizes the residual sum of squares (RSS).\n",
    "\n",
    "(Note: This is the solver we use when doing Linear Regression!)"
   ]
  },
  {
   "cell_type": "code",
   "execution_count": 5,
   "metadata": {
    "collapsed": true
   },
   "outputs": [],
   "source": [
    "from numpy.linalg import lstsq as lstsq"
   ]
  },
  {
   "cell_type": "code",
   "execution_count": 6,
   "metadata": {
    "collapsed": false
   },
   "outputs": [
    {
     "name": "stdout",
     "output_type": "stream",
     "text": [
      "[ 2.88 -1.38]\n"
     ]
    }
   ],
   "source": [
    "A = np.array([[1, 2], [-3, 4], [1, -4]])\n",
    "b = np.array([7, -9, 17])\n",
    "\n",
    "print lstsq(A, b)[0]"
   ]
  },
  {
   "cell_type": "code",
   "execution_count": 7,
   "metadata": {
    "collapsed": false
   },
   "outputs": [
    {
     "data": {
      "text/plain": [
       "2"
      ]
     },
     "execution_count": 7,
     "metadata": {},
     "output_type": "execute_result"
    }
   ],
   "source": [
    "from numpy.linalg import matrix_rank\n",
    "matrix_rank(A)"
   ]
  },
  {
   "cell_type": "code",
   "execution_count": 8,
   "metadata": {
    "collapsed": false
   },
   "outputs": [
    {
     "data": {
      "text/plain": [
       "array([ 4.6,  1.2])"
      ]
     },
     "execution_count": 8,
     "metadata": {},
     "output_type": "execute_result"
    }
   ],
   "source": [
    "A_full_rank = np.array([[1, 2], [-3, 4]])\n",
    "b = np.array([7, -9])\n",
    "lstsq(A_full_rank, b)[0]"
   ]
  },
  {
   "cell_type": "markdown",
   "metadata": {},
   "source": [
    "### Non-negative Least Squares Solver\n",
    "\n",
    "What if you want to constrain the solution to be non-negative?\n",
    "\n",
    "We have optomizers for that too!"
   ]
  },
  {
   "cell_type": "code",
   "execution_count": 9,
   "metadata": {
    "collapsed": false
   },
   "outputs": [],
   "source": [
    "from scipy.optimize import nnls\n",
    "\n",
    "A = np.array([[1, 2], [-3, 4], [1, -4]])\n",
    "b = np.array([7, -9, 17])\n",
    "\n",
    "sol, res = nnls(A, b)"
   ]
  },
  {
   "cell_type": "code",
   "execution_count": 10,
   "metadata": {
    "collapsed": false,
    "scrolled": false
   },
   "outputs": [
    {
     "name": "stdout",
     "output_type": "stream",
     "text": [
      "[ 4.63636364  0.        ]\n",
      "13.5109383296\n"
     ]
    }
   ],
   "source": [
    "print sol\n",
    "print res"
   ]
  },
  {
   "cell_type": "code",
   "execution_count": 12,
   "metadata": {
    "collapsed": false
   },
   "outputs": [
    {
     "data": {
      "text/plain": [
       "array([  4.63636364, -13.90909091,   4.63636364])"
      ]
     },
     "execution_count": 12,
     "metadata": {},
     "output_type": "execute_result"
    }
   ],
   "source": [
    "np.dot(A, sol.T)"
   ]
  },
  {
   "cell_type": "markdown",
   "metadata": {},
   "source": [
    "## NMF for topic analysis\n",
    "\n",
    "### Example\n",
    "\n",
    "Let's look at users ratings of different movies. The ratings are from 1-5. A rating of 0 means the user hasn't watched the movie.\n",
    "\n",
    "|       | Matrix | Alien | StarWars | Casablanca | Titanic |\n",
    "| ----- | ------ | ----- | -------- | ---------- | ------ |\n",
    "| **Alice** |      1 |     2 |        2 |          0 |      0 |\n",
    "|   **Bob** |      3 |     5 |        5 |          0 |      0 |\n",
    "| **Cindy** |      4 |     4 |        4 |          0 |      0 |\n",
    "|   **Dan** |      5 |     5 |        5 |          0 |      0 |\n",
    "| **Emily** |      0 |     2 |        0 |          4 |      4 |\n",
    "| **Frank** |      0 |     0 |        0 |          5 |      5 |\n",
    "|  **Greg** |      0 |     1 |        0 |          2 |      2 |\n",
    "\n",
    "Note that the first three movies (Matrix, Alien, StarWars) are Sci-fi movies and the last two (Casablanca, Titanic) are Romance. We will be able to mathematically pull out these topics!"
   ]
  },
  {
   "cell_type": "code",
   "execution_count": 14,
   "metadata": {
    "collapsed": true
   },
   "outputs": [],
   "source": [
    "M = np.array([[1, 2, 2, 0, 0],\n",
    "              [3, 5, 5, 0, 0],\n",
    "              [4, 4, 4, 0, 0],\n",
    "              [5, 5, 5, 0, 0],\n",
    "              [0, 2, 0, 4, 4],\n",
    "              [0, 0, 0, 5, 5],\n",
    "              [0, 1, 0, 2, 2]])"
   ]
  },
  {
   "cell_type": "code",
   "execution_count": 16,
   "metadata": {
    "collapsed": false,
    "scrolled": true
   },
   "outputs": [],
   "source": [
    "# Compute NMF\n",
    "from sklearn.decomposition import NMF\n",
    "\n",
    "def fit_nmf(k, M):\n",
    "    nmf = NMF(n_components=k)\n",
    "    nmf.fit(M)\n",
    "    W = nmf.transform(M);\n",
    "    H = nmf.components_;\n",
    "    return nmf.reconstruction_err_\n",
    "\n",
    "error = [fit_nmf(i, M) for i in range(1,6)]\n"
   ]
  },
  {
   "cell_type": "code",
   "execution_count": 17,
   "metadata": {
    "collapsed": false
   },
   "outputs": [
    {
     "data": {
      "text/plain": [
       "<matplotlib.text.Text at 0xbb24d68>"
      ]
     },
     "execution_count": 17,
     "metadata": {},
     "output_type": "execute_result"
    },
    {
     "data": {
      "image/png": "[encoded data removed]",
      "text/plain": [
       "<matplotlib.figure.Figure at 0x9fdbd30>"
      ]
     },
     "metadata": {},
     "output_type": "display_data"
    }
   ],
   "source": [
    "import matplotlib.pyplot as plt\n",
    "plt.style.use('ggplot')\n",
    "% matplotlib inline\n",
    "\n",
    "\n",
    "plt.plot(range(1,6), error)\n",
    "plt.xlabel('k')\n",
    "plt.ylabel('Reconstruction Errror')"
   ]
  },
  {
   "cell_type": "code",
   "execution_count": 18,
   "metadata": {
    "collapsed": false,
    "scrolled": true
   },
   "outputs": [
    {
     "name": "stdout",
     "output_type": "stream",
     "text": [
      "RSS = 1.23\n",
      "[[  7.04390273e-01   0.00000000e+00   2.10081857e-01]\n",
      " [  1.73235711e+00   0.00000000e+00   6.09161864e-01]\n",
      " [  1.29421597e+00   1.81488610e-03   7.56004493e-01]\n",
      " [  1.61776997e+00   2.26860763e-03   9.45005616e-01]\n",
      " [  3.93832312e-01   1.83979442e+00   0.00000000e+00]\n",
      " [  0.00000000e+00   2.27886459e+00   0.00000000e+00]\n",
      " [  1.96916156e-01   9.19897210e-01   0.00000000e+00]]\n",
      "[[  0.00000000e+00   3.02271437e+00   1.84930723e+00   0.00000000e+00\n",
      "    0.00000000e+00]\n",
      " [  3.12575553e-05   1.97832190e-01   0.00000000e+00   2.18511960e+00\n",
      "    2.18511960e+00]\n",
      " [  5.20678354e+00   0.00000000e+00   2.31451216e+00   0.00000000e+00\n",
      "    0.00000000e+00]]\n"
     ]
    }
   ],
   "source": [
    "# Fit using 3 hidden concepts\n",
    "nmf = NMF(n_components=3)\n",
    "nmf.fit(M)\n",
    "W = nmf.transform(M);\n",
    "H = nmf.components_;\n",
    "print 'RSS = %.2f' % nmf.reconstruction_err_\n",
    "print W\n",
    "print H"
   ]
  },
  {
   "cell_type": "code",
   "execution_count": 19,
   "metadata": {
    "collapsed": false
   },
   "outputs": [
    {
     "name": "stdout",
     "output_type": "stream",
     "text": [
      "          0     1     2\n",
      "Alice  0.70  0.00  0.21\n",
      "Bob    1.73  0.00  0.61\n",
      "Cindy  1.29  0.00  0.76\n",
      "Dan    1.62  0.00  0.95\n",
      "Emily  0.39  1.84  0.00\n",
      "Frank  0.00  2.28  0.00\n",
      "Greg   0.20  0.92  0.00\n",
      "   Matrix  Alien  StarWars  Casablanca  Titanic\n",
      "0    0.00   3.02      1.85        0.00     0.00\n",
      "1    0.00   0.20      0.00        2.19     2.19\n",
      "2    5.21   0.00      2.31        0.00     0.00\n"
     ]
    }
   ],
   "source": [
    "# Make interpretable\n",
    "movies = ['Matrix','Alien','StarWars','Casablanca','Titanic']\n",
    "users = ['Alice','Bob','Cindy','Dan','Emily','Frank','Greg']\n",
    "\n",
    "W, H = (np.around(x,2) for x in (W,H))\n",
    "W = pd.DataFrame(W, index=users)\n",
    "H = pd.DataFrame(H, columns=movies)\n",
    "\n",
    "print W\n",
    "print H"
   ]
  },
  {
   "cell_type": "code",
   "execution_count": 26,
   "metadata": {
    "collapsed": false
   },
   "outputs": [
    {
     "name": "stdout",
     "output_type": "stream",
     "text": [
      "       Matrix  Alien  StarWars  Casablanca  Titanic\n",
      "Alice    1.09   2.11      1.78        0.00     0.00\n",
      "Bob      3.18   5.22      4.61        0.00     0.00\n",
      "Cindy    3.96   3.90      4.14        0.00     0.00\n",
      "Dan      4.95   4.89      5.19        0.00     0.00\n",
      "Emily    0.00   1.55      0.72        4.03     4.03\n",
      "Frank    0.00   0.46      0.00        4.99     4.99\n",
      "Greg     0.00   0.79      0.37        2.01     2.01\n",
      "       Matrix  Alien  StarWars  Casablanca  Titanic\n",
      "Alice       1      2         2           0        0\n",
      "Bob         3      5         5           0        0\n",
      "Cindy       4      4         4           0        0\n",
      "Dan         5      5         5           0        0\n",
      "Emily       0      2         0           4        4\n",
      "Frank       0      0         0           5        5\n",
      "Greg        0      1         0           2        2\n"
     ]
    }
   ],
   "source": [
    "# Verify reconstruction\n",
    "print np.around(W.dot(H),2)\n",
    "print pd.DataFrame(M, index=users, columns=movies)"
   ]
  },
  {
   "cell_type": "code",
   "execution_count": 21,
   "metadata": {
    "collapsed": false
   },
   "outputs": [
    {
     "name": "stdout",
     "output_type": "stream",
     "text": [
      "[[ -2.12142669e-01   2.35889359e-02   3.05275882e-01   2.55204195e-01\n",
      "    6.55873811e-01  -5.08333980e-01   3.27936906e-01]\n",
      " [ -5.48509647e-01   6.39541961e-02   5.32055497e-01   4.61448643e-01\n",
      "   -3.27936906e-01   2.54166990e-01  -1.63968453e-01]\n",
      " [ -4.96897235e-01   6.71052975e-02  -3.13985067e-01  -1.95838988e-01\n",
      "   -3.65915279e-01  -6.66545570e-01  -1.82957639e-01]\n",
      " [ -6.21121543e-01   8.38816219e-02  -3.92481334e-01  -2.44798735e-01\n",
      "    3.58319604e-01   4.82403058e-01   1.79159802e-01]\n",
      " [ -1.24855356e-01  -5.96778016e-01   3.95328299e-01  -5.21519583e-01\n",
      "    2.00000000e-01  -5.55111512e-17  -4.00000000e-01]\n",
      " [ -4.41332838e-02  -7.33917008e-01  -4.19213292e-01   5.32614583e-01\n",
      "   -8.88178420e-17   2.22044605e-16  -4.44089210e-17]\n",
      " [ -6.24276782e-02  -2.98389008e-01   1.97664149e-01  -2.60759791e-01\n",
      "   -4.00000000e-01  -2.77555756e-17   8.00000000e-01]]\n",
      "[ 13.83663983   9.52139961   1.6878352    1.02056846   0.        ]\n",
      "[[ -5.02352330e-01  -6.19526758e-01  -5.96967929e-01  -6.10656353e-02\n",
      "   -6.10656353e-02]\n",
      " [  9.48684921e-02  -4.59141416e-02   1.10779738e-01  -6.98791711e-01\n",
      "   -6.98791711e-01]\n",
      " [ -7.80232905e-01   6.16649691e-01   3.10944517e-02  -7.07562953e-02\n",
      "   -7.07562953e-02]\n",
      " [ -3.60386901e-01  -4.83551079e-01   7.93971206e-01   5.43569648e-02\n",
      "    5.43569648e-02]\n",
      " [  0.00000000e+00  -4.87723954e-17   4.87723954e-17  -7.07106781e-01\n",
      "    7.07106781e-01]]\n"
     ]
    }
   ],
   "source": [
    "# Compare to SVD\n",
    "from numpy.linalg import svd\n",
    "k = 3\n",
    "# Compute SVD\n",
    "U, sigma, VT = svd(M)\n",
    "print U\n",
    "print sigma\n",
    "print VT"
   ]
  },
  {
   "cell_type": "code",
   "execution_count": 22,
   "metadata": {
    "collapsed": false
   },
   "outputs": [
    {
     "name": "stdout",
     "output_type": "stream",
     "text": [
      "          0     1     2     3     4     5     6\n",
      "Alice -0.21  0.02  0.31  0.26  0.66 -0.51  0.33\n",
      "Bob   -0.55  0.06  0.53  0.46 -0.33  0.25 -0.16\n",
      "Cindy -0.50  0.07 -0.31 -0.20 -0.37 -0.67 -0.18\n",
      "Dan   -0.62  0.08 -0.39 -0.24  0.36  0.48  0.18\n",
      "Emily -0.12 -0.60  0.40 -0.52  0.20  0.00 -0.40\n",
      "Frank -0.04 -0.73 -0.42  0.53  0.00  0.00  0.00\n",
      "Greg  -0.06 -0.30  0.20 -0.26 -0.40  0.00  0.80\n",
      "[ 13.84   9.52   1.69   1.02   0.  ]\n",
      "   Matrix  Alien  StarWars  Casablanca  Titanic\n",
      "0   -0.50  -0.62     -0.60       -0.06    -0.06\n",
      "1    0.09  -0.05      0.11       -0.70    -0.70\n",
      "2   -0.78   0.62      0.03       -0.07    -0.07\n",
      "3   -0.36  -0.48      0.79        0.05     0.05\n",
      "4    0.00   0.00      0.00       -0.71     0.71\n"
     ]
    }
   ],
   "source": [
    "# Make pretty\n",
    "U, sigma, VT = (np.around(x,2) for x in (U,sigma,VT))\n",
    "U = pd.DataFrame(U, index=users)\n",
    "VT = pd.DataFrame(VT, columns=movies)\n",
    "print U\n",
    "print sigma\n",
    "print VT"
   ]
  },
  {
   "cell_type": "code",
   "execution_count": 23,
   "metadata": {
    "collapsed": false
   },
   "outputs": [
    {
     "name": "stdout",
     "output_type": "stream",
     "text": [
      "          0     1     2\n",
      "Alice -0.21  0.02  0.31\n",
      "Bob   -0.55  0.06  0.53\n",
      "Cindy -0.50  0.07 -0.31\n",
      "Dan   -0.62  0.08 -0.39\n",
      "Emily -0.12 -0.60  0.40\n",
      "Frank -0.04 -0.73 -0.42\n",
      "Greg  -0.06 -0.30  0.20\n",
      "[ 13.84   9.52   1.69]\n",
      "   Matrix  Alien  StarWars  Casablanca  Titanic\n",
      "0   -0.50  -0.62     -0.60       -0.06    -0.06\n",
      "1    0.09  -0.05      0.11       -0.70    -0.70\n",
      "2   -0.78   0.62      0.03       -0.07    -0.07\n"
     ]
    }
   ],
   "source": [
    "# Keep top two concepts\n",
    "U = U.iloc[:,:k]\n",
    "sigma = sigma[:k]\n",
    "VT = VT.iloc[:k,:]\n",
    "\n",
    "print U\n",
    "print sigma\n",
    "print VT"
   ]
  },
  {
   "cell_type": "code",
   "execution_count": 25,
   "metadata": {
    "collapsed": false,
    "scrolled": true
   },
   "outputs": [
    {
     "name": "stdout",
     "output_type": "stream",
     "text": [
      "7 5\n"
     ]
    }
   ],
   "source": [
    "m,n = M.shape\n",
    "print m, n"
   ]
  },
  {
   "cell_type": "code",
   "execution_count": 26,
   "metadata": {
    "collapsed": false
   },
   "outputs": [
    {
     "name": "stdout",
     "output_type": "stream",
     "text": [
      "          0     1     2     3     4\n",
      "Alice -0.21  0.02  0.31  0.26  0.66\n",
      "Bob   -0.55  0.06  0.53  0.46 -0.33\n",
      "Cindy -0.50  0.07 -0.31 -0.20 -0.37\n",
      "Dan   -0.62  0.08 -0.39 -0.24  0.36\n",
      "Emily -0.12 -0.60  0.40 -0.52  0.20\n",
      "Frank -0.04 -0.73 -0.42  0.53  0.00\n",
      "Greg  -0.06 -0.30  0.20 -0.26 -0.40\n",
      "[ 13.84   9.52   1.69   1.02   0.  ]\n",
      "   Matrix  Alien  StarWars  Casablanca  Titanic\n",
      "0   -0.50  -0.62     -0.60       -0.06    -0.06\n",
      "1    0.09  -0.05      0.11       -0.70    -0.70\n",
      "2   -0.78   0.62      0.03       -0.07    -0.07\n",
      "3   -0.36  -0.48      0.79        0.05     0.05\n",
      "4    0.00   0.00      0.00       -0.71     0.71\n"
     ]
    }
   ],
   "source": [
    "U, sigma, V = (np.round(x, 2) for x in svd(M, full_matrices = 0, compute_uv = 1))\n",
    "\n",
    "U = pd.DataFrame(U, index=users)\n",
    "V = pd.DataFrame(V, columns=movies)\n",
    "\n",
    "print U\n",
    "print sigma\n",
    "print V"
   ]
  },
  {
   "cell_type": "markdown",
   "metadata": {
    "collapsed": true
   },
   "source": [
    "## Interpreting Concepts\n",
    "#### Think of NMF like 'fuzzy clustering'\n",
    "- The concepts are clusters\n",
    "- Each row (document, user, etc...) can belong to more than one concept\n",
    "\n",
    "#### Top Questions:\n",
    "1. What do the concepts (clusters) mean?\n",
    "2. To which concept(s) does each user/document belong?"
   ]
  },
  {
   "cell_type": "markdown",
   "metadata": {},
   "source": [
    "#### What is concept 0?"
   ]
  },
  {
   "cell_type": "code",
   "execution_count": 27,
   "metadata": {
    "collapsed": false
   },
   "outputs": [
    {
     "data": {
      "text/html": [
       "<div>\n",
       "<style>\n",
       "    .dataframe thead tr:only-child th {\n",
       "        text-align: right;\n",
       "    }\n",
       "\n",
       "    .dataframe thead th {\n",
       "        text-align: left;\n",
       "    }\n",
       "\n",
       "    .dataframe tbody tr th {\n",
       "        vertical-align: top;\n",
       "    }\n",
       "</style>\n",
       "<table border=\"1\" class=\"dataframe\">\n",
       "  <thead>\n",
       "    <tr style=\"text-align: right;\">\n",
       "      <th></th>\n",
       "      <th>Matrix</th>\n",
       "      <th>Alien</th>\n",
       "      <th>StarWars</th>\n",
       "      <th>Casablanca</th>\n",
       "      <th>Titanic</th>\n",
       "    </tr>\n",
       "  </thead>\n",
       "  <tbody>\n",
       "    <tr>\n",
       "      <th>0</th>\n",
       "      <td>0.00</td>\n",
       "      <td>3.02</td>\n",
       "      <td>1.85</td>\n",
       "      <td>0.00</td>\n",
       "      <td>0.00</td>\n",
       "    </tr>\n",
       "    <tr>\n",
       "      <th>1</th>\n",
       "      <td>0.00</td>\n",
       "      <td>0.20</td>\n",
       "      <td>0.00</td>\n",
       "      <td>2.19</td>\n",
       "      <td>2.19</td>\n",
       "    </tr>\n",
       "    <tr>\n",
       "      <th>2</th>\n",
       "      <td>5.21</td>\n",
       "      <td>0.00</td>\n",
       "      <td>2.31</td>\n",
       "      <td>0.00</td>\n",
       "      <td>0.00</td>\n",
       "    </tr>\n",
       "  </tbody>\n",
       "</table>\n",
       "</div>"
      ],
      "text/plain": [
       "   Matrix  Alien  StarWars  Casablanca  Titanic\n",
       "0    0.00   3.02      1.85        0.00     0.00\n",
       "1    0.00   0.20      0.00        2.19     2.19\n",
       "2    5.21   0.00      2.31        0.00     0.00"
      ]
     },
     "execution_count": 27,
     "metadata": {},
     "output_type": "execute_result"
    }
   ],
   "source": [
    "H"
   ]
  },
  {
   "cell_type": "code",
   "execution_count": 28,
   "metadata": {
    "collapsed": false
   },
   "outputs": [
    {
     "name": "stdout",
     "output_type": "stream",
     "text": [
      "['Alien' 'StarWars']\n"
     ]
    }
   ],
   "source": [
    "# Top 2 movies in genre 0\n",
    "top_movies = np.array(H.iloc[0].sort_values(ascending=False).index[:2])\n",
    "print top_movies"
   ]
  },
  {
   "cell_type": "markdown",
   "metadata": {},
   "source": [
    "#### Which users align with concept 0?"
   ]
  },
  {
   "cell_type": "code",
   "execution_count": 29,
   "metadata": {
    "collapsed": false
   },
   "outputs": [
    {
     "data": {
      "text/html": [
       "<div>\n",
       "<style>\n",
       "    .dataframe thead tr:only-child th {\n",
       "        text-align: right;\n",
       "    }\n",
       "\n",
       "    .dataframe thead th {\n",
       "        text-align: left;\n",
       "    }\n",
       "\n",
       "    .dataframe tbody tr th {\n",
       "        vertical-align: top;\n",
       "    }\n",
       "</style>\n",
       "<table border=\"1\" class=\"dataframe\">\n",
       "  <thead>\n",
       "    <tr style=\"text-align: right;\">\n",
       "      <th></th>\n",
       "      <th>0</th>\n",
       "      <th>1</th>\n",
       "      <th>2</th>\n",
       "    </tr>\n",
       "  </thead>\n",
       "  <tbody>\n",
       "    <tr>\n",
       "      <th>Alice</th>\n",
       "      <td>0.70</td>\n",
       "      <td>0.00</td>\n",
       "      <td>0.21</td>\n",
       "    </tr>\n",
       "    <tr>\n",
       "      <th>Bob</th>\n",
       "      <td>1.73</td>\n",
       "      <td>0.00</td>\n",
       "      <td>0.61</td>\n",
       "    </tr>\n",
       "    <tr>\n",
       "      <th>Cindy</th>\n",
       "      <td>1.29</td>\n",
       "      <td>0.00</td>\n",
       "      <td>0.76</td>\n",
       "    </tr>\n",
       "    <tr>\n",
       "      <th>Dan</th>\n",
       "      <td>1.62</td>\n",
       "      <td>0.00</td>\n",
       "      <td>0.95</td>\n",
       "    </tr>\n",
       "    <tr>\n",
       "      <th>Emily</th>\n",
       "      <td>0.39</td>\n",
       "      <td>1.84</td>\n",
       "      <td>0.00</td>\n",
       "    </tr>\n",
       "    <tr>\n",
       "      <th>Frank</th>\n",
       "      <td>0.00</td>\n",
       "      <td>2.28</td>\n",
       "      <td>0.00</td>\n",
       "    </tr>\n",
       "    <tr>\n",
       "      <th>Greg</th>\n",
       "      <td>0.20</td>\n",
       "      <td>0.92</td>\n",
       "      <td>0.00</td>\n",
       "    </tr>\n",
       "  </tbody>\n",
       "</table>\n",
       "</div>"
      ],
      "text/plain": [
       "          0     1     2\n",
       "Alice  0.70  0.00  0.21\n",
       "Bob    1.73  0.00  0.61\n",
       "Cindy  1.29  0.00  0.76\n",
       "Dan    1.62  0.00  0.95\n",
       "Emily  0.39  1.84  0.00\n",
       "Frank  0.00  2.28  0.00\n",
       "Greg   0.20  0.92  0.00"
      ]
     },
     "execution_count": 29,
     "metadata": {},
     "output_type": "execute_result"
    }
   ],
   "source": [
    "W"
   ]
  },
  {
   "cell_type": "code",
   "execution_count": 30,
   "metadata": {
    "collapsed": false
   },
   "outputs": [
    {
     "name": "stdout",
     "output_type": "stream",
     "text": [
      "['Bob' 'Dan']\n"
     ]
    }
   ],
   "source": [
    "# Top 2 users for genre 0\n",
    "top_users = np.array(W.iloc[:,0].sort_values(ascending=False).index[:2])\n",
    "print top_users"
   ]
  },
  {
   "cell_type": "markdown",
   "metadata": {},
   "source": [
    "#### What concepts does Emily align with?"
   ]
  },
  {
   "cell_type": "code",
   "execution_count": 33,
   "metadata": {
    "collapsed": false
   },
   "outputs": [
    {
     "name": "stdout",
     "output_type": "stream",
     "text": [
      "1 genre\n"
     ]
    }
   ],
   "source": [
    "print W.loc['Emily'].sort_values(ascending = False).index[0], 'genre'"
   ]
  },
  {
   "cell_type": "markdown",
   "metadata": {},
   "source": [
    "#### What are all the movies in each concept?"
   ]
  },
  {
   "cell_type": "code",
   "execution_count": 34,
   "metadata": {
    "collapsed": false
   },
   "outputs": [
    {
     "name": "stdout",
     "output_type": "stream",
     "text": [
      "Concept 0 contains: Alien, StarWars\n",
      "Concept 1 contains: Casablanca, Titanic\n",
      "Concept 2 contains: Matrix, StarWars\n"
     ]
    }
   ],
   "source": [
    "# Number of movies in each concept\n",
    "thresh = .2  # movie is included if at least 20% of max weight\n",
    "for g in range(3):\n",
    "    all_movies = H.iloc[g,:]\n",
    "    included = H.columns[all_movies >= (thresh * all_movies.max())]\n",
    "    print \"Concept %i contains: %s\" % (g, ', '.join(included))"
   ]
  },
  {
   "cell_type": "markdown",
   "metadata": {},
   "source": [
    "#### Which users are associated with each concept?"
   ]
  },
  {
   "cell_type": "code",
   "execution_count": 35,
   "metadata": {
    "collapsed": false
   },
   "outputs": [
    {
     "name": "stdout",
     "output_type": "stream",
     "text": [
      "Concept 0 contains: Alice, Bob, Cindy, Dan, Emily\n",
      "Concept 1 contains: Emily, Frank, Greg\n",
      "Concept 2 contains: Alice, Bob, Cindy, Dan\n"
     ]
    }
   ],
   "source": [
    "# Users in each concept\n",
    "thresh = .2  # movie is included if at least 20% of max weight\n",
    "for g in range(3):\n",
    "    all_users = W.iloc[:,g]\n",
    "    included = W.index[all_users >= (thresh * all_users.max())]\n",
    "    print \"Concept %i contains: %s\" % (g, ', '.join(included))"
   ]
  },
  {
   "cell_type": "code",
   "execution_count": null,
   "metadata": {
    "collapsed": true
   },
   "outputs": [],
   "source": []
  }
 ],
 "metadata": {
  "anaconda-cloud": {},
  "kernelspec": {
   "display_name": "Python 2",
   "language": "python",
   "name": "python2"
  },
  "language_info": {
   "codemirror_mode": {
    "name": "ipython",
    "version": 2
   },
   "file_extension": ".py",
   "mimetype": "text/x-python",
   "name": "python",
   "nbconvert_exporter": "python",
   "pygments_lexer": "ipython2",
   "version": "2.7.13"
  }
 },
 "nbformat": 4,
 "nbformat_minor": 1
}
